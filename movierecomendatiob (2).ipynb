{
  "nbformat": 4,
  "nbformat_minor": 0,
  "metadata": {
    "colab": {
      "provenance": []
    },
    "kernelspec": {
      "name": "python3",
      "display_name": "Python 3"
    },
    "language_info": {
      "name": "python"
    }
  },
  "cells": [
    {
      "cell_type": "markdown",
      "source": [
        "**Movie Recomendation System**"
      ],
      "metadata": {
        "id": "tQca3qG6LPrU"
      }
    },
    {
      "cell_type": "markdown",
      "source": [
        "Objective :\n",
        "\n",
        "A movie recommendation system, or a movie recommender system, is an ML-based approach to filtering or predicting the users’ film preferences based on their past choices and behavior.\n",
        "\n",
        "The objective of movie recommendation systems is to filter and predict only those movies that a corresponding user is most likely to want to watch.According to web search results, there are different types of movie recomendation systems, such as content based, collaborative filtering, or hybrid systems. The recommendation system analyzes the past preferences of the user concerned, and then it uses this information to try to find similar movies."
      ],
      "metadata": {
        "id": "ulUZ1yzLLTeq"
      }
    },
    {
      "cell_type": "markdown",
      "source": [
        "Import Library"
      ],
      "metadata": {
        "id": "tOWFSk40Lrc0"
      }
    },
    {
      "cell_type": "code",
      "source": [
        "import pandas as pd"
      ],
      "metadata": {
        "id": "qvLFzpVSLgq0"
      },
      "execution_count": null,
      "outputs": []
    },
    {
      "cell_type": "code",
      "source": [
        "import numpy as np"
      ],
      "metadata": {
        "id": "AT0hgbWvLn7X"
      },
      "execution_count": null,
      "outputs": []
    },
    {
      "cell_type": "markdown",
      "source": [
        "Import Dataset"
      ],
      "metadata": {
        "id": "49wF_lSnLxNv"
      }
    },
    {
      "cell_type": "code",
      "source": [
        "df = pd.read_csv(r'http://raw.githubusercontent.com/YBI-Foundation/Dataset/main/Movies%20Recommendation.csv')"
      ],
      "metadata": {
        "id": "6B2gesSRL6hS"
      },
      "execution_count": 52,
      "outputs": []
    },
    {
      "cell_type": "code",
      "source": [
        "df.head()"
      ],
      "metadata": {
        "colab": {
          "base_uri": "https://localhost:8080/",
          "height": 716
        },
        "id": "QFPOdg1NMFBz",
        "outputId": "31bdb82d-b619-478f-d0d7-f4dbcbb0a484"
      },
      "execution_count": null,
      "outputs": [
        {
          "output_type": "execute_result",
          "data": {
            "text/plain": [
              "   Movie_ID      Movie_Title                       Movie_Genre Movie_Language  \\\n",
              "0         1       Four Rooms                      Crime Comedy             en   \n",
              "1         2        Star Wars  Adventure Action Science Fiction             en   \n",
              "2         3     Finding Nemo                  Animation Family             en   \n",
              "3         4     Forrest Gump              Comedy Drama Romance             en   \n",
              "4         5  American Beauty                             Drama             en   \n",
              "\n",
              "   Movie_Budget  Movie_Popularity Movie_Release_Date  Movie_Revenue  \\\n",
              "0       4000000         22.876230         09-12-1995        4300000   \n",
              "1      11000000        126.393695         25-05-1977      775398007   \n",
              "2      94000000         85.688789         30-05-2003      940335536   \n",
              "3      55000000        138.133331         06-07-1994      677945399   \n",
              "4      15000000         80.878605         15-09-1999      356296601   \n",
              "\n",
              "   Movie_Runtime  Movie_Vote  ...  \\\n",
              "0           98.0         6.5  ...   \n",
              "1          121.0         8.1  ...   \n",
              "2          100.0         7.6  ...   \n",
              "3          142.0         8.2  ...   \n",
              "4          122.0         7.9  ...   \n",
              "\n",
              "                                      Movie_Homepage  \\\n",
              "0                                                NaN   \n",
              "1  http://www.starwars.com/films/star-wars-episod...   \n",
              "2              http://movies.disney.com/finding-nemo   \n",
              "3                                                NaN   \n",
              "4                      http://www.dreamworks.com/ab/   \n",
              "\n",
              "                                      Movie_Keywords  \\\n",
              "0          hotel new year's eve witch bet hotel room   \n",
              "1        android galaxy hermit death star lightsaber   \n",
              "2  father son relationship harbor underwater fish...   \n",
              "3  vietnam veteran hippie mentally disabled runni...   \n",
              "4  male nudity female nudity adultery midlife cri...   \n",
              "\n",
              "                                      Movie_Overview  \\\n",
              "0  It's Ted the Bellhop's first night on the job....   \n",
              "1  Princess Leia is captured and held hostage by ...   \n",
              "2  Nemo, an adventurous young clownfish, is unexp...   \n",
              "3  A man with a low IQ has accomplished great thi...   \n",
              "4  Lester Burnham, a depressed suburban father in...   \n",
              "\n",
              "                              Movie_Production_House  \\\n",
              "0  [{\"name\": \"Miramax Films\", \"id\": 14}, {\"name\":...   \n",
              "1  [{\"name\": \"Lucasfilm\", \"id\": 1}, {\"name\": \"Twe...   \n",
              "2     [{\"name\": \"Pixar Animation Studios\", \"id\": 3}]   \n",
              "3          [{\"name\": \"Paramount Pictures\", \"id\": 4}]   \n",
              "4  [{\"name\": \"DreamWorks SKG\", \"id\": 27}, {\"name\"...   \n",
              "\n",
              "                            Movie_Production_Country  \\\n",
              "0  [{\"iso_3166_1\": \"US\", \"name\": \"United States o...   \n",
              "1  [{\"iso_3166_1\": \"US\", \"name\": \"United States o...   \n",
              "2  [{\"iso_3166_1\": \"US\", \"name\": \"United States o...   \n",
              "3  [{\"iso_3166_1\": \"US\", \"name\": \"United States o...   \n",
              "4  [{\"iso_3166_1\": \"US\", \"name\": \"United States o...   \n",
              "\n",
              "                      Movie_Spoken_Language  \\\n",
              "0  [{\"iso_639_1\": \"en\", \"name\": \"English\"}]   \n",
              "1  [{\"iso_639_1\": \"en\", \"name\": \"English\"}]   \n",
              "2  [{\"iso_639_1\": \"en\", \"name\": \"English\"}]   \n",
              "3  [{\"iso_639_1\": \"en\", \"name\": \"English\"}]   \n",
              "4  [{\"iso_639_1\": \"en\", \"name\": \"English\"}]   \n",
              "\n",
              "                                       Movie_Tagline  \\\n",
              "0  Twelve outrageous guests. Four scandalous requ...   \n",
              "1       A long time ago in a galaxy far, far away...   \n",
              "2  There are 3.7 trillion fish in the ocean, they...   \n",
              "3  The world will never be the same, once you've ...   \n",
              "4                                       Look closer.   \n",
              "\n",
              "                                          Movie_Cast  \\\n",
              "0  Tim Roth Antonio Banderas Jennifer Beals Madon...   \n",
              "1  Mark Hamill Harrison Ford Carrie Fisher Peter ...   \n",
              "2  Albert Brooks Ellen DeGeneres Alexander Gould ...   \n",
              "3  Tom Hanks Robin Wright Gary Sinise Mykelti Wil...   \n",
              "4  Kevin Spacey Annette Bening Thora Birch Wes Be...   \n",
              "\n",
              "                                          Movie_Crew   Movie_Director  \n",
              "0  [{'name': 'Allison Anders', 'gender': 1, 'depa...   Allison Anders  \n",
              "1  [{'name': 'George Lucas', 'gender': 2, 'depart...     George Lucas  \n",
              "2  [{'name': 'Andrew Stanton', 'gender': 2, 'depa...   Andrew Stanton  \n",
              "3  [{'name': 'Alan Silvestri', 'gender': 2, 'depa...  Robert Zemeckis  \n",
              "4  [{'name': 'Thomas Newman', 'gender': 2, 'depar...       Sam Mendes  \n",
              "\n",
              "[5 rows x 21 columns]"
            ],
            "text/html": [
              "\n",
              "\n",
              "  <div id=\"df-65cdd150-7f57-4977-94e8-414874d6396e\">\n",
              "    <div class=\"colab-df-container\">\n",
              "      <div>\n",
              "<style scoped>\n",
              "    .dataframe tbody tr th:only-of-type {\n",
              "        vertical-align: middle;\n",
              "    }\n",
              "\n",
              "    .dataframe tbody tr th {\n",
              "        vertical-align: top;\n",
              "    }\n",
              "\n",
              "    .dataframe thead th {\n",
              "        text-align: right;\n",
              "    }\n",
              "</style>\n",
              "<table border=\"1\" class=\"dataframe\">\n",
              "  <thead>\n",
              "    <tr style=\"text-align: right;\">\n",
              "      <th></th>\n",
              "      <th>Movie_ID</th>\n",
              "      <th>Movie_Title</th>\n",
              "      <th>Movie_Genre</th>\n",
              "      <th>Movie_Language</th>\n",
              "      <th>Movie_Budget</th>\n",
              "      <th>Movie_Popularity</th>\n",
              "      <th>Movie_Release_Date</th>\n",
              "      <th>Movie_Revenue</th>\n",
              "      <th>Movie_Runtime</th>\n",
              "      <th>Movie_Vote</th>\n",
              "      <th>...</th>\n",
              "      <th>Movie_Homepage</th>\n",
              "      <th>Movie_Keywords</th>\n",
              "      <th>Movie_Overview</th>\n",
              "      <th>Movie_Production_House</th>\n",
              "      <th>Movie_Production_Country</th>\n",
              "      <th>Movie_Spoken_Language</th>\n",
              "      <th>Movie_Tagline</th>\n",
              "      <th>Movie_Cast</th>\n",
              "      <th>Movie_Crew</th>\n",
              "      <th>Movie_Director</th>\n",
              "    </tr>\n",
              "  </thead>\n",
              "  <tbody>\n",
              "    <tr>\n",
              "      <th>0</th>\n",
              "      <td>1</td>\n",
              "      <td>Four Rooms</td>\n",
              "      <td>Crime Comedy</td>\n",
              "      <td>en</td>\n",
              "      <td>4000000</td>\n",
              "      <td>22.876230</td>\n",
              "      <td>09-12-1995</td>\n",
              "      <td>4300000</td>\n",
              "      <td>98.0</td>\n",
              "      <td>6.5</td>\n",
              "      <td>...</td>\n",
              "      <td>NaN</td>\n",
              "      <td>hotel new year's eve witch bet hotel room</td>\n",
              "      <td>It's Ted the Bellhop's first night on the job....</td>\n",
              "      <td>[{\"name\": \"Miramax Films\", \"id\": 14}, {\"name\":...</td>\n",
              "      <td>[{\"iso_3166_1\": \"US\", \"name\": \"United States o...</td>\n",
              "      <td>[{\"iso_639_1\": \"en\", \"name\": \"English\"}]</td>\n",
              "      <td>Twelve outrageous guests. Four scandalous requ...</td>\n",
              "      <td>Tim Roth Antonio Banderas Jennifer Beals Madon...</td>\n",
              "      <td>[{'name': 'Allison Anders', 'gender': 1, 'depa...</td>\n",
              "      <td>Allison Anders</td>\n",
              "    </tr>\n",
              "    <tr>\n",
              "      <th>1</th>\n",
              "      <td>2</td>\n",
              "      <td>Star Wars</td>\n",
              "      <td>Adventure Action Science Fiction</td>\n",
              "      <td>en</td>\n",
              "      <td>11000000</td>\n",
              "      <td>126.393695</td>\n",
              "      <td>25-05-1977</td>\n",
              "      <td>775398007</td>\n",
              "      <td>121.0</td>\n",
              "      <td>8.1</td>\n",
              "      <td>...</td>\n",
              "      <td>http://www.starwars.com/films/star-wars-episod...</td>\n",
              "      <td>android galaxy hermit death star lightsaber</td>\n",
              "      <td>Princess Leia is captured and held hostage by ...</td>\n",
              "      <td>[{\"name\": \"Lucasfilm\", \"id\": 1}, {\"name\": \"Twe...</td>\n",
              "      <td>[{\"iso_3166_1\": \"US\", \"name\": \"United States o...</td>\n",
              "      <td>[{\"iso_639_1\": \"en\", \"name\": \"English\"}]</td>\n",
              "      <td>A long time ago in a galaxy far, far away...</td>\n",
              "      <td>Mark Hamill Harrison Ford Carrie Fisher Peter ...</td>\n",
              "      <td>[{'name': 'George Lucas', 'gender': 2, 'depart...</td>\n",
              "      <td>George Lucas</td>\n",
              "    </tr>\n",
              "    <tr>\n",
              "      <th>2</th>\n",
              "      <td>3</td>\n",
              "      <td>Finding Nemo</td>\n",
              "      <td>Animation Family</td>\n",
              "      <td>en</td>\n",
              "      <td>94000000</td>\n",
              "      <td>85.688789</td>\n",
              "      <td>30-05-2003</td>\n",
              "      <td>940335536</td>\n",
              "      <td>100.0</td>\n",
              "      <td>7.6</td>\n",
              "      <td>...</td>\n",
              "      <td>http://movies.disney.com/finding-nemo</td>\n",
              "      <td>father son relationship harbor underwater fish...</td>\n",
              "      <td>Nemo, an adventurous young clownfish, is unexp...</td>\n",
              "      <td>[{\"name\": \"Pixar Animation Studios\", \"id\": 3}]</td>\n",
              "      <td>[{\"iso_3166_1\": \"US\", \"name\": \"United States o...</td>\n",
              "      <td>[{\"iso_639_1\": \"en\", \"name\": \"English\"}]</td>\n",
              "      <td>There are 3.7 trillion fish in the ocean, they...</td>\n",
              "      <td>Albert Brooks Ellen DeGeneres Alexander Gould ...</td>\n",
              "      <td>[{'name': 'Andrew Stanton', 'gender': 2, 'depa...</td>\n",
              "      <td>Andrew Stanton</td>\n",
              "    </tr>\n",
              "    <tr>\n",
              "      <th>3</th>\n",
              "      <td>4</td>\n",
              "      <td>Forrest Gump</td>\n",
              "      <td>Comedy Drama Romance</td>\n",
              "      <td>en</td>\n",
              "      <td>55000000</td>\n",
              "      <td>138.133331</td>\n",
              "      <td>06-07-1994</td>\n",
              "      <td>677945399</td>\n",
              "      <td>142.0</td>\n",
              "      <td>8.2</td>\n",
              "      <td>...</td>\n",
              "      <td>NaN</td>\n",
              "      <td>vietnam veteran hippie mentally disabled runni...</td>\n",
              "      <td>A man with a low IQ has accomplished great thi...</td>\n",
              "      <td>[{\"name\": \"Paramount Pictures\", \"id\": 4}]</td>\n",
              "      <td>[{\"iso_3166_1\": \"US\", \"name\": \"United States o...</td>\n",
              "      <td>[{\"iso_639_1\": \"en\", \"name\": \"English\"}]</td>\n",
              "      <td>The world will never be the same, once you've ...</td>\n",
              "      <td>Tom Hanks Robin Wright Gary Sinise Mykelti Wil...</td>\n",
              "      <td>[{'name': 'Alan Silvestri', 'gender': 2, 'depa...</td>\n",
              "      <td>Robert Zemeckis</td>\n",
              "    </tr>\n",
              "    <tr>\n",
              "      <th>4</th>\n",
              "      <td>5</td>\n",
              "      <td>American Beauty</td>\n",
              "      <td>Drama</td>\n",
              "      <td>en</td>\n",
              "      <td>15000000</td>\n",
              "      <td>80.878605</td>\n",
              "      <td>15-09-1999</td>\n",
              "      <td>356296601</td>\n",
              "      <td>122.0</td>\n",
              "      <td>7.9</td>\n",
              "      <td>...</td>\n",
              "      <td>http://www.dreamworks.com/ab/</td>\n",
              "      <td>male nudity female nudity adultery midlife cri...</td>\n",
              "      <td>Lester Burnham, a depressed suburban father in...</td>\n",
              "      <td>[{\"name\": \"DreamWorks SKG\", \"id\": 27}, {\"name\"...</td>\n",
              "      <td>[{\"iso_3166_1\": \"US\", \"name\": \"United States o...</td>\n",
              "      <td>[{\"iso_639_1\": \"en\", \"name\": \"English\"}]</td>\n",
              "      <td>Look closer.</td>\n",
              "      <td>Kevin Spacey Annette Bening Thora Birch Wes Be...</td>\n",
              "      <td>[{'name': 'Thomas Newman', 'gender': 2, 'depar...</td>\n",
              "      <td>Sam Mendes</td>\n",
              "    </tr>\n",
              "  </tbody>\n",
              "</table>\n",
              "<p>5 rows × 21 columns</p>\n",
              "</div>\n",
              "      <button class=\"colab-df-convert\" onclick=\"convertToInteractive('df-65cdd150-7f57-4977-94e8-414874d6396e')\"\n",
              "              title=\"Convert this dataframe to an interactive table.\"\n",
              "              style=\"display:none;\">\n",
              "\n",
              "  <svg xmlns=\"http://www.w3.org/2000/svg\" height=\"24px\"viewBox=\"0 0 24 24\"\n",
              "       width=\"24px\">\n",
              "    <path d=\"M0 0h24v24H0V0z\" fill=\"none\"/>\n",
              "    <path d=\"M18.56 5.44l.94 2.06.94-2.06 2.06-.94-2.06-.94-.94-2.06-.94 2.06-2.06.94zm-11 1L8.5 8.5l.94-2.06 2.06-.94-2.06-.94L8.5 2.5l-.94 2.06-2.06.94zm10 10l.94 2.06.94-2.06 2.06-.94-2.06-.94-.94-2.06-.94 2.06-2.06.94z\"/><path d=\"M17.41 7.96l-1.37-1.37c-.4-.4-.92-.59-1.43-.59-.52 0-1.04.2-1.43.59L10.3 9.45l-7.72 7.72c-.78.78-.78 2.05 0 2.83L4 21.41c.39.39.9.59 1.41.59.51 0 1.02-.2 1.41-.59l7.78-7.78 2.81-2.81c.8-.78.8-2.07 0-2.86zM5.41 20L4 18.59l7.72-7.72 1.47 1.35L5.41 20z\"/>\n",
              "  </svg>\n",
              "      </button>\n",
              "\n",
              "\n",
              "\n",
              "    <div id=\"df-488eb5ff-ab26-48da-8092-6ac764803d8f\">\n",
              "      <button class=\"colab-df-quickchart\" onclick=\"quickchart('df-488eb5ff-ab26-48da-8092-6ac764803d8f')\"\n",
              "              title=\"Suggest charts.\"\n",
              "              style=\"display:none;\">\n",
              "\n",
              "<svg xmlns=\"http://www.w3.org/2000/svg\" height=\"24px\"viewBox=\"0 0 24 24\"\n",
              "     width=\"24px\">\n",
              "    <g>\n",
              "        <path d=\"M19 3H5c-1.1 0-2 .9-2 2v14c0 1.1.9 2 2 2h14c1.1 0 2-.9 2-2V5c0-1.1-.9-2-2-2zM9 17H7v-7h2v7zm4 0h-2V7h2v10zm4 0h-2v-4h2v4z\"/>\n",
              "    </g>\n",
              "</svg>\n",
              "      </button>\n",
              "    </div>\n",
              "\n",
              "<style>\n",
              "  .colab-df-quickchart {\n",
              "    background-color: #E8F0FE;\n",
              "    border: none;\n",
              "    border-radius: 50%;\n",
              "    cursor: pointer;\n",
              "    display: none;\n",
              "    fill: #1967D2;\n",
              "    height: 32px;\n",
              "    padding: 0 0 0 0;\n",
              "    width: 32px;\n",
              "  }\n",
              "\n",
              "  .colab-df-quickchart:hover {\n",
              "    background-color: #E2EBFA;\n",
              "    box-shadow: 0px 1px 2px rgba(60, 64, 67, 0.3), 0px 1px 3px 1px rgba(60, 64, 67, 0.15);\n",
              "    fill: #174EA6;\n",
              "  }\n",
              "\n",
              "  [theme=dark] .colab-df-quickchart {\n",
              "    background-color: #3B4455;\n",
              "    fill: #D2E3FC;\n",
              "  }\n",
              "\n",
              "  [theme=dark] .colab-df-quickchart:hover {\n",
              "    background-color: #434B5C;\n",
              "    box-shadow: 0px 1px 3px 1px rgba(0, 0, 0, 0.15);\n",
              "    filter: drop-shadow(0px 1px 2px rgba(0, 0, 0, 0.3));\n",
              "    fill: #FFFFFF;\n",
              "  }\n",
              "</style>\n",
              "\n",
              "    <script>\n",
              "      async function quickchart(key) {\n",
              "        const containerElement = document.querySelector('#' + key);\n",
              "        const charts = await google.colab.kernel.invokeFunction(\n",
              "            'suggestCharts', [key], {});\n",
              "      }\n",
              "    </script>\n",
              "\n",
              "      <script>\n",
              "\n",
              "function displayQuickchartButton(domScope) {\n",
              "  let quickchartButtonEl =\n",
              "    domScope.querySelector('#df-488eb5ff-ab26-48da-8092-6ac764803d8f button.colab-df-quickchart');\n",
              "  quickchartButtonEl.style.display =\n",
              "    google.colab.kernel.accessAllowed ? 'block' : 'none';\n",
              "}\n",
              "\n",
              "        displayQuickchartButton(document);\n",
              "      </script>\n",
              "      <style>\n",
              "    .colab-df-container {\n",
              "      display:flex;\n",
              "      flex-wrap:wrap;\n",
              "      gap: 12px;\n",
              "    }\n",
              "\n",
              "    .colab-df-convert {\n",
              "      background-color: #E8F0FE;\n",
              "      border: none;\n",
              "      border-radius: 50%;\n",
              "      cursor: pointer;\n",
              "      display: none;\n",
              "      fill: #1967D2;\n",
              "      height: 32px;\n",
              "      padding: 0 0 0 0;\n",
              "      width: 32px;\n",
              "    }\n",
              "\n",
              "    .colab-df-convert:hover {\n",
              "      background-color: #E2EBFA;\n",
              "      box-shadow: 0px 1px 2px rgba(60, 64, 67, 0.3), 0px 1px 3px 1px rgba(60, 64, 67, 0.15);\n",
              "      fill: #174EA6;\n",
              "    }\n",
              "\n",
              "    [theme=dark] .colab-df-convert {\n",
              "      background-color: #3B4455;\n",
              "      fill: #D2E3FC;\n",
              "    }\n",
              "\n",
              "    [theme=dark] .colab-df-convert:hover {\n",
              "      background-color: #434B5C;\n",
              "      box-shadow: 0px 1px 3px 1px rgba(0, 0, 0, 0.15);\n",
              "      filter: drop-shadow(0px 1px 2px rgba(0, 0, 0, 0.3));\n",
              "      fill: #FFFFFF;\n",
              "    }\n",
              "  </style>\n",
              "\n",
              "      <script>\n",
              "        const buttonEl =\n",
              "          document.querySelector('#df-65cdd150-7f57-4977-94e8-414874d6396e button.colab-df-convert');\n",
              "        buttonEl.style.display =\n",
              "          google.colab.kernel.accessAllowed ? 'block' : 'none';\n",
              "\n",
              "        async function convertToInteractive(key) {\n",
              "          const element = document.querySelector('#df-65cdd150-7f57-4977-94e8-414874d6396e');\n",
              "          const dataTable =\n",
              "            await google.colab.kernel.invokeFunction('convertToInteractive',\n",
              "                                                     [key], {});\n",
              "          if (!dataTable) return;\n",
              "\n",
              "          const docLinkHtml = 'Like what you see? Visit the ' +\n",
              "            '<a target=\"_blank\" href=https://colab.research.google.com/notebooks/data_table.ipynb>data table notebook</a>'\n",
              "            + ' to learn more about interactive tables.';\n",
              "          element.innerHTML = '';\n",
              "          dataTable['output_type'] = 'display_data';\n",
              "          await google.colab.output.renderOutput(dataTable, element);\n",
              "          const docLink = document.createElement('div');\n",
              "          docLink.innerHTML = docLinkHtml;\n",
              "          element.appendChild(docLink);\n",
              "        }\n",
              "      </script>\n",
              "    </div>\n",
              "  </div>\n"
            ]
          },
          "metadata": {},
          "execution_count": 48
        }
      ]
    },
    {
      "cell_type": "code",
      "source": [
        "df.info()"
      ],
      "metadata": {
        "colab": {
          "base_uri": "https://localhost:8080/"
        },
        "id": "0t3pe4nfMMjx",
        "outputId": "e9850f27-4edd-40da-a8b9-2671a89b4673"
      },
      "execution_count": null,
      "outputs": [
        {
          "output_type": "stream",
          "name": "stdout",
          "text": [
            "<class 'pandas.core.frame.DataFrame'>\n",
            "RangeIndex: 4760 entries, 0 to 4759\n",
            "Data columns (total 21 columns):\n",
            " #   Column                    Non-Null Count  Dtype  \n",
            "---  ------                    --------------  -----  \n",
            " 0   Movie_ID                  4760 non-null   int64  \n",
            " 1   Movie_Title               4760 non-null   object \n",
            " 2   Movie_Genre               4760 non-null   object \n",
            " 3   Movie_Language            4760 non-null   object \n",
            " 4   Movie_Budget              4760 non-null   int64  \n",
            " 5   Movie_Popularity          4760 non-null   float64\n",
            " 6   Movie_Release_Date        4760 non-null   object \n",
            " 7   Movie_Revenue             4760 non-null   int64  \n",
            " 8   Movie_Runtime             4758 non-null   float64\n",
            " 9   Movie_Vote                4760 non-null   float64\n",
            " 10  Movie_Vote_Count          4760 non-null   int64  \n",
            " 11  Movie_Homepage            1699 non-null   object \n",
            " 12  Movie_Keywords            4373 non-null   object \n",
            " 13  Movie_Overview            4757 non-null   object \n",
            " 14  Movie_Production_House    4760 non-null   object \n",
            " 15  Movie_Production_Country  4760 non-null   object \n",
            " 16  Movie_Spoken_Language     4760 non-null   object \n",
            " 17  Movie_Tagline             3942 non-null   object \n",
            " 18  Movie_Cast                4733 non-null   object \n",
            " 19  Movie_Crew                4760 non-null   object \n",
            " 20  Movie_Director            4738 non-null   object \n",
            "dtypes: float64(3), int64(4), object(14)\n",
            "memory usage: 781.1+ KB\n"
          ]
        }
      ]
    },
    {
      "cell_type": "code",
      "source": [
        "df.shape"
      ],
      "metadata": {
        "colab": {
          "base_uri": "https://localhost:8080/"
        },
        "id": "HFFi7u0vMR3D",
        "outputId": "9c654478-9b8a-4653-c21c-0f56f6717635"
      },
      "execution_count": null,
      "outputs": [
        {
          "output_type": "execute_result",
          "data": {
            "text/plain": [
              "(4760, 21)"
            ]
          },
          "metadata": {},
          "execution_count": 33
        }
      ]
    },
    {
      "cell_type": "code",
      "source": [
        "df.columns"
      ],
      "metadata": {
        "colab": {
          "base_uri": "https://localhost:8080/"
        },
        "id": "pI7hf4LwMVQD",
        "outputId": "1d2d2c41-b61b-4aa9-8b50-7184ac6a600c"
      },
      "execution_count": null,
      "outputs": [
        {
          "output_type": "execute_result",
          "data": {
            "text/plain": [
              "Index(['Movie_ID', 'Movie_Title', 'Movie_Genre', 'Movie_Language',\n",
              "       'Movie_Budget', 'Movie_Popularity', 'Movie_Release_Date',\n",
              "       'Movie_Revenue', 'Movie_Runtime', 'Movie_Vote', 'Movie_Vote_Count',\n",
              "       'Movie_Homepage', 'Movie_Keywords', 'Movie_Overview',\n",
              "       'Movie_Production_House', 'Movie_Production_Country',\n",
              "       'Movie_Spoken_Language', 'Movie_Tagline', 'Movie_Cast', 'Movie_Crew',\n",
              "       'Movie_Director'],\n",
              "      dtype='object')"
            ]
          },
          "metadata": {},
          "execution_count": 13
        }
      ]
    },
    {
      "cell_type": "markdown",
      "source": [
        "Get feature selection"
      ],
      "metadata": {
        "id": "gGr3l9bpMb3M"
      }
    },
    {
      "cell_type": "code",
      "source": [
        "df_features = df[['Movie_Genre','Movie_Keywords','Movie_Tagline','Movie_Cast','Movie_Director']].fillna('')"
      ],
      "metadata": {
        "id": "ozU14CW2MfMG"
      },
      "execution_count": null,
      "outputs": []
    },
    {
      "cell_type": "code",
      "source": [
        "df_features.shape"
      ],
      "metadata": {
        "colab": {
          "base_uri": "https://localhost:8080/"
        },
        "id": "0ZUzRg8BMtjf",
        "outputId": "d4d249c0-bdf4-44b0-e504-e8537f8e10f6"
      },
      "execution_count": null,
      "outputs": [
        {
          "output_type": "execute_result",
          "data": {
            "text/plain": [
              "(4760, 5)"
            ]
          },
          "metadata": {},
          "execution_count": 15
        }
      ]
    },
    {
      "cell_type": "code",
      "source": [
        "df_features"
      ],
      "metadata": {
        "colab": {
          "base_uri": "https://localhost:8080/",
          "height": 623
        },
        "id": "P8kPwYzTM1gF",
        "outputId": "59173f50-1177-44de-c809-e92d2e650679"
      },
      "execution_count": null,
      "outputs": [
        {
          "output_type": "execute_result",
          "data": {
            "text/plain": [
              "                           Movie_Genre  \\\n",
              "0                         Crime Comedy   \n",
              "1     Adventure Action Science Fiction   \n",
              "2                     Animation Family   \n",
              "3                 Comedy Drama Romance   \n",
              "4                                Drama   \n",
              "...                                ...   \n",
              "4755                            Horror   \n",
              "4756               Comedy Family Drama   \n",
              "4757                    Thriller Drama   \n",
              "4758                            Family   \n",
              "4759                       Documentary   \n",
              "\n",
              "                                         Movie_Keywords  \\\n",
              "0             hotel new year's eve witch bet hotel room   \n",
              "1           android galaxy hermit death star lightsaber   \n",
              "2     father son relationship harbor underwater fish...   \n",
              "3     vietnam veteran hippie mentally disabled runni...   \n",
              "4     male nudity female nudity adultery midlife cri...   \n",
              "...                                                 ...   \n",
              "4755                                                      \n",
              "4756                                                      \n",
              "4757                     christian film sex trafficking   \n",
              "4758                                                      \n",
              "4759  music actors legendary perfomer classic hollyw...   \n",
              "\n",
              "                                          Movie_Tagline  \\\n",
              "0     Twelve outrageous guests. Four scandalous requ...   \n",
              "1          A long time ago in a galaxy far, far away...   \n",
              "2     There are 3.7 trillion fish in the ocean, they...   \n",
              "3     The world will never be the same, once you've ...   \n",
              "4                                          Look closer.   \n",
              "...                                                 ...   \n",
              "4755                The hot spot where Satan's waitin'.   \n",
              "4756           It’s better to stand out than to fit in.   \n",
              "4757           She never knew it could happen to her...   \n",
              "4758                                                      \n",
              "4759                                                      \n",
              "\n",
              "                                             Movie_Cast     Movie_Director  \n",
              "0     Tim Roth Antonio Banderas Jennifer Beals Madon...     Allison Anders  \n",
              "1     Mark Hamill Harrison Ford Carrie Fisher Peter ...       George Lucas  \n",
              "2     Albert Brooks Ellen DeGeneres Alexander Gould ...     Andrew Stanton  \n",
              "3     Tom Hanks Robin Wright Gary Sinise Mykelti Wil...    Robert Zemeckis  \n",
              "4     Kevin Spacey Annette Bening Thora Birch Wes Be...         Sam Mendes  \n",
              "...                                                 ...                ...  \n",
              "4755  Lisa Hart Carroll Michael Des Barres Paul Drak...         Pece Dingo  \n",
              "4756  Roni Akurati Brighton Sharbino Jason Lee Anjul...       Frank Lotito  \n",
              "4757  Nicole Smolen Kim Baldwin Ariana Stephens Brys...       Jaco Booyens  \n",
              "4758                                                                        \n",
              "4759                                    Tony Oppedisano  Simon Napier-Bell  \n",
              "\n",
              "[4760 rows x 5 columns]"
            ],
            "text/html": [
              "\n",
              "\n",
              "  <div id=\"df-974343de-3dab-4241-ad78-57ce72339c44\">\n",
              "    <div class=\"colab-df-container\">\n",
              "      <div>\n",
              "<style scoped>\n",
              "    .dataframe tbody tr th:only-of-type {\n",
              "        vertical-align: middle;\n",
              "    }\n",
              "\n",
              "    .dataframe tbody tr th {\n",
              "        vertical-align: top;\n",
              "    }\n",
              "\n",
              "    .dataframe thead th {\n",
              "        text-align: right;\n",
              "    }\n",
              "</style>\n",
              "<table border=\"1\" class=\"dataframe\">\n",
              "  <thead>\n",
              "    <tr style=\"text-align: right;\">\n",
              "      <th></th>\n",
              "      <th>Movie_Genre</th>\n",
              "      <th>Movie_Keywords</th>\n",
              "      <th>Movie_Tagline</th>\n",
              "      <th>Movie_Cast</th>\n",
              "      <th>Movie_Director</th>\n",
              "    </tr>\n",
              "  </thead>\n",
              "  <tbody>\n",
              "    <tr>\n",
              "      <th>0</th>\n",
              "      <td>Crime Comedy</td>\n",
              "      <td>hotel new year's eve witch bet hotel room</td>\n",
              "      <td>Twelve outrageous guests. Four scandalous requ...</td>\n",
              "      <td>Tim Roth Antonio Banderas Jennifer Beals Madon...</td>\n",
              "      <td>Allison Anders</td>\n",
              "    </tr>\n",
              "    <tr>\n",
              "      <th>1</th>\n",
              "      <td>Adventure Action Science Fiction</td>\n",
              "      <td>android galaxy hermit death star lightsaber</td>\n",
              "      <td>A long time ago in a galaxy far, far away...</td>\n",
              "      <td>Mark Hamill Harrison Ford Carrie Fisher Peter ...</td>\n",
              "      <td>George Lucas</td>\n",
              "    </tr>\n",
              "    <tr>\n",
              "      <th>2</th>\n",
              "      <td>Animation Family</td>\n",
              "      <td>father son relationship harbor underwater fish...</td>\n",
              "      <td>There are 3.7 trillion fish in the ocean, they...</td>\n",
              "      <td>Albert Brooks Ellen DeGeneres Alexander Gould ...</td>\n",
              "      <td>Andrew Stanton</td>\n",
              "    </tr>\n",
              "    <tr>\n",
              "      <th>3</th>\n",
              "      <td>Comedy Drama Romance</td>\n",
              "      <td>vietnam veteran hippie mentally disabled runni...</td>\n",
              "      <td>The world will never be the same, once you've ...</td>\n",
              "      <td>Tom Hanks Robin Wright Gary Sinise Mykelti Wil...</td>\n",
              "      <td>Robert Zemeckis</td>\n",
              "    </tr>\n",
              "    <tr>\n",
              "      <th>4</th>\n",
              "      <td>Drama</td>\n",
              "      <td>male nudity female nudity adultery midlife cri...</td>\n",
              "      <td>Look closer.</td>\n",
              "      <td>Kevin Spacey Annette Bening Thora Birch Wes Be...</td>\n",
              "      <td>Sam Mendes</td>\n",
              "    </tr>\n",
              "    <tr>\n",
              "      <th>...</th>\n",
              "      <td>...</td>\n",
              "      <td>...</td>\n",
              "      <td>...</td>\n",
              "      <td>...</td>\n",
              "      <td>...</td>\n",
              "    </tr>\n",
              "    <tr>\n",
              "      <th>4755</th>\n",
              "      <td>Horror</td>\n",
              "      <td></td>\n",
              "      <td>The hot spot where Satan's waitin'.</td>\n",
              "      <td>Lisa Hart Carroll Michael Des Barres Paul Drak...</td>\n",
              "      <td>Pece Dingo</td>\n",
              "    </tr>\n",
              "    <tr>\n",
              "      <th>4756</th>\n",
              "      <td>Comedy Family Drama</td>\n",
              "      <td></td>\n",
              "      <td>It’s better to stand out than to fit in.</td>\n",
              "      <td>Roni Akurati Brighton Sharbino Jason Lee Anjul...</td>\n",
              "      <td>Frank Lotito</td>\n",
              "    </tr>\n",
              "    <tr>\n",
              "      <th>4757</th>\n",
              "      <td>Thriller Drama</td>\n",
              "      <td>christian film sex trafficking</td>\n",
              "      <td>She never knew it could happen to her...</td>\n",
              "      <td>Nicole Smolen Kim Baldwin Ariana Stephens Brys...</td>\n",
              "      <td>Jaco Booyens</td>\n",
              "    </tr>\n",
              "    <tr>\n",
              "      <th>4758</th>\n",
              "      <td>Family</td>\n",
              "      <td></td>\n",
              "      <td></td>\n",
              "      <td></td>\n",
              "      <td></td>\n",
              "    </tr>\n",
              "    <tr>\n",
              "      <th>4759</th>\n",
              "      <td>Documentary</td>\n",
              "      <td>music actors legendary perfomer classic hollyw...</td>\n",
              "      <td></td>\n",
              "      <td>Tony Oppedisano</td>\n",
              "      <td>Simon Napier-Bell</td>\n",
              "    </tr>\n",
              "  </tbody>\n",
              "</table>\n",
              "<p>4760 rows × 5 columns</p>\n",
              "</div>\n",
              "      <button class=\"colab-df-convert\" onclick=\"convertToInteractive('df-974343de-3dab-4241-ad78-57ce72339c44')\"\n",
              "              title=\"Convert this dataframe to an interactive table.\"\n",
              "              style=\"display:none;\">\n",
              "\n",
              "  <svg xmlns=\"http://www.w3.org/2000/svg\" height=\"24px\"viewBox=\"0 0 24 24\"\n",
              "       width=\"24px\">\n",
              "    <path d=\"M0 0h24v24H0V0z\" fill=\"none\"/>\n",
              "    <path d=\"M18.56 5.44l.94 2.06.94-2.06 2.06-.94-2.06-.94-.94-2.06-.94 2.06-2.06.94zm-11 1L8.5 8.5l.94-2.06 2.06-.94-2.06-.94L8.5 2.5l-.94 2.06-2.06.94zm10 10l.94 2.06.94-2.06 2.06-.94-2.06-.94-.94-2.06-.94 2.06-2.06.94z\"/><path d=\"M17.41 7.96l-1.37-1.37c-.4-.4-.92-.59-1.43-.59-.52 0-1.04.2-1.43.59L10.3 9.45l-7.72 7.72c-.78.78-.78 2.05 0 2.83L4 21.41c.39.39.9.59 1.41.59.51 0 1.02-.2 1.41-.59l7.78-7.78 2.81-2.81c.8-.78.8-2.07 0-2.86zM5.41 20L4 18.59l7.72-7.72 1.47 1.35L5.41 20z\"/>\n",
              "  </svg>\n",
              "      </button>\n",
              "\n",
              "\n",
              "\n",
              "    <div id=\"df-d7909502-4546-4282-a1cb-250c419f30ec\">\n",
              "      <button class=\"colab-df-quickchart\" onclick=\"quickchart('df-d7909502-4546-4282-a1cb-250c419f30ec')\"\n",
              "              title=\"Suggest charts.\"\n",
              "              style=\"display:none;\">\n",
              "\n",
              "<svg xmlns=\"http://www.w3.org/2000/svg\" height=\"24px\"viewBox=\"0 0 24 24\"\n",
              "     width=\"24px\">\n",
              "    <g>\n",
              "        <path d=\"M19 3H5c-1.1 0-2 .9-2 2v14c0 1.1.9 2 2 2h14c1.1 0 2-.9 2-2V5c0-1.1-.9-2-2-2zM9 17H7v-7h2v7zm4 0h-2V7h2v10zm4 0h-2v-4h2v4z\"/>\n",
              "    </g>\n",
              "</svg>\n",
              "      </button>\n",
              "    </div>\n",
              "\n",
              "<style>\n",
              "  .colab-df-quickchart {\n",
              "    background-color: #E8F0FE;\n",
              "    border: none;\n",
              "    border-radius: 50%;\n",
              "    cursor: pointer;\n",
              "    display: none;\n",
              "    fill: #1967D2;\n",
              "    height: 32px;\n",
              "    padding: 0 0 0 0;\n",
              "    width: 32px;\n",
              "  }\n",
              "\n",
              "  .colab-df-quickchart:hover {\n",
              "    background-color: #E2EBFA;\n",
              "    box-shadow: 0px 1px 2px rgba(60, 64, 67, 0.3), 0px 1px 3px 1px rgba(60, 64, 67, 0.15);\n",
              "    fill: #174EA6;\n",
              "  }\n",
              "\n",
              "  [theme=dark] .colab-df-quickchart {\n",
              "    background-color: #3B4455;\n",
              "    fill: #D2E3FC;\n",
              "  }\n",
              "\n",
              "  [theme=dark] .colab-df-quickchart:hover {\n",
              "    background-color: #434B5C;\n",
              "    box-shadow: 0px 1px 3px 1px rgba(0, 0, 0, 0.15);\n",
              "    filter: drop-shadow(0px 1px 2px rgba(0, 0, 0, 0.3));\n",
              "    fill: #FFFFFF;\n",
              "  }\n",
              "</style>\n",
              "\n",
              "    <script>\n",
              "      async function quickchart(key) {\n",
              "        const containerElement = document.querySelector('#' + key);\n",
              "        const charts = await google.colab.kernel.invokeFunction(\n",
              "            'suggestCharts', [key], {});\n",
              "      }\n",
              "    </script>\n",
              "\n",
              "      <script>\n",
              "\n",
              "function displayQuickchartButton(domScope) {\n",
              "  let quickchartButtonEl =\n",
              "    domScope.querySelector('#df-d7909502-4546-4282-a1cb-250c419f30ec button.colab-df-quickchart');\n",
              "  quickchartButtonEl.style.display =\n",
              "    google.colab.kernel.accessAllowed ? 'block' : 'none';\n",
              "}\n",
              "\n",
              "        displayQuickchartButton(document);\n",
              "      </script>\n",
              "      <style>\n",
              "    .colab-df-container {\n",
              "      display:flex;\n",
              "      flex-wrap:wrap;\n",
              "      gap: 12px;\n",
              "    }\n",
              "\n",
              "    .colab-df-convert {\n",
              "      background-color: #E8F0FE;\n",
              "      border: none;\n",
              "      border-radius: 50%;\n",
              "      cursor: pointer;\n",
              "      display: none;\n",
              "      fill: #1967D2;\n",
              "      height: 32px;\n",
              "      padding: 0 0 0 0;\n",
              "      width: 32px;\n",
              "    }\n",
              "\n",
              "    .colab-df-convert:hover {\n",
              "      background-color: #E2EBFA;\n",
              "      box-shadow: 0px 1px 2px rgba(60, 64, 67, 0.3), 0px 1px 3px 1px rgba(60, 64, 67, 0.15);\n",
              "      fill: #174EA6;\n",
              "    }\n",
              "\n",
              "    [theme=dark] .colab-df-convert {\n",
              "      background-color: #3B4455;\n",
              "      fill: #D2E3FC;\n",
              "    }\n",
              "\n",
              "    [theme=dark] .colab-df-convert:hover {\n",
              "      background-color: #434B5C;\n",
              "      box-shadow: 0px 1px 3px 1px rgba(0, 0, 0, 0.15);\n",
              "      filter: drop-shadow(0px 1px 2px rgba(0, 0, 0, 0.3));\n",
              "      fill: #FFFFFF;\n",
              "    }\n",
              "  </style>\n",
              "\n",
              "      <script>\n",
              "        const buttonEl =\n",
              "          document.querySelector('#df-974343de-3dab-4241-ad78-57ce72339c44 button.colab-df-convert');\n",
              "        buttonEl.style.display =\n",
              "          google.colab.kernel.accessAllowed ? 'block' : 'none';\n",
              "\n",
              "        async function convertToInteractive(key) {\n",
              "          const element = document.querySelector('#df-974343de-3dab-4241-ad78-57ce72339c44');\n",
              "          const dataTable =\n",
              "            await google.colab.kernel.invokeFunction('convertToInteractive',\n",
              "                                                     [key], {});\n",
              "          if (!dataTable) return;\n",
              "\n",
              "          const docLinkHtml = 'Like what you see? Visit the ' +\n",
              "            '<a target=\"_blank\" href=https://colab.research.google.com/notebooks/data_table.ipynb>data table notebook</a>'\n",
              "            + ' to learn more about interactive tables.';\n",
              "          element.innerHTML = '';\n",
              "          dataTable['output_type'] = 'display_data';\n",
              "          await google.colab.output.renderOutput(dataTable, element);\n",
              "          const docLink = document.createElement('div');\n",
              "          docLink.innerHTML = docLinkHtml;\n",
              "          element.appendChild(docLink);\n",
              "        }\n",
              "      </script>\n",
              "    </div>\n",
              "  </div>\n"
            ]
          },
          "metadata": {},
          "execution_count": 16
        }
      ]
    },
    {
      "cell_type": "code",
      "source": [
        "X = df_features['Movie_Genre'] + ' ' + df_features['Movie_Keywords'] + ' ' + df_features['Movie_Tagline'] + ' ' + df_features['Movie_Cast'] + ' ' + df_features['Movie_Director']"
      ],
      "metadata": {
        "id": "4qDXa1O8M8Sq"
      },
      "execution_count": null,
      "outputs": []
    },
    {
      "cell_type": "code",
      "source": [
        "X"
      ],
      "metadata": {
        "colab": {
          "base_uri": "https://localhost:8080/"
        },
        "id": "-AI189LzNr7M",
        "outputId": "1cb4f497-620c-4f3e-b2fa-9330a28479d0"
      },
      "execution_count": null,
      "outputs": [
        {
          "output_type": "execute_result",
          "data": {
            "text/plain": [
              "0       Crime Comedy hotel new year's eve witch bet ho...\n",
              "1       Adventure Action Science Fiction android galax...\n",
              "2       Animation Family father son relationship harbo...\n",
              "3       Comedy Drama Romance vietnam veteran hippie me...\n",
              "4       Drama male nudity female nudity adultery midli...\n",
              "                              ...                        \n",
              "4755    Horror  The hot spot where Satan's waitin'. Li...\n",
              "4756    Comedy Family Drama  It’s better to stand out ...\n",
              "4757    Thriller Drama christian film sex trafficking ...\n",
              "4758                                           Family    \n",
              "4759    Documentary music actors legendary perfomer cl...\n",
              "Length: 4760, dtype: object"
            ]
          },
          "metadata": {},
          "execution_count": 18
        }
      ]
    },
    {
      "cell_type": "code",
      "source": [
        "X.shape"
      ],
      "metadata": {
        "colab": {
          "base_uri": "https://localhost:8080/"
        },
        "id": "7Jw48iJ8Nxnx",
        "outputId": "692719dc-4755-46dd-8f0e-774946b7ffa8"
      },
      "execution_count": null,
      "outputs": [
        {
          "output_type": "execute_result",
          "data": {
            "text/plain": [
              "(4760,)"
            ]
          },
          "metadata": {},
          "execution_count": 19
        }
      ]
    },
    {
      "cell_type": "markdown",
      "source": [
        "Feature text conversation to text"
      ],
      "metadata": {
        "id": "LAtQ-6DON2iv"
      }
    },
    {
      "cell_type": "code",
      "source": [
        "from sklearn.feature_extraction.text import TfidfVectorizer"
      ],
      "metadata": {
        "id": "j9bUSF_ZN_Nu"
      },
      "execution_count": null,
      "outputs": []
    },
    {
      "cell_type": "code",
      "source": [
        "tdidf = TfidfVectorizer()"
      ],
      "metadata": {
        "id": "wb0jq6keONpk"
      },
      "execution_count": null,
      "outputs": []
    },
    {
      "cell_type": "code",
      "source": [
        "X = tdidf.fit_transform(X)"
      ],
      "metadata": {
        "id": "MLnx8AvYOprr"
      },
      "execution_count": null,
      "outputs": []
    },
    {
      "cell_type": "code",
      "source": [
        "X.shape"
      ],
      "metadata": {
        "colab": {
          "base_uri": "https://localhost:8080/"
        },
        "id": "KeEQGKTdOyXc",
        "outputId": "fb4c4c43-30ed-4a0d-c0cf-e9520dd4bfd6"
      },
      "execution_count": null,
      "outputs": [
        {
          "output_type": "execute_result",
          "data": {
            "text/plain": [
              "(4760, 17258)"
            ]
          },
          "metadata": {},
          "execution_count": 23
        }
      ]
    },
    {
      "cell_type": "code",
      "source": [
        "print(X)"
      ],
      "metadata": {
        "colab": {
          "base_uri": "https://localhost:8080/"
        },
        "id": "kuStsHkaO3_D",
        "outputId": "ea8a947f-3cba-4b9e-8bee-750dd92ff80c"
      },
      "execution_count": null,
      "outputs": [
        {
          "output_type": "stream",
          "name": "stdout",
          "text": [
            "  (0, 617)\t0.1633382144407513\n",
            "  (0, 492)\t0.1432591540388685\n",
            "  (0, 15413)\t0.1465525095337543\n",
            "  (0, 9675)\t0.14226057295252661\n",
            "  (0, 9465)\t0.1659841367820977\n",
            "  (0, 1390)\t0.16898383612799558\n",
            "  (0, 7825)\t0.09799561597509843\n",
            "  (0, 1214)\t0.13865857545144072\n",
            "  (0, 729)\t0.13415063359531618\n",
            "  (0, 13093)\t0.1432591540388685\n",
            "  (0, 15355)\t0.10477815972666779\n",
            "  (0, 9048)\t0.0866842116160778\n",
            "  (0, 11161)\t0.06250380151644369\n",
            "  (0, 16773)\t0.17654247479915475\n",
            "  (0, 5612)\t0.08603537588547631\n",
            "  (0, 16735)\t0.10690083751525419\n",
            "  (0, 7904)\t0.13348000542112332\n",
            "  (0, 15219)\t0.09800472886453934\n",
            "  (0, 11242)\t0.07277788238484746\n",
            "  (0, 3878)\t0.11998399582562203\n",
            "  (0, 5499)\t0.11454057510303811\n",
            "  (0, 7071)\t0.19822417598406614\n",
            "  (0, 7454)\t0.14745635785412262\n",
            "  (0, 1495)\t0.19712637387361423\n",
            "  (0, 9206)\t0.15186283580984414\n",
            "  :\t:\n",
            "  (4757, 5455)\t0.12491480594769522\n",
            "  (4757, 2967)\t0.16273475835631626\n",
            "  (4757, 8464)\t0.23522565554066333\n",
            "  (4757, 6938)\t0.17088173678136628\n",
            "  (4757, 8379)\t0.17480603856721913\n",
            "  (4757, 15303)\t0.07654356007668191\n",
            "  (4757, 15384)\t0.09754322497537371\n",
            "  (4757, 7649)\t0.11479421494340192\n",
            "  (4757, 10896)\t0.14546473055066447\n",
            "  (4757, 4494)\t0.05675298448720501\n",
            "  (4758, 5238)\t1.0\n",
            "  (4759, 11264)\t0.33947721804318337\n",
            "  (4759, 11708)\t0.33947721804318337\n",
            "  (4759, 205)\t0.3237911628497312\n",
            "  (4759, 8902)\t0.3040290704566037\n",
            "  (4759, 14062)\t0.3237911628497312\n",
            "  (4759, 3058)\t0.2812896191863103\n",
            "  (4759, 7130)\t0.26419662449963793\n",
            "  (4759, 10761)\t0.3126617295732147\n",
            "  (4759, 4358)\t0.18306542312175342\n",
            "  (4759, 14051)\t0.20084315377640435\n",
            "  (4759, 5690)\t0.19534291014627303\n",
            "  (4759, 15431)\t0.19628653185946862\n",
            "  (4759, 1490)\t0.21197258705292082\n",
            "  (4759, 10666)\t0.15888268987343043\n"
          ]
        }
      ]
    },
    {
      "cell_type": "markdown",
      "source": [
        "Similarity score using cosine similarity"
      ],
      "metadata": {
        "id": "pafsXOjUO_uZ"
      }
    },
    {
      "cell_type": "code",
      "source": [
        "from sklearn.metrics.pairwise import cosine_similarity"
      ],
      "metadata": {
        "id": "MFn7sQjMPNGX"
      },
      "execution_count": null,
      "outputs": []
    },
    {
      "cell_type": "code",
      "source": [
        "Similarity_Score = cosine_similarity(X)"
      ],
      "metadata": {
        "id": "VU7pYUqiP0op"
      },
      "execution_count": null,
      "outputs": []
    },
    {
      "cell_type": "code",
      "source": [
        "Similarity_Score"
      ],
      "metadata": {
        "colab": {
          "base_uri": "https://localhost:8080/"
        },
        "id": "_UxvgtNWQCHY",
        "outputId": "2fea3689-1b51-4d62-e0e0-16c9221ed479"
      },
      "execution_count": null,
      "outputs": [
        {
          "output_type": "execute_result",
          "data": {
            "text/plain": [
              "array([[1.        , 0.01351235, 0.03570468, ..., 0.        , 0.        ,\n",
              "        0.        ],\n",
              "       [0.01351235, 1.        , 0.00806674, ..., 0.        , 0.        ,\n",
              "        0.        ],\n",
              "       [0.03570468, 0.00806674, 1.        , ..., 0.        , 0.08014876,\n",
              "        0.        ],\n",
              "       ...,\n",
              "       [0.        , 0.        , 0.        , ..., 1.        , 0.        ,\n",
              "        0.        ],\n",
              "       [0.        , 0.        , 0.08014876, ..., 0.        , 1.        ,\n",
              "        0.        ],\n",
              "       [0.        , 0.        , 0.        , ..., 0.        , 0.        ,\n",
              "        1.        ]])"
            ]
          },
          "metadata": {},
          "execution_count": 29
        }
      ]
    },
    {
      "cell_type": "code",
      "source": [
        "Similarity_Score.shape"
      ],
      "metadata": {
        "colab": {
          "base_uri": "https://localhost:8080/"
        },
        "id": "Mj_h8u3TQNET",
        "outputId": "4195d8af-c6c6-47e8-b8eb-14ed65d0fa58"
      },
      "execution_count": null,
      "outputs": [
        {
          "output_type": "execute_result",
          "data": {
            "text/plain": [
              "(4760, 4760)"
            ]
          },
          "metadata": {},
          "execution_count": 34
        }
      ]
    },
    {
      "cell_type": "markdown",
      "source": [
        "Get Movie Name as input from User and Validate for closest spelling"
      ],
      "metadata": {
        "id": "c_uvWW15QVZS"
      }
    },
    {
      "cell_type": "code",
      "source": [
        "Favourite_Movie_Name =input('Enter your favourite movie name : ')"
      ],
      "metadata": {
        "colab": {
          "base_uri": "https://localhost:8080/"
        },
        "id": "JZz_fsgnQiUl",
        "outputId": "ab0c5a37-28f4-4051-8f2c-f1f260a18b0a"
      },
      "execution_count": null,
      "outputs": [
        {
          "name": "stdout",
          "output_type": "stream",
          "text": [
            "Enter your favourite movie name : forrest gump\n"
          ]
        }
      ]
    },
    {
      "cell_type": "code",
      "source": [
        "All_Movies_Title_List = df['Movie_Title'].tolist()"
      ],
      "metadata": {
        "id": "AXQnONwMRQ24"
      },
      "execution_count": null,
      "outputs": []
    },
    {
      "cell_type": "code",
      "source": [
        "import difflib"
      ],
      "metadata": {
        "id": "cpCfZJRpSf_G"
      },
      "execution_count": null,
      "outputs": []
    },
    {
      "cell_type": "code",
      "source": [
        "Movie_Recommendation = difflib.get_close_matches(Favourite_Movie_Name, All_Movies_Title_List)\n",
        "print(Movie_Recommendation)"
      ],
      "metadata": {
        "colab": {
          "base_uri": "https://localhost:8080/"
        },
        "id": "-_sFDn3MSkId",
        "outputId": "b966a300-5d0f-4d24-8910-c0d09e72b274"
      },
      "execution_count": null,
      "outputs": [
        {
          "output_type": "stream",
          "name": "stdout",
          "text": [
            "['Forrest Gump']\n"
          ]
        }
      ]
    },
    {
      "cell_type": "code",
      "source": [
        "Close_Match = Movie_Recommendation[0]\n",
        "print(Close_Match)"
      ],
      "metadata": {
        "colab": {
          "base_uri": "https://localhost:8080/"
        },
        "id": "SwF-tHSUTYaF",
        "outputId": "1870dd2e-3413-4dc5-9202-f8bfa55d68a2"
      },
      "execution_count": null,
      "outputs": [
        {
          "output_type": "stream",
          "name": "stdout",
          "text": [
            "Forrest Gump\n"
          ]
        }
      ]
    },
    {
      "cell_type": "code",
      "source": [
        "Index_of_Close_Match_Movie = df[df.Movie_Title == Close_Match]['Movie_ID'].values[0]\n",
        "print(Index_of_Close_Match_Movie)"
      ],
      "metadata": {
        "colab": {
          "base_uri": "https://localhost:8080/"
        },
        "id": "AAlzxnBsTstr",
        "outputId": "5896dac3-e1f6-4d6c-c0e2-145228c3716f"
      },
      "execution_count": null,
      "outputs": [
        {
          "output_type": "stream",
          "name": "stdout",
          "text": [
            "4\n"
          ]
        }
      ]
    },
    {
      "cell_type": "code",
      "source": [
        "Recomendation_Score = list(enumerate(Similarity_Score[Index_of_Close_Match_Movie]))\n",
        "print(Recomendation_Score)"
      ],
      "metadata": {
        "colab": {
          "base_uri": "https://localhost:8080/"
        },
        "id": "WupY7Sp1Un4R",
        "outputId": "13ee704c-f5ec-4126-a945-f7da9a803b26"
      },
      "execution_count": null,
      "outputs": [
        {
          "output_type": "stream",
          "name": "stdout",
          "text": [
            "[(0, 0.0), (1, 0.0), (2, 0.0), (3, 0.0027090731075112796), (4, 1.0), (5, 0.00309078340831478), (6, 0.0), (7, 0.002213715463032497), (8, 0.0033466826844994095), (9, 0.0207561196070989), (10, 0.0), (11, 0.06818454687852525), (12, 0.026752023538746995), (13, 0.0), (14, 0.0), (15, 0.023530351972068604), (16, 0.0025684872685684634), (17, 0.0), (18, 0.0029549228323894733), (19, 0.002973218292485817), (20, 0.0032232611189849376), (21, 0.003295434255953661), (22, 0.0), (23, 0.039412033162218196), (24, 0.0020126853291642303), (25, 0.0211025544488799), (26, 0.003015197579741541), (27, 0.0), (28, 0.09574860046677403), (29, 0.0029345809659728087), (30, 0.0), (31, 0.0028981693415559835), (32, 0.0027023912507087512), (33, 0.0027233612070971442), (34, 0.0032066323134828634), (35, 0.0), (36, 0.0), (37, 0.0), (38, 0.0), (39, 0.0), (40, 0.0), (41, 0.0034289759621819703), (42, 0.0), (43, 0.0028285388446349967), (44, 0.002565222687958862), (45, 0.0), (46, 0.0), (47, 0.0), (48, 0.0033954774767817088), (49, 0.0), (50, 0.0), (51, 0.03979145063451897), (52, 0.019535724789392875), (53, 0.0), (54, 0.0), (55, 0.0), (56, 0.0), (57, 0.0), (58, 0.0), (59, 0.0), (60, 0.0026360968118575774), (61, 0.003042421477214704), (62, 0.0034022722022644275), (63, 0.0024525542285722874), (64, 0.0), (65, 0.0), (66, 0.0030756033391804373), (67, 0.0747999675016858), (68, 0.003268210318707222), (69, 0.0), (70, 0.024532106570576643), (71, 0.0031570110699910376), (72, 0.0), (73, 0.0), (74, 0.11095011187417546), (75, 0.0), (76, 0.014156785104565313), (77, 0.0), (78, 0.0), (79, 0.0030720054526925736), (80, 0.0), (81, 0.0), (82, 0.002338493389646906), (83, 0.0), (84, 0.0), (85, 0.00296454952232566), (86, 0.0), (87, 0.0029748290432438265), (88, 0.0), (89, 0.0), (90, 0.0), (91, 0.0), (92, 0.002711940586376901), (93, 0.0), (94, 0.0), (95, 0.0), (96, 0.0028521102371506075), (97, 0.002704326817840774), (98, 0.0030174933553232005), (99, 0.04252540320309001), (100, 0.0), (101, 0.0), (102, 0.0), (103, 0.002669120292034732), (104, 0.0031010688690136447), (105, 0.0030562401372511774), (106, 0.02474447772319863), (107, 0.003495055787992928), (108, 0.022869978846407405), (109, 0.003072277732904008), (110, 0.0), (111, 0.023698170415809402), (112, 0.0029667757875228204), (113, 0.0025341000065620587), (114, 0.0030845453314756444), (115, 0.00315101738002483), (116, 0.0029084398327536842), (117, 0.0), (118, 0.0), (119, 0.003023343088125828), (120, 0.0031781527838058124), (121, 0.03476009771079069), (122, 0.0), (123, 0.0033715228039553767), (124, 0.0028138618848177277), (125, 0.0), (126, 0.002907524334892587), (127, 0.003000542476205321), (128, 0.0), (129, 0.0021518903721206915), (130, 0.0), (131, 0.0), (132, 0.002732068540512283), (133, 0.0), (134, 0.0), (135, 0.0), (136, 0.0028457375652419154), (137, 0.0), (138, 0.07091829755270894), (139, 0.0), (140, 0.002886637383760425), (141, 0.0), (142, 0.0025496016616691005), (143, 0.0), (144, 0.0), (145, 0.0), (146, 0.0), (147, 0.017676786589778566), (148, 0.0), (149, 0.002544754800775798), (150, 0.021506276179172633), (151, 0.0), (152, 0.02133542507223325), (153, 0.0), (154, 0.04170316517484607), (155, 0.0), (156, 0.002503370898725536), (157, 0.07794723474281336), (158, 0.002764224024307915), (159, 0.0024118259330537916), (160, 0.0), (161, 0.0027699177616220937), (162, 0.0), (163, 0.03047205571151173), (164, 0.0029322800937637864), (165, 0.002663936743559683), (166, 0.002721543491205788), (167, 0.0029770207258854767), (168, 0.0), (169, 0.0030276687223248127), (170, 0.0), (171, 0.0), (172, 0.0030913857948342166), (173, 0.003229690852686095), (174, 0.0030438635937098993), (175, 0.0026021286902026615), (176, 0.0031664864717662984), (177, 0.0), (178, 0.0032417397100093517), (179, 0.0), (180, 0.0), (181, 0.0), (182, 0.04094645544785854), (183, 0.0028261953365649787), (184, 0.002713619034433422), (185, 0.0), (186, 0.0), (187, 0.0922083027962209), (188, 0.0), (189, 0.0), (190, 0.0026297310316156044), (191, 0.019602058544747197), (192, 0.003332979726263489), (193, 0.0032581624254871774), (194, 0.0024724539805261537), (195, 0.0025901964516638386), (196, 0.002588373262016094), (197, 0.0029096916093099144), (198, 0.0031266628490661335), (199, 0.0028098632504461943), (200, 0.002722933720568376), (201, 0.0), (202, 0.024816674600026376), (203, 0.002915809569572776), (204, 0.0032194442891947243), (205, 0.08340053711188597), (206, 0.0032689235997573475), (207, 0.0), (208, 0.003271635925655213), (209, 0.10255098410041187), (210, 0.003321206390405872), (211, 0.162749070080312), (212, 0.0028839175797182462), (213, 0.0028681268412127383), (214, 0.01564522693482115), (215, 0.0030274582140438493), (216, 0.003194821427127733), (217, 0.0), (218, 0.0028133715054985808), (219, 0.0), (220, 0.023227070306848355), (221, 0.0029299507876799184), (222, 0.0027123146769778886), (223, 0.07335863536354734), (224, 0.0023577398612865024), (225, 0.0), (226, 0.0204289640815896), (227, 0.026772902719112), (228, 0.0023338721322909172), (229, 0.0028729685730711127), (230, 0.021395350648837828), (231, 0.02303818132402784), (232, 0.02365442921772974), (233, 0.0), (234, 0.0), (235, 0.02306146177325056), (236, 0.0028946088511536266), (237, 0.01782369366828967), (238, 0.038574088552663297), (239, 0.0), (240, 0.0), (241, 0.0), (242, 0.032711727888854944), (243, 0.002169550510222507), (244, 0.03990644495651563), (245, 0.0), (246, 0.0032772176797694103), (247, 0.0030469463479879345), (248, 0.0), (249, 0.0027025602621918872), (250, 0.0), (251, 0.0026412576417966897), (252, 0.0027296441922269768), (253, 0.0033691957665167777), (254, 0.003396571166168923), (255, 0.00322696157436022), (256, 0.061144232726418446), (257, 0.0), (258, 0.0416289392694674), (259, 0.0), (260, 0.0), (261, 0.0), (262, 0.003237330140232629), (263, 0.0), (264, 0.0), (265, 0.0), (266, 0.0023710936884349036), (267, 0.00261149077971237), (268, 0.0027484972245572464), (269, 0.0026442335739172923), (270, 0.021368332769360916), (271, 0.03284779257700967), (272, 0.0), (273, 0.0), (274, 0.0035383152477351824), (275, 0.0), (276, 0.019264882204381512), (277, 0.0), (278, 0.0026540818919551313), (279, 0.0028848802966667843), (280, 0.0030735571855567767), (281, 0.0034788291299392552), (282, 0.003035872604749717), (283, 0.018332741937132583), (284, 0.0), (285, 0.0027909476382353194), (286, 0.03245436028482048), (287, 0.0028915359913145172), (288, 0.01904779019344125), (289, 0.0), (290, 0.11952170246310646), (291, 0.0), (292, 0.0029898299156692967), (293, 0.0021911108919430004), (294, 0.0), (295, 0.01829134496145884), (296, 0.002309604228110072), (297, 0.0), (298, 0.0), (299, 0.0), (300, 0.0), (301, 0.0), (302, 0.0), (303, 0.0), (304, 0.0), (305, 0.0), (306, 0.0), (307, 0.002890538453360167), (308, 0.0034459602973814403), (309, 0.030081263025366126), (310, 0.0), (311, 0.0), (312, 0.0), (313, 0.0), (314, 0.0), (315, 0.0), (316, 0.0), (317, 0.0026983329880587905), (318, 0.003367688475809423), (319, 0.0), (320, 0.0), (321, 0.0), (322, 0.0), (323, 0.0), (324, 0.0028402731791195555), (325, 0.0029120233515527636), (326, 0.07322221480740826), (327, 0.0), (328, 0.0), (329, 0.0029894053357207378), (330, 0.0021292708575634273), (331, 0.0), (332, 0.0), (333, 0.0), (334, 0.0), (335, 0.0), (336, 0.0), (337, 0.0199402836262785), (338, 0.020044221764970404), (339, 0.021260529542277543), (340, 0.0), (341, 0.0), (342, 0.0033569888477511306), (343, 0.0031049837267111183), (344, 0.0), (345, 0.0), (346, 0.0030620925526342246), (347, 0.0), (348, 0.003050537600736829), (349, 0.0029887762684310875), (350, 0.0033548316151597625), (351, 0.002351081637549686), (352, 0.0), (353, 0.0031297683410530276), (354, 0.0), (355, 0.0028415417145825086), (356, 0.0029394166495241513), (357, 0.002659240852073702), (358, 0.0029970873321614024), (359, 0.0028280152513221316), (360, 0.05683129009493995), (361, 0.0), (362, 0.0), (363, 0.0), (364, 0.0026511289345986155), (365, 0.0), (366, 0.0), (367, 0.0), (368, 0.0), (369, 0.0), (370, 0.02039866914234082), (371, 0.04157483404649605), (372, 0.0028712768719983176), (373, 0.002920512549577779), (374, 0.0030404016937015557), (375, 0.0), (376, 0.0), (377, 0.0031751169387052953), (378, 0.003094812364683507), (379, 0.0), (380, 0.0), (381, 0.0), (382, 0.0), (383, 0.0), (384, 0.0), (385, 0.0), (386, 0.0), (387, 0.0029063256196864215), (388, 0.0029091039193188746), (389, 0.0), (390, 0.0), (391, 0.0), (392, 0.037573185613439794), (393, 0.0), (394, 0.0), (395, 0.0033062596357799974), (396, 0.05021296740828774), (397, 0.0), (398, 0.0), (399, 0.0028554384190347315), (400, 0.00305332073831817), (401, 0.0), (402, 0.04605843806762361), (403, 0.002611947434595899), (404, 0.0), (405, 0.0), (406, 0.0031440673715847104), (407, 0.002472584226723305), (408, 0.0029135229164179276), (409, 0.0), (410, 0.0028669537618836705), (411, 0.0), (412, 0.0025175988563738744), (413, 0.023460004828025724), (414, 0.016843187266169842), (415, 0.0), (416, 0.0028239085902080317), (417, 0.0), (418, 0.0), (419, 0.003470708952467323), (420, 0.13229537918853188), (421, 0.0), (422, 0.0), (423, 0.0), (424, 0.0), (425, 0.0), (426, 0.0), (427, 0.0), (428, 0.0027821880275467454), (429, 0.0547621270141809), (430, 0.003316826260517752), (431, 0.003634223599836644), (432, 0.002621582765794561), (433, 0.0025207418369302924), (434, 0.0029153624665315264), (435, 0.0), (436, 0.003447797660422268), (437, 0.002924028713481366), (438, 0.0), (439, 0.0), (440, 0.01817122627507732), (441, 0.00254653751630851), (442, 0.002555191335533481), (443, 0.003564302897789949), (444, 0.04214011657918135), (445, 0.0026380763745232462), (446, 0.0030061384633698284), (447, 0.0031998582997950767), (448, 0.003556943570862329), (449, 0.0027870470729407485), (450, 0.003381419635473411), (451, 0.15008194118295673), (452, 0.0023209747496648002), (453, 0.0023564095853292983), (454, 0.0), (455, 0.026837398092664354), (456, 0.0032649278899522425), (457, 0.0028283368612081095), (458, 0.0034384831060575924), (459, 0.0), (460, 0.0), (461, 0.0410926382165333), (462, 0.0), (463, 0.0028559510126423392), (464, 0.0030460249816454082), (465, 0.0028133698153087394), (466, 0.003046625177923738), (467, 0.0), (468, 0.0), (469, 0.0), (470, 0.0032501295298339224), (471, 0.00287778299307074), (472, 0.003172531265111314), (473, 0.0027879616996440136), (474, 0.0), (475, 0.011422016808914227), (476, 0.003382708517850595), (477, 0.0), (478, 0.0034875999759795794), (479, 0.0030779756493921956), (480, 0.002704110228569881), (481, 0.003351278747514998), (482, 0.0032164991698947374), (483, 0.08123740930094504), (484, 0.054380830416949945), (485, 0.003302414237707761), (486, 0.0), (487, 0.0029499629626915775), (488, 0.002980695949866624), (489, 0.04524260844189434), (490, 0.003051509250041599), (491, 0.07001923775744877), (492, 0.0), (493, 0.003271876078895368), (494, 0.0), (495, 0.0027255713060246457), (496, 0.0026309275156522136), (497, 0.0), (498, 0.0), (499, 0.022235220499659838), (500, 0.0), (501, 0.0), (502, 0.0032261073258688304), (503, 0.0), (504, 0.003100237820452593), (505, 0.002927474144618082), (506, 0.0), (507, 0.110524483828572), (508, 0.0035433303552383968), (509, 0.020953179169856874), (510, 0.002463253198897944), (511, 0.0), (512, 0.0), (513, 0.04494644532682332), (514, 0.0), (515, 0.0027777283244763383), (516, 0.0), (517, 0.0), (518, 0.003612667626504753), (519, 0.0027209023909815595), (520, 0.0), (521, 0.0), (522, 0.0029913231568876805), (523, 0.036517373702650166), (524, 0.040757525259841214), (525, 0.0), (526, 0.0038750791019123093), (527, 0.002439605817956605), (528, 0.0), (529, 0.0), (530, 0.0), (531, 0.0), (532, 0.0), (533, 0.0034660415389818136), (534, 0.0030435975335077166), (535, 0.0), (536, 0.0), (537, 0.0), (538, 0.0), (539, 0.0), (540, 0.0), (541, 0.002980697515745687), (542, 0.0021609703949195267), (543, 0.06558934873392816), (544, 0.003127194417839203), (545, 0.0), (546, 0.0), (547, 0.0025981379576181744), (548, 0.0), (549, 0.0), (550, 0.024266801811738983), (551, 0.0032003901423460434), (552, 0.0), (553, 0.0), (554, 0.0), (555, 0.0), (556, 0.0), (557, 0.0), (558, 0.0028416119477965318), (559, 0.0), (560, 0.0), (561, 0.0), (562, 0.002337866694084348), (563, 0.002778756500534234), (564, 0.003228450347143619), (565, 0.0), (566, 0.0025853542263876176), (567, 0.0), (568, 0.0), (569, 0.0), (570, 0.0), (571, 0.0023759726486370027), (572, 0.0), (573, 0.0), (574, 0.0), (575, 0.0), (576, 0.023032422325656422), (577, 0.03653493066368358), (578, 0.002908412566464771), (579, 0.003123833105304749), (580, 0.05460185397980353), (581, 0.0027770280308148762), (582, 0.0), (583, 0.0), (584, 0.00318861434196994), (585, 0.0), (586, 0.018073194807843963), (587, 0.0033891037015512837), (588, 0.0032021879992491604), (589, 0.002855951301660112), (590, 0.0028402119147914085), (591, 0.0), (592, 0.01762200563979373), (593, 0.003143148623583425), (594, 0.002754399707172991), (595, 0.0), (596, 0.0034527987498963676), (597, 0.0027701307253156773), (598, 0.002871209316617951), (599, 0.0), (600, 0.0), (601, 0.0), (602, 0.0), (603, 0.0), (604, 0.002834133062522014), (605, 0.07529471364782711), (606, 0.00318214742539172), (607, 0.002374581289690878), (608, 0.002793397008270488), (609, 0.0024450603805689273), (610, 0.0), (611, 0.004951058268848837), (612, 0.0032718312622770584), (613, 0.0), (614, 0.02874293756187288), (615, 0.0), (616, 0.002568044788395758), (617, 0.04408404278924736), (618, 0.0), (619, 0.0), (620, 0.002959782383865131), (621, 0.04160292407853477), (622, 0.003274477304250819), (623, 0.003272918966814498), (624, 0.0028186720256220144), (625, 0.0), (626, 0.002611528709322606), (627, 0.00417276173003719), (628, 0.0031069528293539077), (629, 0.0), (630, 0.0), (631, 0.0031684815800124347), (632, 0.0), (633, 0.07716024503660684), (634, 0.0), (635, 0.0), (636, 0.0031121853678012326), (637, 0.003191146890223254), (638, 0.002840205290176061), (639, 0.0), (640, 0.0), (641, 0.0022067383519683765), (642, 0.002661787036587408), (643, 0.042515620899983064), (644, 0.0029274018201008193), (645, 0.02268131720982837), (646, 0.00296344225444317), (647, 0.02436585638229207), (648, 0.0), (649, 0.0), (650, 0.0), (651, 0.0029751486805818022), (652, 0.020898559374420193), (653, 0.002681169201836263), (654, 0.0), (655, 0.0028776987527020254), (656, 0.0), (657, 0.002736537043129977), (658, 0.03523664140061949), (659, 0.0028704979042642434), (660, 0.029008496533838895), (661, 0.0), (662, 0.0), (663, 0.0), (664, 0.015552514724833408), (665, 0.0), (666, 0.0), (667, 0.07765294141540965), (668, 0.0), (669, 0.002835432204144784), (670, 0.0037977400291409166), (671, 0.030010053452600056), (672, 0.0027478788198739565), (673, 0.0033628476686838717), (674, 0.0), (675, 0.04784678524588769), (676, 0.06105283829140096), (677, 0.0), (678, 0.018914572637395308), (679, 0.0), (680, 0.03418530045474371), (681, 0.0), (682, 0.0), (683, 0.003478916326515269), (684, 0.0022612459448626138), (685, 0.0), (686, 0.0), (687, 0.0), (688, 0.0034137207178429395), (689, 0.00306471251276115), (690, 0.0), (691, 0.0024906256198585796), (692, 0.025575373592918456), (693, 0.002999312556234423), (694, 0.03556520610402023), (695, 0.14057456302202861), (696, 0.0031018169961631085), (697, 0.07222472134276867), (698, 0.002915592744706695), (699, 0.019757191876365952), (700, 0.0), (701, 0.0034399342051919437), (702, 0.02055487279644988), (703, 0.0027373260694209586), (704, 0.0), (705, 0.002728155275375995), (706, 0.002447620614393434), (707, 0.0025919506294862374), (708, 0.03580141485163765), (709, 0.014528515383285149), (710, 0.05923628839283779), (711, 0.04075963036261738), (712, 0.002722585970639533), (713, 0.0), (714, 0.0), (715, 0.0034005365126228756), (716, 0.003231494474384398), (717, 0.0032136093112087), (718, 0.0), (719, 0.0024757032796575962), (720, 0.0), (721, 0.0035308759706282294), (722, 0.002768956052733381), (723, 0.0), (724, 0.0), (725, 0.0), (726, 0.0), (727, 0.0030276275113610275), (728, 0.003323723365325571), (729, 0.0034363474470236535), (730, 0.0), (731, 0.0029477883604016233), (732, 0.002750956765364553), (733, 0.0026662964100787807), (734, 0.00288602196657484), (735, 0.004207949467288376), (736, 0.0), (737, 0.003475733195577127), (738, 0.0), (739, 0.0035164008057499054), (740, 0.0020672726463154783), (741, 0.0), (742, 0.0028967100021314238), (743, 0.0031666406150580883), (744, 0.00284983292962608), (745, 0.0), (746, 0.02190276843646666), (747, 0.0), (748, 0.0), (749, 0.12618826361697272), (750, 0.003139472917720975), (751, 0.026511320400512985), (752, 0.0), (753, 0.08561853771287284), (754, 0.0), (755, 0.002994798885808818), (756, 0.0), (757, 0.03071593726147358), (758, 0.0), (759, 0.002805718618835438), (760, 0.0), (761, 0.003082072087461674), (762, 0.0), (763, 0.0), (764, 0.0), (765, 0.0), (766, 0.002851340137699352), (767, 0.0029232307739769222), (768, 0.0), (769, 0.003041272960349628), (770, 0.0), (771, 0.0), (772, 0.0), (773, 0.0), (774, 0.0031930041397380997), (775, 0.0), (776, 0.0), (777, 0.0037037562315581562), (778, 0.0), (779, 0.0), (780, 0.0), (781, 0.0), (782, 0.024038959543440763), (783, 0.003246226587689731), (784, 0.0), (785, 0.0), (786, 0.0), (787, 0.001884933874970422), (788, 0.026252569520760168), (789, 0.0), (790, 0.07633867012106106), (791, 0.0033104927499528515), (792, 0.0032779983977517043), (793, 0.0), (794, 0.0347386847557601), (795, 0.0), (796, 0.0025584225276672305), (797, 0.030331428421581957), (798, 0.0029407862923590067), (799, 0.0030041041620862212), (800, 0.002769855754729037), (801, 0.0), (802, 0.0), (803, 0.0), (804, 0.0027716717164395035), (805, 0.002849649048274125), (806, 0.053923431298705804), (807, 0.0), (808, 0.0027166962519211105), (809, 0.0), (810, 0.0), (811, 0.0), (812, 0.020773316564408662), (813, 0.003461091343287651), (814, 0.0), (815, 0.0027530971316495137), (816, 0.002508158546617267), (817, 0.0029821318403219135), (818, 0.002911221151148509), (819, 0.0), (820, 0.0), (821, 0.0), (822, 0.0), (823, 0.0035520271777044524), (824, 0.002145935481483191), (825, 0.0), (826, 0.0032865148198980465), (827, 0.0), (828, 0.0029110391783762654), (829, 0.060486594902722506), (830, 0.14291492148538537), (831, 0.014423957216141632), (832, 0.0031333347884495875), (833, 0.0351336269606063), (834, 0.03723526905581153), (835, 0.03549489384235981), (836, 0.07271993449902914), (837, 0.0), (838, 0.0028654693818586075), (839, 0.0), (840, 0.0), (841, 0.031912178544557725), (842, 0.03018832125623468), (843, 0.002534224592260674), (844, 0.00664305916097414), (845, 0.003226165359295321), (846, 0.0), (847, 0.029254128360611836), (848, 0.0031078149554881647), (849, 0.0), (850, 0.003137194296837819), (851, 0.002699605958537835), (852, 0.002947797184803191), (853, 0.002382633450343074), (854, 0.023907979878202874), (855, 0.0735727176182712), (856, 0.002750696875951578), (857, 0.003402969684925594), (858, 0.002080698914354413), (859, 0.016400421170029218), (860, 0.003570479163953759), (861, 0.0026536558041162653), (862, 0.0), (863, 0.002816851869135657), (864, 0.0031138701865760987), (865, 0.003164197269290229), (866, 0.0028647997979756915), (867, 0.025142101442798593), (868, 0.002861159084305797), (869, 0.0), (870, 0.0665350185663718), (871, 0.0031663015180470448), (872, 0.0032990455054903406), (873, 0.0), (874, 0.0026575095249443854), (875, 0.0), (876, 0.003517396424099948), (877, 0.0), (878, 0.002910624519735023), (879, 0.02613582895671884), (880, 0.003037363133726607), (881, 0.0), (882, 0.0), (883, 0.0029437145218226264), (884, 0.0032061316777036034), (885, 0.002764064064272336), (886, 0.0028890327964879803), (887, 0.0033507426587655324), (888, 0.0034153584592898187), (889, 0.003965936705611014), (890, 0.0032139220329251497), (891, 0.0), (892, 0.0), (893, 0.0), (894, 0.003052666021493186), (895, 0.0028710138109161055), (896, 0.00336643866581303), (897, 0.0031050506373664255), (898, 0.0), (899, 0.0028406780519727947), (900, 0.0028812625146412683), (901, 0.0025524260430823953), (902, 0.0), (903, 0.002888606850669971), (904, 0.0), (905, 0.0), (906, 0.0), (907, 0.002833887002332214), (908, 0.0), (909, 0.0), (910, 0.002820901850026302), (911, 0.002919471079840044), (912, 0.0), (913, 0.0), (914, 0.0), (915, 0.0), (916, 0.0), (917, 0.0027583301322132185), (918, 0.0), (919, 0.0), (920, 0.0), (921, 0.00286800838458452), (922, 0.0281061651820584), (923, 0.0029676633751233436), (924, 0.0026842303949702003), (925, 0.0035433400787784047), (926, 0.0), (927, 0.0), (928, 0.0), (929, 0.002222967834000204), (930, 0.047156886523047704), (931, 0.0), (932, 0.0), (933, 0.003147180484325616), (934, 0.023250063990437306), (935, 0.07612491028122631), (936, 0.002772740622831442), (937, 0.0036003292197858776), (938, 0.0), (939, 0.002906619502468455), (940, 0.00215668832338885), (941, 0.0028862381793638304), (942, 0.0025052493533039883), (943, 0.0), (944, 0.0028710785979003035), (945, 0.0), (946, 0.0), (947, 0.0041568836824590295), (948, 0.0), (949, 0.003665459048661973), (950, 0.040586791825206976), (951, 0.0026014619328827617), (952, 0.0033311892337119916), (953, 0.0024811796764268724), (954, 0.0), (955, 0.0), (956, 0.0), (957, 0.002813879580826577), (958, 0.032330381174145176), (959, 0.09490978459706767), (960, 0.0), (961, 0.0), (962, 0.11650587483814626), (963, 0.0028805582662344655), (964, 0.0), (965, 0.0), (966, 0.002909588844535481), (967, 0.02765825357099831), (968, 0.0027914856159644125), (969, 0.003145349908031301), (970, 0.0), (971, 0.0), (972, 0.0), (973, 0.0030360516994331274), (974, 0.0), (975, 0.0028848635211637832), (976, 0.0), (977, 0.0), (978, 0.0), (979, 0.0), (980, 0.0031849283394230128), (981, 0.08853931490355471), (982, 0.0), (983, 0.0), (984, 0.0813948256372939), (985, 0.0035251385318866794), (986, 0.0030792621020360998), (987, 0.003196294195261928), (988, 0.003060836537944524), (989, 0.0030309995748478377), (990, 0.0), (991, 0.0033078867614176554), (992, 0.0), (993, 0.0031042784858830988), (994, 0.0031316641049750227), (995, 0.016996842998823692), (996, 0.0), (997, 0.0), (998, 0.023162105554159984), (999, 0.003490558028814352), (1000, 0.002771726109342386), (1001, 0.0029370153818215074), (1002, 0.0029361488342671918), (1003, 0.20626164319372514), (1004, 0.018313365053107267), (1005, 0.0023554239069205896), (1006, 0.003219500299742251), (1007, 0.003244173454066806), (1008, 0.0), (1009, 0.022223841070108608), (1010, 0.0), (1011, 0.0), (1012, 0.0), (1013, 0.023214135649777652), (1014, 0.0), (1015, 0.0033311393722048515), (1016, 0.0), (1017, 0.0029952682251697532), (1018, 0.0), (1019, 0.005848502979922553), (1020, 0.0029564667902042285), (1021, 0.09700513681335225), (1022, 0.0), (1023, 0.003463946249869421), (1024, 0.0), (1025, 0.0), (1026, 0.0030239089384323866), (1027, 0.0029467393309579384), (1028, 0.0), (1029, 0.02122489573530211), (1030, 0.002982974978518563), (1031, 0.030900487340055804), (1032, 0.00291060539102741), (1033, 0.0029538065869912245), (1034, 0.0029511257226625103), (1035, 0.0029937120692633506), (1036, 0.0029064197071388275), (1037, 0.002506780975339769), (1038, 0.0), (1039, 0.0), (1040, 0.002406873166806821), (1041, 0.0028926337890365092), (1042, 0.002573714824705367), (1043, 0.0033675679993829867), (1044, 0.0029852253095982283), (1045, 0.0), (1046, 0.0), (1047, 0.0), (1048, 0.003202303935506154), (1049, 0.0036540870579781404), (1050, 0.0026253037544721703), (1051, 0.0), (1052, 0.025709315731481344), (1053, 0.03266349422779805), (1054, 0.0), (1055, 0.022543522989514172), (1056, 0.0), (1057, 0.0), (1058, 0.02126595415685372), (1059, 0.0030504127199312272), (1060, 0.0029732356198939156), (1061, 0.0), (1062, 0.018754042767287957), (1063, 0.0), (1064, 0.07629641114348262), (1065, 0.025382101348203984), (1066, 0.0), (1067, 0.05368419814677988), (1068, 0.0), (1069, 0.0), (1070, 0.0), (1071, 0.003288557141520376), (1072, 0.0030521951652171288), (1073, 0.0), (1074, 0.040918243088633996), (1075, 0.003246264126418796), (1076, 0.0), (1077, 0.003148217862389205), (1078, 0.002566315488256862), (1079, 0.002833832766434788), (1080, 0.002774169774060401), (1081, 0.0), (1082, 0.0), (1083, 0.003206291583995331), (1084, 0.08384758862485281), (1085, 0.0), (1086, 0.0), (1087, 0.0031329297340876483), (1088, 0.002634286287281359), (1089, 0.0), (1090, 0.03044284029253438), (1091, 0.031817523835954625), (1092, 0.0), (1093, 0.0), (1094, 0.0), (1095, 0.0), (1096, 0.0029979880286499817), (1097, 0.06976843113343896), (1098, 0.0025128755950578115), (1099, 0.0), (1100, 0.003030613651823265), (1101, 0.0), (1102, 0.0030584407951235637), (1103, 0.0), (1104, 0.0), (1105, 0.0), (1106, 0.06764104870450557), (1107, 0.0028671579029256895), (1108, 0.01770302142451097), (1109, 0.0678892344188327), (1110, 0.0030290293543082853), (1111, 0.0), (1112, 0.0030692927745944428), (1113, 0.0), (1114, 0.0028383608520099), (1115, 0.0), (1116, 0.0), (1117, 0.0029603678683685903), (1118, 0.0), (1119, 0.003290136368180102), (1120, 0.03015673484486142), (1121, 0.003860779160210806), (1122, 0.003137360754776809), (1123, 0.0029287371618760823), (1124, 0.0031948553124713846), (1125, 0.0), (1126, 0.0), (1127, 0.0), (1128, 0.0), (1129, 0.0), (1130, 0.0), (1131, 0.0030918986174622277), (1132, 0.0598492707170365), (1133, 0.0), (1134, 0.020217556748885715), (1135, 0.02081365487035875), (1136, 0.0027016044506604875), (1137, 0.0), (1138, 0.003117268300260916), (1139, 0.02322190835083916), (1140, 0.0032995599625006557), (1141, 0.003293235426656934), (1142, 0.0), (1143, 0.0), (1144, 0.002456868998631842), (1145, 0.004261284429778967), (1146, 0.0), (1147, 0.0), (1148, 0.00347934655797735), (1149, 0.0), (1150, 0.0), (1151, 0.0), (1152, 0.0), (1153, 0.0), (1154, 0.0), (1155, 0.0), (1156, 0.0), (1157, 0.0), (1158, 0.0), (1159, 0.0), (1160, 0.002924962064236045), (1161, 0.002781747825580798), (1162, 0.0), (1163, 0.003076183073795321), (1164, 0.0), (1165, 0.0), (1166, 0.0), (1167, 0.0), (1168, 0.0037004921233076155), (1169, 0.10014799097715017), (1170, 0.0030850767566262876), (1171, 0.0), (1172, 0.0), (1173, 0.02029765630403068), (1174, 0.0031503356920371288), (1175, 0.0031099647380874664), (1176, 0.0031456144583606777), (1177, 0.002902889705145214), (1178, 0.01866333234360339), (1179, 0.0030811870648878147), (1180, 0.0), (1181, 0.0), (1182, 0.003144082004950746), (1183, 0.00286035226586347), (1184, 0.0035155972732740836), (1185, 0.055544984927603534), (1186, 0.002705844763702691), (1187, 0.10053674779882048), (1188, 0.0337391007934756), (1189, 0.0), (1190, 0.0), (1191, 0.0030937678678462834), (1192, 0.0032286881278343104), (1193, 0.0), (1194, 0.0), (1195, 0.0), (1196, 0.0), (1197, 0.0), (1198, 0.0), (1199, 0.002718430473209706), (1200, 0.0), (1201, 0.0), (1202, 0.0026138950093719158), (1203, 0.04171455645802623), (1204, 0.003126602414685025), (1205, 0.0), (1206, 0.0028807365887112677), (1207, 0.0), (1208, 0.00392878063387462), (1209, 0.0025679867707013564), (1210, 0.0), (1211, 0.0), (1212, 0.0), (1213, 0.0), (1214, 0.0), (1215, 0.002637749121669647), (1216, 0.08831004778049803), (1217, 0.0026753428428842843), (1218, 0.02095882732969623), (1219, 0.08051980787328623), (1220, 0.00278135998561766), (1221, 0.0), (1222, 0.0), (1223, 0.003093533643580107), (1224, 0.0032168010826413513), (1225, 0.0032509268740404163), (1226, 0.0), (1227, 0.02194759006702224), (1228, 0.0), (1229, 0.0032171895916819557), (1230, 0.0), (1231, 0.0), (1232, 0.00310538608483588), (1233, 0.0), (1234, 0.003263220734964381), (1235, 0.0), (1236, 0.0), (1237, 0.0027973621049290913), (1238, 0.07335636292384903), (1239, 0.02177030664588209), (1240, 0.0), (1241, 0.0025333258950020394), (1242, 0.0), (1243, 0.02782530066016263), (1244, 0.0), (1245, 0.0029871184261649622), (1246, 0.023734103168706486), (1247, 0.002976418503425623), (1248, 0.0029607778989779836), (1249, 0.019445309832890917), (1250, 0.0), (1251, 0.0027269059667084095), (1252, 0.0030531497811422713), (1253, 0.0), (1254, 0.0031582993251143467), (1255, 0.0029280047820617653), (1256, 0.02117732768892866), (1257, 0.0030366497343840043), (1258, 0.0), (1259, 0.0), (1260, 0.0), (1261, 0.0029836172931358923), (1262, 0.0), (1263, 0.0), (1264, 0.003712035585585858), (1265, 0.0), (1266, 0.0), (1267, 0.04753356446998621), (1268, 0.0), (1269, 0.0), (1270, 0.0), (1271, 0.03049298295469531), (1272, 0.0), (1273, 0.0029328282394841853), (1274, 0.016477159478675802), (1275, 0.0035557301214161367), (1276, 0.0), (1277, 0.002304446853778604), (1278, 0.0), (1279, 0.04139891087084851), (1280, 0.0), (1281, 0.015835920831804413), (1282, 0.0), (1283, 0.0), (1284, 0.0243864153806717), (1285, 0.0), (1286, 0.003021059615557284), (1287, 0.0), (1288, 0.0), (1289, 0.024311130641175443), (1290, 0.0027300955883211206), (1291, 0.0), (1292, 0.0), (1293, 0.0), (1294, 0.0031634935125227272), (1295, 0.0), (1296, 0.0), (1297, 0.029615808166235075), (1298, 0.04039747814475566), (1299, 0.0428221856404499), (1300, 0.0), (1301, 0.0026922498284492604), (1302, 0.0), (1303, 0.002484576836484948), (1304, 0.0030826383738883027), (1305, 0.002547606939409644), (1306, 0.0022464513813225365), (1307, 0.0), (1308, 0.0028272598034618244), (1309, 0.0), (1310, 0.0), (1311, 0.0), (1312, 0.002600567309736087), (1313, 0.00303664366701993), (1314, 0.0), (1315, 0.016876266468752257), (1316, 0.0), (1317, 0.02066956032563665), (1318, 0.03962309413742904), (1319, 0.0030233702548211248), (1320, 0.0), (1321, 0.0), (1322, 0.0), (1323, 0.0), (1324, 0.003287174703296206), (1325, 0.003340104482642305), (1326, 0.0), (1327, 0.05695422271219146), (1328, 0.0), (1329, 0.0), (1330, 0.0), (1331, 0.0), (1332, 0.0), (1333, 0.0), (1334, 0.0031634424379890004), (1335, 0.0031122985079457665), (1336, 0.0), (1337, 0.08732485465884125), (1338, 0.003030908957043159), (1339, 0.0032755054967400265), (1340, 0.0026170406081799493), (1341, 0.06696717767533655), (1342, 0.0), (1343, 0.0), (1344, 0.0), (1345, 0.017311688707137295), (1346, 0.0), (1347, 0.0), (1348, 0.0), (1349, 0.0282266349317525), (1350, 0.0030017614117929282), (1351, 0.002272604521519974), (1352, 0.002617640196498349), (1353, 0.0), (1354, 0.0), (1355, 0.0031557305161254946), (1356, 0.0026082419896213227), (1357, 0.0028398530513177906), (1358, 0.0), (1359, 0.034541086146754496), (1360, 0.0028046379936177922), (1361, 0.0), (1362, 0.0), (1363, 0.0), (1364, 0.02648938467012062), (1365, 0.0026022464597603486), (1366, 0.0027797514630749577), (1367, 0.002573429506045559), (1368, 0.0), (1369, 0.002522209825458988), (1370, 0.0026571113681823524), (1371, 0.0), (1372, 0.002890741741637137), (1373, 0.0), (1374, 0.0), (1375, 0.002928905887049452), (1376, 0.0), (1377, 0.0024858440380824327), (1378, 0.0030789972092855502), (1379, 0.0), (1380, 0.0), (1381, 0.0), (1382, 0.0031807943362067046), (1383, 0.0034786142058653956), (1384, 0.0), (1385, 0.0030854900510448023), (1386, 0.0), (1387, 0.056850247165337174), (1388, 0.0), (1389, 0.0), (1390, 0.0), (1391, 0.0), (1392, 0.00273986142497766), (1393, 0.023550925075307438), (1394, 0.002730244204832729), (1395, 0.0), (1396, 0.0), (1397, 0.002664871630899393), (1398, 0.003567329382552882), (1399, 0.0), (1400, 0.0032483629343558126), (1401, 0.0), (1402, 0.0032314137449833543), (1403, 0.002367648376373069), (1404, 0.0029129460034706635), (1405, 0.0), (1406, 0.0), (1407, 0.0), (1408, 0.0030012749856267017), (1409, 0.003296780883188131), (1410, 0.0031145475279621567), (1411, 0.03799833243311283), (1412, 0.0), (1413, 0.003127467026251162), (1414, 0.02275882848830902), (1415, 0.0025247926008432463), (1416, 0.002944831308279216), (1417, 0.002405492368255339), (1418, 0.013336412991214169), (1419, 0.09594392719034067), (1420, 0.0), (1421, 0.026771700383120045), (1422, 0.0030004265453924673), (1423, 0.0027349056587491556), (1424, 0.03966037179597069), (1425, 0.0), (1426, 0.0), (1427, 0.0025261188837205494), (1428, 0.0), (1429, 0.02456257765032945), (1430, 0.0), (1431, 0.0), (1432, 0.0), (1433, 0.03577468077796315), (1434, 0.002813506502875623), (1435, 0.0), (1436, 0.0), (1437, 0.0), (1438, 0.003051848268109403), (1439, 0.0032265724702462573), (1440, 0.02074718409784096), (1441, 0.0), (1442, 0.006101680449558523), (1443, 0.0), (1444, 0.0), (1445, 0.0), (1446, 0.05446351330989727), (1447, 0.021669825278087737), (1448, 0.0028474336506092617), (1449, 0.0), (1450, 0.002655611054472602), (1451, 0.0), (1452, 0.0307192883533574), (1453, 0.06637030276977812), (1454, 0.003384751498361044), (1455, 0.0), (1456, 0.0028603189034702467), (1457, 0.0), (1458, 0.018983517191606084), (1459, 0.03415628181890106), (1460, 0.0), (1461, 0.0), (1462, 0.00282652076096652), (1463, 0.0029711647082577447), (1464, 0.0025242810573543628), (1465, 0.02786877417759853), (1466, 0.0), (1467, 0.0), (1468, 0.0), (1469, 0.0), (1470, 0.0), (1471, 0.0022852046513603197), (1472, 0.0031174418302185483), (1473, 0.0), (1474, 0.0034366524966382133), (1475, 0.0032125273979226408), (1476, 0.003122089735747912), (1477, 0.023530169455540047), (1478, 0.11271672432357813), (1479, 0.0033798761018605824), (1480, 0.0), (1481, 0.002982580386652817), (1482, 0.0), (1483, 0.09663120625679332), (1484, 0.0032597304572256273), (1485, 0.0), (1486, 0.0), (1487, 0.0), (1488, 0.0030893623872201735), (1489, 0.0034627005869309387), (1490, 0.0), (1491, 0.0), (1492, 0.0), (1493, 0.01672711425683005), (1494, 0.003174650883052968), (1495, 0.0), (1496, 0.036948771208097156), (1497, 0.003516951848100719), (1498, 0.0034259849668237625), (1499, 0.00344963752215035), (1500, 0.0030447929644853915), (1501, 0.0), (1502, 0.0), (1503, 0.03425563931396358), (1504, 0.0), (1505, 0.0), (1506, 0.017470166740872123), (1507, 0.0), (1508, 0.0), (1509, 0.017113903976261786), (1510, 0.003111001974057352), (1511, 0.07223417979861527), (1512, 0.02484969360815223), (1513, 0.003210126239012547), (1514, 0.0028519348338121044), (1515, 0.029783838748931226), (1516, 0.003173637816146638), (1517, 0.0), (1518, 0.003318903003148497), (1519, 0.002849661785360928), (1520, 0.0), (1521, 0.0), (1522, 0.0), (1523, 0.0), (1524, 0.0), (1525, 0.0), (1526, 0.0), (1527, 0.03197580060455084), (1528, 0.0027989751911243004), (1529, 0.0), (1530, 0.0), (1531, 0.0), (1532, 0.03563482815942327), (1533, 0.0031259353226386396), (1534, 0.03024662482309986), (1535, 0.0), (1536, 0.1587082161404008), (1537, 0.0032992716342616856), (1538, 0.0027971509048869835), (1539, 0.002747838771715555), (1540, 0.0), (1541, 0.0), (1542, 0.05090916712623118), (1543, 0.048141076834398736), (1544, 0.01665516579381145), (1545, 0.0), (1546, 0.0), (1547, 0.003589129619889456), (1548, 0.027809641434862857), (1549, 0.0), (1550, 0.02014707707191493), (1551, 0.0), (1552, 0.0), (1553, 0.0027197078671640828), (1554, 0.0), (1555, 0.002868757559534243), (1556, 0.0), (1557, 0.0), (1558, 0.0028646035617464084), (1559, 0.0), (1560, 0.0), (1561, 0.0), (1562, 0.0), (1563, 0.0), (1564, 0.0), (1565, 0.002634048132764468), (1566, 0.0), (1567, 0.07658299956717561), (1568, 0.0), (1569, 0.0), (1570, 0.003240848938680641), (1571, 0.002547765322534753), (1572, 0.003278974672473417), (1573, 0.0), (1574, 0.0031097579466050815), (1575, 0.0), (1576, 0.017597302433799006), (1577, 0.0), (1578, 0.0), (1579, 0.0), (1580, 0.0034004443458866235), (1581, 0.0), (1582, 0.0029584781808806872), (1583, 0.0), (1584, 0.0), (1585, 0.0), (1586, 0.0), (1587, 0.0), (1588, 0.0), (1589, 0.0), (1590, 0.0), (1591, 0.0), (1592, 0.0), (1593, 0.003734533308209336), (1594, 0.022875883703243095), (1595, 0.002788769065097041), (1596, 0.0), (1597, 0.019681709279949812), (1598, 0.02741349268222866), (1599, 0.0), (1600, 0.0), (1601, 0.0), (1602, 0.0), (1603, 0.0), (1604, 0.0), (1605, 0.002784009540741112), (1606, 0.0), (1607, 0.01689615255114964), (1608, 0.0027200892270683717), (1609, 0.0), (1610, 0.0), (1611, 0.0), (1612, 0.020345772275835665), (1613, 0.0), (1614, 0.05260219001560582), (1615, 0.0), (1616, 0.0027080939941180387), (1617, 0.0030084609682015317), (1618, 0.0), (1619, 0.003284034282968603), (1620, 0.00288148557212926), (1621, 0.02469631878104753), (1622, 0.0), (1623, 0.0), (1624, 0.00250765638475026), (1625, 0.0027710259608967453), (1626, 0.15861435599757434), (1627, 0.0026341882888874903), (1628, 0.002819662366812414), (1629, 0.025859335161384268), (1630, 0.0), (1631, 0.016461035063433604), (1632, 0.0), (1633, 0.19281672639220448), (1634, 0.0030542526589590236), (1635, 0.0), (1636, 0.0), (1637, 0.0033055287094840772), (1638, 0.059661134804846555), (1639, 0.0), (1640, 0.04054664947148093), (1641, 0.002857644560729728), (1642, 0.002852077000201142), (1643, 0.0032352539282119604), (1644, 0.0), (1645, 0.00297702241868848), (1646, 0.0), (1647, 0.0), (1648, 0.002301313572916015), (1649, 0.0), (1650, 0.0028575238366069134), (1651, 0.0), (1652, 0.0), (1653, 0.0030050955698733674), (1654, 0.037970848254057346), (1655, 0.003748535128654589), (1656, 0.003533041966992439), (1657, 0.0), (1658, 0.0034117627718141634), (1659, 0.0), (1660, 0.0032197679510801006), (1661, 0.0), (1662, 0.0), (1663, 0.03622582379311229), (1664, 0.0), (1665, 0.002885342563072273), (1666, 0.041813999402091365), (1667, 0.002840038681113482), (1668, 0.0), (1669, 0.07034061089470375), (1670, 0.0032434299758428587), (1671, 0.002983526449100868), (1672, 0.002821033839352149), (1673, 0.0), (1674, 0.0), (1675, 0.0028073415416055955), (1676, 0.0), (1677, 0.07661778085061242), (1678, 0.0030640081805482396), (1679, 0.0), (1680, 0.11453488146109954), (1681, 0.0), (1682, 0.00289183475854179), (1683, 0.003297607375859394), (1684, 0.10040759933658291), (1685, 0.0032603955696596815), (1686, 0.017737916860240115), (1687, 0.003267335502062902), (1688, 0.003142355538662278), (1689, 0.04337993527382482), (1690, 0.0027764276034431836), (1691, 0.07301344816305409), (1692, 0.0), (1693, 0.04236443903311546), (1694, 0.0), (1695, 0.014043208683711577), (1696, 0.0), (1697, 0.0), (1698, 0.0), (1699, 0.0), (1700, 0.016535240493376943), (1701, 0.0), (1702, 0.0), (1703, 0.0031884174868535317), (1704, 0.0), (1705, 0.0), (1706, 0.0031096810910843553), (1707, 0.005265760435965259), (1708, 0.034524966140658565), (1709, 0.0), (1710, 0.06593182192896428), (1711, 0.025621895780702578), (1712, 0.003293934390655086), (1713, 0.0), (1714, 0.0), (1715, 0.0), (1716, 0.0034560058584679142), (1717, 0.003173723021206442), (1718, 0.0), (1719, 0.002781141015679217), (1720, 0.0), (1721, 0.020988104694268154), (1722, 0.003111886183268292), (1723, 0.0), (1724, 0.0), (1725, 0.0), (1726, 0.0), (1727, 0.003204035991354467), (1728, 0.01697143103909177), (1729, 0.026470528935350686), (1730, 0.0028094713311344346), (1731, 0.04760100359523244), (1732, 0.0), (1733, 0.003378864946829382), (1734, 0.0), (1735, 0.0), (1736, 0.003226016902852154), (1737, 0.05026112615701654), (1738, 0.0), (1739, 0.002770831448422221), (1740, 0.003143559322340783), (1741, 0.0), (1742, 0.0029137603407326904), (1743, 0.0026230385011322085), (1744, 0.10544008332145491), (1745, 0.0), (1746, 0.0), (1747, 0.0490088354107428), (1748, 0.029330151005591578), (1749, 0.0), (1750, 0.0), (1751, 0.0), (1752, 0.0), (1753, 0.0), (1754, 0.0033946772133168408), (1755, 0.0), (1756, 0.0), (1757, 0.0), (1758, 0.0), (1759, 0.026239208922235083), (1760, 0.002849151485793199), (1761, 0.0), (1762, 0.002749115477777694), (1763, 0.00263892784636694), (1764, 0.0026711797745195952), (1765, 0.0031872017941284962), (1766, 0.019145990138647095), (1767, 0.0), (1768, 0.003168332671736173), (1769, 0.0), (1770, 0.0), (1771, 0.0), (1772, 0.0), (1773, 0.0), (1774, 0.03660431013855111), (1775, 0.0), (1776, 0.0027139213445429955), (1777, 0.023042795961029015), (1778, 0.0), (1779, 0.003280888182351099), (1780, 0.025084521238151507), (1781, 0.0), (1782, 0.002818478990538693), (1783, 0.0), (1784, 0.0), (1785, 0.0), (1786, 0.0), (1787, 0.03767640565074481), (1788, 0.0), (1789, 0.0), (1790, 0.0), (1791, 0.018470888391026515), (1792, 0.0036214330917593088), (1793, 0.03544770736889119), (1794, 0.0), (1795, 0.0), (1796, 0.0028116870314868155), (1797, 0.0), (1798, 0.0033082242921919384), (1799, 0.0), (1800, 0.0), (1801, 0.06461627220863528), (1802, 0.1047894549754776), (1803, 0.12417191517085598), (1804, 0.0), (1805, 0.09477865906608304), (1806, 0.0), (1807, 0.0030226868762739385), (1808, 0.0027636901183682597), (1809, 0.0), (1810, 0.0), (1811, 0.0030568328762604637), (1812, 0.0), (1813, 0.0029917754966825626), (1814, 0.0028374047391426824), (1815, 0.0), (1816, 0.0932537708002764), (1817, 0.0), (1818, 0.0), (1819, 0.0028709538868162206), (1820, 0.0), (1821, 0.0032337455070024115), (1822, 0.0032530177078615194), (1823, 0.0), (1824, 0.11564697138801443), (1825, 0.0), (1826, 0.0027865872007653922), (1827, 0.002786647788244803), (1828, 0.02161599446955668), (1829, 0.0), (1830, 0.0027305067729211166), (1831, 0.0030469465935263887), (1832, 0.08044047396243942), (1833, 0.0026387491091107366), (1834, 0.0), (1835, 0.0), (1836, 0.0), (1837, 0.0), (1838, 0.0), (1839, 0.0), (1840, 0.04473841905314261), (1841, 0.0), (1842, 0.0), (1843, 0.0034952001610011173), (1844, 0.0), (1845, 0.06748267658923754), (1846, 0.0), (1847, 0.0), (1848, 0.040713251432709895), (1849, 0.0), (1850, 0.0), (1851, 0.0032082214226334276), (1852, 0.0), (1853, 0.0032618472406436613), (1854, 0.002942221976265997), (1855, 0.0), (1856, 0.0), (1857, 0.0), (1858, 0.04231916097150198), (1859, 0.0), (1860, 0.02576332334142025), (1861, 0.002335836137586071), (1862, 0.0034512823897015106), (1863, 0.0), (1864, 0.0029639559023515332), (1865, 0.0027956183935137365), (1866, 0.0033648855850001), (1867, 0.0), (1868, 0.0), (1869, 0.0027900932157406437), (1870, 0.0), (1871, 0.0024527053716593672), (1872, 0.0031168076968604214), (1873, 0.044902881684908476), (1874, 0.0033303374979249127), (1875, 0.0028298427381973023), (1876, 0.0030993173213802595), (1877, 0.002940605675522207), (1878, 0.002925966113089727), (1879, 0.0), (1880, 0.0), (1881, 0.0), (1882, 0.0030193239242686095), (1883, 0.0), (1884, 0.002880288900141299), (1885, 0.0036107250966120937), (1886, 0.0024493338766750413), (1887, 0.0034922014738651254), (1888, 0.0), (1889, 0.0), (1890, 0.0034193914068876624), (1891, 0.06627757787812635), (1892, 0.002798246932449559), (1893, 0.0032502636554540454), (1894, 0.018801270505109553), (1895, 0.07770576330206166), (1896, 0.0032691461864208546), (1897, 0.04817126776326512), (1898, 0.0), (1899, 0.01617459325081155), (1900, 0.0), (1901, 0.0), (1902, 0.0032390964456190108), (1903, 0.023095199959568758), (1904, 0.0), (1905, 0.003359670701748504), (1906, 0.0), (1907, 0.034600514740591885), (1908, 0.0), (1909, 0.0034977440315894903), (1910, 0.0), (1911, 0.0), (1912, 0.0), (1913, 0.0), (1914, 0.0), (1915, 0.023479355641228158), (1916, 0.021530891959986947), (1917, 0.0), (1918, 0.0032550459959371117), (1919, 0.002153862085124733), (1920, 0.0028493021345748723), (1921, 0.0027540407109064007), (1922, 0.0031108129855503368), (1923, 0.0034224238945954194), (1924, 0.003520567299338874), (1925, 0.0), (1926, 0.01843618519043097), (1927, 0.0), (1928, 0.0), (1929, 0.019478061786943588), (1930, 0.0), (1931, 0.02087548782901367), (1932, 0.0), (1933, 0.0), (1934, 0.04028822050498095), (1935, 0.0), (1936, 0.11296282162310839), (1937, 0.0), (1938, 0.018700381478544793), (1939, 0.0), (1940, 0.0), (1941, 0.029549596549966604), (1942, 0.003135218020581846), (1943, 0.0026822538527167083), (1944, 0.0), (1945, 0.0), (1946, 0.003166636356724486), (1947, 0.0035773435044032303), (1948, 0.0), (1949, 0.0), (1950, 0.020837689277981047), (1951, 0.0032695200844174263), (1952, 0.0), (1953, 0.0), (1954, 0.0027297770202070744), (1955, 0.0), (1956, 0.15437480514155888), (1957, 0.0), (1958, 0.0), (1959, 0.022101432801392238), (1960, 0.0034119371656372447), (1961, 0.017873835396397635), (1962, 0.04182134318334328), (1963, 0.0), (1964, 0.0027856469012461894), (1965, 0.0), (1966, 0.0), (1967, 0.024783062374549407), (1968, 0.003618948580441784), (1969, 0.04091975608734132), (1970, 0.12535201534506357), (1971, 0.05710518153903572), (1972, 0.0), (1973, 0.02109951771825898), (1974, 0.0), (1975, 0.0), (1976, 0.0), (1977, 0.0027437205434457075), (1978, 0.0), (1979, 0.04270591314809688), (1980, 0.03643552787711683), (1981, 0.0), (1982, 0.0), (1983, 0.0032094482033038865), (1984, 0.03800223127930666), (1985, 0.12743302628055536), (1986, 0.0), (1987, 0.0), (1988, 0.02081946690721604), (1989, 0.002475111998090923), (1990, 0.0), (1991, 0.0), (1992, 0.020525013099681647), (1993, 0.09943502577034578), (1994, 0.01995662027006305), (1995, 0.0033136052094642995), (1996, 0.03334191066704236), (1997, 0.06842023139964024), (1998, 0.0), (1999, 0.0), (2000, 0.002455702464457704), (2001, 0.0), (2002, 0.0), (2003, 0.0), (2004, 0.0028963215877675923), (2005, 0.0), (2006, 0.0), (2007, 0.015836696135523683), (2008, 0.0029968526049079327), (2009, 0.0), (2010, 0.002433595439356111), (2011, 0.0028021185806166794), (2012, 0.0), (2013, 0.0), (2014, 0.0), (2015, 0.0), (2016, 0.0031991025885093455), (2017, 0.0), (2018, 0.0), (2019, 0.0), (2020, 0.0), (2021, 0.0), (2022, 0.0), (2023, 0.04131644757888943), (2024, 0.0029509392465808418), (2025, 0.0), (2026, 0.0), (2027, 0.002972551126177622), (2028, 0.0), (2029, 0.0030085633233771602), (2030, 0.0), (2031, 0.0027807924887080283), (2032, 0.0), (2033, 0.0), (2034, 0.0025388591804406044), (2035, 0.002610602216763636), (2036, 0.019999347289421356), (2037, 0.056944701550173414), (2038, 0.0), (2039, 0.002592151590268682), (2040, 0.02257228378153882), (2041, 0.0), (2042, 0.0), (2043, 0.0), (2044, 0.0), (2045, 0.025926146651641543), (2046, 0.0), (2047, 0.0027231141930243877), (2048, 0.003171767410578585), (2049, 0.0354377284479392), (2050, 0.0), (2051, 0.0035012096967203922), (2052, 0.0), (2053, 0.0031815202813898487), (2054, 0.0), (2055, 0.0027929473163617294), (2056, 0.05012871332636815), (2057, 0.0), (2058, 0.0), (2059, 0.0), (2060, 0.0030503230950326868), (2061, 0.025373412156118394), (2062, 0.0), (2063, 0.0), (2064, 0.0), (2065, 0.0027685856058676933), (2066, 0.0), (2067, 0.054439898884093826), (2068, 0.0029282547027334412), (2069, 0.020074552758619225), (2070, 0.0026358468752800497), (2071, 0.0), (2072, 0.003193198613599937), (2073, 0.0031406781118988023), (2074, 0.0), (2075, 0.004037839396430231), (2076, 0.002599030953088411), (2077, 0.0), (2078, 0.0), (2079, 0.0), (2080, 0.0029773932530964722), (2081, 0.0), (2082, 0.018822408327001747), (2083, 0.0032249552279945085), (2084, 0.0), (2085, 0.02288988204227663), (2086, 0.0), (2087, 0.003014035798812428), (2088, 0.0032286276650582532), (2089, 0.003621033406248335), (2090, 0.0), (2091, 0.020716145918283226), (2092, 0.0), (2093, 0.03209270392755341), (2094, 0.0), (2095, 0.0), (2096, 0.003284600697063238), (2097, 0.0033534097588056723), (2098, 0.019185676493458974), (2099, 0.002880319654188177), (2100, 0.0), (2101, 0.041081553641929565), (2102, 0.0030126173465319836), (2103, 0.019894959199898917), (2104, 0.0032910674017435997), (2105, 0.0032814639025324065), (2106, 0.0), (2107, 0.0), (2108, 0.048697417878654226), (2109, 0.0031063529226417514), (2110, 0.06776736950344286), (2111, 0.003018568469092032), (2112, 0.003401242280433905), (2113, 0.0), (2114, 0.0), (2115, 0.0), (2116, 0.0033259331906172105), (2117, 0.002955925671899445), (2118, 0.0), (2119, 0.0), (2120, 0.0), (2121, 0.0029337444830088415), (2122, 0.0031109674204909577), (2123, 0.16529712556963652), (2124, 0.0), (2125, 0.0), (2126, 0.0031780293274209564), (2127, 0.00258699634332559), (2128, 0.0), (2129, 0.023638518070188977), (2130, 0.0), (2131, 0.0029603214303519075), (2132, 0.002574479686268587), (2133, 0.0029147600656296456), (2134, 0.0034469122418557805), (2135, 0.0), (2136, 0.0), (2137, 0.004367648463691787), (2138, 0.0), (2139, 0.0), (2140, 0.0), (2141, 0.002945455058558179), (2142, 0.05834086415469817), (2143, 0.0029463119713396555), (2144, 0.0031083951799774985), (2145, 0.0), (2146, 0.00263352977168303), (2147, 0.0), (2148, 0.003194074906074159), (2149, 0.0028792971213918083), (2150, 0.0), (2151, 0.0032855782327493696), (2152, 0.0), (2153, 0.0), (2154, 0.003947226438925897), (2155, 0.0031354835781025898), (2156, 0.04378424954133306), (2157, 0.002591212428794835), (2158, 0.0), (2159, 0.0033980906580418674), (2160, 0.01632627546750831), (2161, 0.025878266490398576), (2162, 0.0033092796713675176), (2163, 0.002749678383711548), (2164, 0.0), (2165, 0.0), (2166, 0.002902211049136428), (2167, 0.0), (2168, 0.029726928593800314), (2169, 0.07366517225805984), (2170, 0.0), (2171, 0.0), (2172, 0.0), (2173, 0.0030345082732943394), (2174, 0.0030545447044453), (2175, 0.0), (2176, 0.003401852647591219), (2177, 0.0), (2178, 0.0), (2179, 0.0), (2180, 0.0), (2181, 0.0), (2182, 0.0), (2183, 0.0), (2184, 0.0), (2185, 0.0), (2186, 0.0), (2187, 0.003536739697759973), (2188, 0.0037608616724358872), (2189, 0.00432577117451083), (2190, 0.003321693791650683), (2191, 0.00276365901500626), (2192, 0.0031033521340085167), (2193, 0.025742919209823065), (2194, 0.0), (2195, 0.0030734889837229387), (2196, 0.003258796438901008), (2197, 0.0), (2198, 0.0), (2199, 0.004011396980186525), (2200, 0.0), (2201, 0.0028666599118435973), (2202, 0.0), (2203, 0.0), (2204, 0.0), (2205, 0.027204277935026673), (2206, 0.021438794828371254), (2207, 0.0), (2208, 0.0), (2209, 0.09311247512088419), (2210, 0.003133166321593328), (2211, 0.00258212940434796), (2212, 0.003074933951302196), (2213, 0.0027480641897975693), (2214, 0.0033505696396221064), (2215, 0.0), (2216, 0.0030201475729724598), (2217, 0.0), (2218, 0.0), (2219, 0.03628788375165253), (2220, 0.0), (2221, 0.0025618679295944724), (2222, 0.0), (2223, 0.003503819439534936), (2224, 0.0029241666123234187), (2225, 0.0), (2226, 0.0030132761221330667), (2227, 0.018637544851706336), (2228, 0.0), (2229, 0.0033676891484724016), (2230, 0.0031647727909503093), (2231, 0.0), (2232, 0.0), (2233, 0.0), (2234, 0.05574897111501531), (2235, 0.0), (2236, 0.0027963476575256162), (2237, 0.0027040679039547653), (2238, 0.0), (2239, 0.0), (2240, 0.028671873358778407), (2241, 0.0), (2242, 0.08133416901761138), (2243, 0.0), (2244, 0.0), (2245, 0.0), (2246, 0.0), (2247, 0.0), (2248, 0.0027704368213212096), (2249, 0.051422080521661424), (2250, 0.0030749625499981986), (2251, 0.004287664612265479), (2252, 0.0), (2253, 0.0), (2254, 0.003306867196871633), (2255, 0.003975800650928535), (2256, 0.0), (2257, 0.003967524548043733), (2258, 0.0), (2259, 0.0), (2260, 0.003296535456596702), (2261, 0.0), (2262, 0.0), (2263, 0.0), (2264, 0.03608948189374103), (2265, 0.023159274835670745), (2266, 0.003794451660897094), (2267, 0.0), (2268, 0.002976159590847503), (2269, 0.0035765652319565315), (2270, 0.017653409945629774), (2271, 0.020791763680501136), (2272, 0.0), (2273, 0.0), (2274, 0.0), (2275, 0.0), (2276, 0.0), (2277, 0.003123794178470213), (2278, 0.0), (2279, 0.0030025600668110563), (2280, 0.0), (2281, 0.0), (2282, 0.0), (2283, 0.0), (2284, 0.00309824117777908), (2285, 0.002772901947381545), (2286, 0.0039381753513552074), (2287, 0.002570959264039047), (2288, 0.003259542547605919), (2289, 0.0030602749039855687), (2290, 0.02288816509655139), (2291, 0.0), (2292, 0.003138602261376544), (2293, 0.003359024801271394), (2294, 0.0), (2295, 0.0031306088999595383), (2296, 0.0), (2297, 0.01700647862022556), (2298, 0.05737540489539638), (2299, 0.004927834247908561), (2300, 0.0), (2301, 0.0028188945877846484), (2302, 0.1569476331430568), (2303, 0.023626926823373515), (2304, 0.0), (2305, 0.025127297031120606), (2306, 0.0406692147860425), (2307, 0.0), (2308, 0.0), (2309, 0.0029437259929456514), (2310, 0.004120199123218656), (2311, 0.0), (2312, 0.0), (2313, 0.0031286739359622415), (2314, 0.09534689559444098), (2315, 0.020250122579052572), (2316, 0.0), (2317, 0.0028513231633910045), (2318, 0.0), (2319, 0.026024591205814615), (2320, 0.0035824467256767674), (2321, 0.11977734321116924), (2322, 0.016900795714322004), (2323, 0.0027809218122627688), (2324, 0.007951991632431767), (2325, 0.0), (2326, 0.03861051721685639), (2327, 0.0), (2328, 0.0), (2329, 0.0), (2330, 0.0), (2331, 0.0), (2332, 0.0), (2333, 0.12790419670501932), (2334, 0.00317182085793612), (2335, 0.04753443725512982), (2336, 0.0), (2337, 0.0), (2338, 0.002784183748908394), (2339, 0.01970584947029933), (2340, 0.0030892484445470773), (2341, 0.0), (2342, 0.0), (2343, 0.0), (2344, 0.0030880197949616356), (2345, 0.0), (2346, 0.0035037677672841152), (2347, 0.0028328319691956626), (2348, 0.002902628824636411), (2349, 0.004266770688839934), (2350, 0.003959859372355244), (2351, 0.0), (2352, 0.0), (2353, 0.0), (2354, 0.0030846867619873414), (2355, 0.03205835703488305), (2356, 0.0034449013484758855), (2357, 0.0), (2358, 0.0), (2359, 0.0025720854891766185), (2360, 0.019822407536144747), (2361, 0.0032686693321769002), (2362, 0.034668605374076046), (2363, 0.0), (2364, 0.0), (2365, 0.0), (2366, 0.0), (2367, 0.002949805182050696), (2368, 0.0), (2369, 0.0), (2370, 0.003210513480498755), (2371, 0.0), (2372, 0.0), (2373, 0.0), (2374, 0.0031231017815969556), (2375, 0.041549347772911284), (2376, 0.0), (2377, 0.0), (2378, 0.0036265949251296174), (2379, 0.0044473492005590465), (2380, 0.0), (2381, 0.019344251222917427), (2382, 0.0026397806656613286), (2383, 0.0), (2384, 0.0), (2385, 0.0032457143643553074), (2386, 0.0031505888151010806), (2387, 0.0030749131357942663), (2388, 0.00756666114104507), (2389, 0.0), (2390, 0.003378225098293492), (2391, 0.0032913293381022757), (2392, 0.03270924938995246), (2393, 0.0032886274023311026), (2394, 0.003247106937970369), (2395, 0.0), (2396, 0.11153102995486469), (2397, 0.003134097074046165), (2398, 0.0), (2399, 0.0028445707104864477), (2400, 0.003485469302443606), (2401, 0.0029949174706434233), (2402, 0.002790778451634862), (2403, 0.037657043388958845), (2404, 0.004191431208307114), (2405, 0.003205070332098232), (2406, 0.029426029667759042), (2407, 0.028243010447366497), (2408, 0.0), (2409, 0.0), (2410, 0.06777296436692426), (2411, 0.003489427176292354), (2412, 0.0026757778750826295), (2413, 0.0), (2414, 0.0), (2415, 0.003739323094302141), (2416, 0.0030371645655972875), (2417, 0.0036081134541497825), (2418, 0.0032664909175170354), (2419, 0.03973414686404617), (2420, 0.0), (2421, 0.0), (2422, 0.0029913286210795924), (2423, 0.0038835968925013007), (2424, 0.0), (2425, 0.003993884257139772), (2426, 0.0), (2427, 0.003579510468962461), (2428, 0.00340082534874085), (2429, 0.06846611712653705), (2430, 0.003126536238366317), (2431, 0.0), (2432, 0.0), (2433, 0.0), (2434, 0.0036840131237858183), (2435, 0.0), (2436, 0.003444218008141973), (2437, 0.003497781883325406), (2438, 0.04679848064065284), (2439, 0.0), (2440, 0.006259167182749661), (2441, 0.0024954148601722017), (2442, 0.0), (2443, 0.0020238307795464893), (2444, 0.0), (2445, 0.0), (2446, 0.0028621898060886327), (2447, 0.10816337562784553), (2448, 0.0040245007977180525), (2449, 0.0), (2450, 0.0), (2451, 0.0), (2452, 0.0), (2453, 0.002832273909048485), (2454, 0.0037211395484682756), (2455, 0.0), (2456, 0.0), (2457, 0.002772039820220895), (2458, 0.0), (2459, 0.0037508280126251703), (2460, 0.0), (2461, 0.0029878871445662997), (2462, 0.0), (2463, 0.003029096237679446), (2464, 0.0033797085132551484), (2465, 0.0), (2466, 0.0031647728330116893), (2467, 0.08887253812083835), (2468, 0.0), (2469, 0.0024127163767221323), (2470, 0.0), (2471, 0.0), (2472, 0.0), (2473, 0.0029348331439752007), (2474, 0.0023642669305849137), (2475, 0.003314003778614893), (2476, 0.0), (2477, 0.0033294484188369825), (2478, 0.0035376023063832937), (2479, 0.0), (2480, 0.0), (2481, 0.0025662633590723288), (2482, 0.018833024285629888), (2483, 0.0), (2484, 0.004120329073720109), (2485, 0.01941738587409703), (2486, 0.0), (2487, 0.022265461931897594), (2488, 0.0037660717216614257), (2489, 0.0031404664772028937), (2490, 0.0044415743163062574), (2491, 0.0), (2492, 0.003100901278964938), (2493, 0.0), (2494, 0.0033224111779775987), (2495, 0.0030813419996667205), (2496, 0.002881848530524489), (2497, 0.0), (2498, 0.0), (2499, 0.0), (2500, 0.0), (2501, 0.0), (2502, 0.0027188795953563354), (2503, 0.0), (2504, 0.0), (2505, 0.0034223456165520644), (2506, 0.0), (2507, 0.0033475542600460498), (2508, 0.0), (2509, 0.0025323991734419204), (2510, 0.0), (2511, 0.0), (2512, 0.02532779859343378), (2513, 0.0), (2514, 0.0), (2515, 0.0), (2516, 0.0), (2517, 0.0), (2518, 0.0), (2519, 0.023135659517106544), (2520, 0.0026713957922405046), (2521, 0.0), (2522, 0.0032842999744261414), (2523, 0.0), (2524, 0.0), (2525, 0.0029017829456045355), (2526, 0.0025213522247363026), (2527, 0.002650423260307818), (2528, 0.023264153932584505), (2529, 0.004473303237051798), (2530, 0.003916706748099251), (2531, 0.003211596286815772), (2532, 0.0), (2533, 0.003099406836758414), (2534, 0.012388135445850174), (2535, 0.003415500998630737), (2536, 0.0), (2537, 0.0042273736351884335), (2538, 0.0018438244024689425), (2539, 0.02522947120607222), (2540, 0.0029370168596541536), (2541, 0.018643701124320157), (2542, 0.0668518748986649), (2543, 0.0), (2544, 0.0), (2545, 0.0032105645448525727), (2546, 0.0032080099522183805), (2547, 0.022847431236240168), (2548, 0.0), (2549, 0.0), (2550, 0.0023043683131855086), (2551, 0.017628945760116803), (2552, 0.07193538606440064), (2553, 0.0030042929329358098), (2554, 0.0031087567616512215), (2555, 0.007008597065108413), (2556, 0.002857455417098962), (2557, 0.003821904573356957), (2558, 0.003082020217806628), (2559, 0.004050990357621279), (2560, 0.023449853385030743), (2561, 0.00321497787886978), (2562, 0.0), (2563, 0.002548639743304138), (2564, 0.0), (2565, 0.003268998312607382), (2566, 0.0), (2567, 0.0), (2568, 0.003768917582021243), (2569, 0.0030450032889585577), (2570, 0.0036269643769535607), (2571, 0.08206920024956377), (2572, 0.0029191290994152264), (2573, 0.0), (2574, 0.0), (2575, 0.0), (2576, 0.019628230761197893), (2577, 0.0), (2578, 0.0), (2579, 0.022901953689494717), (2580, 0.002751987539717495), (2581, 0.02802803632204591), (2582, 0.0), (2583, 0.0), (2584, 0.0), (2585, 0.0034305040999422763), (2586, 0.0), (2587, 0.002734710101751739), (2588, 0.0), (2589, 0.0), (2590, 0.0), (2591, 0.0027646819163101486), (2592, 0.022619279287442427), (2593, 0.0028431581523578595), (2594, 0.0), (2595, 0.0033424103896154494), (2596, 0.015765810785957166), (2597, 0.0), (2598, 0.00291554359573349), (2599, 0.0), (2600, 0.0), (2601, 0.0032138084513224628), (2602, 0.002556968109664338), (2603, 0.002588181418688791), (2604, 0.0), (2605, 0.0), (2606, 0.1112898295928416), (2607, 0.002762190863211745), (2608, 0.10793936989563918), (2609, 0.0032869168461468375), (2610, 0.003256709736973764), (2611, 0.0026437485548631325), (2612, 0.002976187512097922), (2613, 0.0036303994615462616), (2614, 0.006692140659434648), (2615, 0.0), (2616, 0.0), (2617, 0.002716926153114666), (2618, 0.0), (2619, 0.0037110326255049577), (2620, 0.0), (2621, 0.02219483399950351), (2622, 0.0), (2623, 0.0034886159707759124), (2624, 0.003371951970461315), (2625, 0.0035404940617072447), (2626, 0.019041849723737854), (2627, 0.034795623549574245), (2628, 0.004034092968069257), (2629, 0.003498139090371937), (2630, 0.0), (2631, 0.0), (2632, 0.0030091794314316958), (2633, 0.10223999070875929), (2634, 0.0028794086492570444), (2635, 0.0), (2636, 0.0023135631260703363), (2637, 0.0), (2638, 0.003501339670146637), (2639, 0.0), (2640, 0.0032243259542304122), (2641, 0.02105276270872164), (2642, 0.0029690027429458395), (2643, 0.003985463664343689), (2644, 0.0), (2645, 0.0039658912056428465), (2646, 0.0), (2647, 0.003121146502882103), (2648, 0.0), (2649, 0.004352903395621237), (2650, 0.003201713041167302), (2651, 0.0029155712731260535), (2652, 0.0031154033648163677), (2653, 0.024617632923898083), (2654, 0.0), (2655, 0.00408382843391896), (2656, 0.0), (2657, 0.0), (2658, 0.0), (2659, 0.0), (2660, 0.0), (2661, 0.07068416609448779), (2662, 0.0), (2663, 0.0), (2664, 0.0032853140903149054), (2665, 0.0), (2666, 0.0), (2667, 0.0), (2668, 0.00317075291065026), (2669, 0.0), (2670, 0.0), (2671, 0.0), (2672, 0.02462473542577071), (2673, 0.0040993851615534664), (2674, 0.002836703557961358), (2675, 0.0), (2676, 0.0), (2677, 0.0), (2678, 0.005018742120790347), (2679, 0.0029160328397669993), (2680, 0.0), (2681, 0.0), (2682, 0.08940812555231817), (2683, 0.0), (2684, 0.0), (2685, 0.0), (2686, 0.0), (2687, 0.0030318214497949817), (2688, 0.024934084835508623), (2689, 0.0), (2690, 0.0), (2691, 0.022857098325255457), (2692, 0.0026759665928032302), (2693, 0.07613844412090517), (2694, 0.004104881102561633), (2695, 0.003085415830751453), (2696, 0.003582256746526473), (2697, 0.002522793250224939), (2698, 0.0030024273088337344), (2699, 0.11935325419293809), (2700, 0.0), (2701, 0.0), (2702, 0.003522066615281729), (2703, 0.0), (2704, 0.0), (2705, 0.0033367124713206044), (2706, 0.0029296808027041675), (2707, 0.0036167614566133817), (2708, 0.0), (2709, 0.017357695166807442), (2710, 0.024702350791998475), (2711, 0.0), (2712, 0.027257072478903948), (2713, 0.0), (2714, 0.0032613823898857523), (2715, 0.0), (2716, 0.002968273628935373), (2717, 0.0), (2718, 0.0), (2719, 0.0), (2720, 0.0036117242106649666), (2721, 0.01775346220071619), (2722, 0.004326059098335864), (2723, 0.003304962625408468), (2724, 0.0027383152487546526), (2725, 0.0032956811253906895), (2726, 0.05316995221827725), (2727, 0.0), (2728, 0.002804968207959027), (2729, 0.018510178927073018), (2730, 0.0), (2731, 0.004136478897050333), (2732, 0.0), (2733, 0.0), (2734, 0.0), (2735, 0.002845252357302827), (2736, 0.0), (2737, 0.0), (2738, 0.02411163544508027), (2739, 0.003381800073264922), (2740, 0.003469699002823971), (2741, 0.0027746506991719318), (2742, 0.020398032133194025), (2743, 0.0026420626544949727), (2744, 0.0031937650472484815), (2745, 0.02528599584193303), (2746, 0.003133285944712444), (2747, 0.002670190267002181), (2748, 0.0033509972085866506), (2749, 0.0), (2750, 0.0), (2751, 0.0), (2752, 0.0029474135211469414), (2753, 0.0027147870692988334), (2754, 0.0), (2755, 0.003258537990001175), (2756, 0.0), (2757, 0.004716641131940876), (2758, 0.0026171887814765695), (2759, 0.11169367361961538), (2760, 0.002365262325409821), (2761, 0.0026518554342512602), (2762, 0.09700323368308106), (2763, 0.0), (2764, 0.004390347474204903), (2765, 0.002929196940202798), (2766, 0.0024451962808834625), (2767, 0.0024041912011749113), (2768, 0.004380490037532421), (2769, 0.037941238721369806), (2770, 0.0), (2771, 0.0026148403709908338), (2772, 0.00365040543972594), (2773, 0.0), (2774, 0.0), (2775, 0.004183481708903874), (2776, 0.03518918788457658), (2777, 0.0028513989503949023), (2778, 0.0037262095168153113), (2779, 0.0029417600209659545), (2780, 0.0), (2781, 0.0), (2782, 0.06608675788426006), (2783, 0.003101248361039024), (2784, 0.003149763504039802), (2785, 0.019864968718005832), (2786, 0.0033000646166367626), (2787, 0.02089078745865251), (2788, 0.0), (2789, 0.0), (2790, 0.0), (2791, 0.0), (2792, 0.0032648041485057776), (2793, 0.017401403002811622), (2794, 0.0), (2795, 0.00389167792123187), (2796, 0.0035266191271452925), (2797, 0.06034646072329963), (2798, 0.0031292840021337107), (2799, 0.0), (2800, 0.0029114520070421296), (2801, 0.0), (2802, 0.003013272844083602), (2803, 0.0028043958169229307), (2804, 0.07388244681211606), (2805, 0.0), (2806, 0.0), (2807, 0.0), (2808, 0.002986027443846481), (2809, 0.006487318263471593), (2810, 0.0), (2811, 0.02405906019730211), (2812, 0.0029041784245318), (2813, 0.0), (2814, 0.0), (2815, 0.0), (2816, 0.0), (2817, 0.0), (2818, 0.0), (2819, 0.0), (2820, 0.0), (2821, 0.003271465920415975), (2822, 0.0), (2823, 0.0), (2824, 0.0), (2825, 0.061454679127541385), (2826, 0.003098069302430441), (2827, 0.0), (2828, 0.0), (2829, 0.0), (2830, 0.0034296487043787406), (2831, 0.0030851549159054154), (2832, 0.004044157738780511), (2833, 0.0), (2834, 0.0038231455918737232), (2835, 0.0), (2836, 0.0), (2837, 0.0), (2838, 0.003938232942712133), (2839, 0.04878062443743012), (2840, 0.003436976699745716), (2841, 0.0017212566145576856), (2842, 0.0), (2843, 0.02741613534032025), (2844, 0.0025451358443185127), (2845, 0.02348048886850333), (2846, 0.0036058078812328787), (2847, 0.0), (2848, 0.06378092300441601), (2849, 0.0032578565071877978), (2850, 0.0), (2851, 0.0), (2852, 0.02453447000776243), (2853, 0.03763086162043668), (2854, 0.003422429371901749), (2855, 0.0), (2856, 0.023037681440229496), (2857, 0.0038039049739354764), (2858, 0.004367892288401379), (2859, 0.03047543795611998), (2860, 0.0), (2861, 0.004084614662612004), (2862, 0.002871902152645758), (2863, 0.003177381257716057), (2864, 0.0), (2865, 0.0), (2866, 0.0), (2867, 0.0), (2868, 0.0028510639177958493), (2869, 0.0), (2870, 0.0041775020357680635), (2871, 0.0), (2872, 0.003547230448505464), (2873, 0.0), (2874, 0.0), (2875, 0.0), (2876, 0.0025737155731300814), (2877, 0.0), (2878, 0.0032484313174848184), (2879, 0.0037529277273558315), (2880, 0.0), (2881, 0.023140296091526957), (2882, 0.003348673511254751), (2883, 0.03390069821625828), (2884, 0.003557362500273948), (2885, 0.0), (2886, 0.0029400322882435523), (2887, 0.0031224801550035915), (2888, 0.003338113009294053), (2889, 0.004242160608796432), (2890, 0.0034004213124975255), (2891, 0.0), (2892, 0.0029251981287583034), (2893, 0.0034946154662596207), (2894, 0.003162350804550685), (2895, 0.029985905543867517), (2896, 0.03591978346408111), (2897, 0.0), (2898, 0.0), (2899, 0.002896842101630927), (2900, 0.0030718148995036395), (2901, 0.003956514361576058), (2902, 0.0022664440085621005), (2903, 0.0034558210381660727), (2904, 0.003205215139677772), (2905, 0.0), (2906, 0.0), (2907, 0.0028580006105092684), (2908, 0.002476401120586812), (2909, 0.024432293722923146), (2910, 0.0030151071439360223), (2911, 0.0032071848371453605), (2912, 0.002983904025531973), (2913, 0.0), (2914, 0.0034851009571539443), (2915, 0.09095280327694144), (2916, 0.0034517505534981735), (2917, 0.02009381266783118), (2918, 0.0), (2919, 0.1608498631375591), (2920, 0.0028195614999622794), (2921, 0.0), (2922, 0.0), (2923, 0.004152065556729358), (2924, 0.0035738752129322233), (2925, 0.0024742160922188294), (2926, 0.003222798278840497), (2927, 0.0), (2928, 0.0), (2929, 0.0658739094497141), (2930, 0.0), (2931, 0.0027875716704978187), (2932, 0.004074390240889759), (2933, 0.002617010628706704), (2934, 0.0031040662217116416), (2935, 0.0), (2936, 0.03698568925593995), (2937, 0.004425070718472844), (2938, 0.0), (2939, 0.0), (2940, 0.0032937531741367076), (2941, 0.0), (2942, 0.0026665896482682356), (2943, 0.0030705390307366807), (2944, 0.0), (2945, 0.003016509257730512), (2946, 0.003032704975791723), (2947, 0.0), (2948, 0.0), (2949, 0.10761190354085201), (2950, 0.0), (2951, 0.0), (2952, 0.0), (2953, 0.0032618196101770317), (2954, 0.002813775574819111), (2955, 0.0), (2956, 0.0), (2957, 0.0037700391960423163), (2958, 0.0), (2959, 0.0), (2960, 0.0), (2961, 0.0030332909101359394), (2962, 0.0388187067511412), (2963, 0.0), (2964, 0.02726082679576534), (2965, 0.002927308905584645), (2966, 0.0037461663111476307), (2967, 0.0), (2968, 0.0), (2969, 0.021158412729408625), (2970, 0.0032846676880900947), (2971, 0.0), (2972, 0.002904723477844352), (2973, 0.0), (2974, 0.0034598234094222824), (2975, 0.033226648945734745), (2976, 0.002760526329808255), (2977, 0.003155283509848426), (2978, 0.0), (2979, 0.0), (2980, 0.0030222787402774415), (2981, 0.042882887320163585), (2982, 0.0), (2983, 0.0), (2984, 0.0), (2985, 0.0025704103801533623), (2986, 0.024167597050864714), (2987, 0.0035576037970498162), (2988, 0.1004430978522735), (2989, 0.004293961879889946), (2990, 0.0), (2991, 0.0), (2992, 0.06886749627909333), (2993, 0.108259030102358), (2994, 0.0), (2995, 0.0029206014910310584), (2996, 0.003391303033680497), (2997, 0.00291269524320472), (2998, 0.00462630636193867), (2999, 0.003064140239599701), (3000, 0.003155167784936294), (3001, 0.0), (3002, 0.0), (3003, 0.003423280659343756), (3004, 0.003795603964811601), (3005, 0.0), (3006, 0.0), (3007, 0.0032921194424587424), (3008, 0.024561123844590225), (3009, 0.024294532456519982), (3010, 0.0029716013678393813), (3011, 0.0), (3012, 0.0034549551240693126), (3013, 0.0034763090460471205), (3014, 0.002909130116196119), (3015, 0.0039049974120740636), (3016, 0.0789874842213857), (3017, 0.0), (3018, 0.0), (3019, 0.0035873851788301952), (3020, 0.0037410496958300487), (3021, 0.0), (3022, 0.0), (3023, 0.0), (3024, 0.002549205399290112), (3025, 0.0), (3026, 0.0034046798273499965), (3027, 0.0027730211459112853), (3028, 0.0029779101997866662), (3029, 0.0), (3030, 0.004174660542059655), (3031, 0.0037643559341328796), (3032, 0.0034493297571822536), (3033, 0.0), (3034, 0.0518273581469058), (3035, 0.002933672676982345), (3036, 0.09258950980095536), (3037, 0.0032528160990117788), (3038, 0.0), (3039, 0.0), (3040, 0.004303531426257621), (3041, 0.0), (3042, 0.004175393694404112), (3043, 0.003488513352155514), (3044, 0.0033590984387219104), (3045, 0.0), (3046, 0.0030224381044689276), (3047, 0.0), (3048, 0.0), (3049, 0.0), (3050, 0.002823337152837886), (3051, 0.004395727420463231), (3052, 0.004209164903398685), (3053, 0.0), (3054, 0.0), (3055, 0.004193292261241093), (3056, 0.002552885832833611), (3057, 0.002890870331517333), (3058, 0.0), (3059, 0.0), (3060, 0.0), (3061, 0.0), (3062, 0.003416466197380498), (3063, 0.0), (3064, 0.003353166772325364), (3065, 0.002617508055254027), (3066, 0.028395111121240543), (3067, 0.0030443009397745128), (3068, 0.0), (3069, 0.02446404172561675), (3070, 0.0), (3071, 0.042262437262487074), (3072, 0.003581659895066041), (3073, 0.19909573059097502), (3074, 0.0037808073239213847), (3075, 0.002992878326943336), (3076, 0.004032973139045792), (3077, 0.0), (3078, 0.0), (3079, 0.0), (3080, 0.0), (3081, 0.0036266394323658884), (3082, 0.0), (3083, 0.0), (3084, 0.003268392179214274), (3085, 0.0), (3086, 0.0033289670609106285), (3087, 0.0), (3088, 0.0), (3089, 0.0), (3090, 0.0), (3091, 0.002579355704196441), (3092, 0.01874374110386641), (3093, 0.0030327405437356137), (3094, 0.003605742839045401), (3095, 0.056098205980754136), (3096, 0.002678754853854562), (3097, 0.0033980223754258767), (3098, 0.04931023165724848), (3099, 0.0), (3100, 0.0), (3101, 0.0034045702527898906), (3102, 0.0), (3103, 0.0), (3104, 0.0), (3105, 0.0), (3106, 0.0), (3107, 0.0), (3108, 0.0027658191666971327), (3109, 0.0), (3110, 0.0), (3111, 0.002758102714875247), (3112, 0.0033136934041187232), (3113, 0.020839351659335648), (3114, 0.0), (3115, 0.0), (3116, 0.027528582572151378), (3117, 0.0), (3118, 0.0), (3119, 0.0042247201084483306), (3120, 0.023618574333338145), (3121, 0.0), (3122, 0.002939767002316081), (3123, 0.0037588130293500425), (3124, 0.0), (3125, 0.0030968357323400936), (3126, 0.0), (3127, 0.0), (3128, 0.00388455899436383), (3129, 0.0), (3130, 0.0), (3131, 0.0), (3132, 0.0), (3133, 0.0), (3134, 0.0), (3135, 0.0), (3136, 0.0), (3137, 0.005720313133296885), (3138, 0.0), (3139, 0.004362985791848375), (3140, 0.0038782007689843506), (3141, 0.0), (3142, 0.0), (3143, 0.0), (3144, 0.0), (3145, 0.0), (3146, 0.003446937138741949), (3147, 0.0028688187590819496), (3148, 0.1102625267375826), (3149, 0.021634479456569024), (3150, 0.003224200501891689), (3151, 0.0029354562656817716), (3152, 0.00240473957501851), (3153, 0.0031732572879803367), (3154, 0.039343292084486815), (3155, 0.0031026945599526012), (3156, 0.0), (3157, 0.00343000029382648), (3158, 0.0), (3159, 0.0038139608638761394), (3160, 0.0), (3161, 0.0), (3162, 0.0), (3163, 0.0683132522304863), (3164, 0.0), (3165, 0.0035394699016318876), (3166, 0.004274564395779882), (3167, 0.002759747551541968), (3168, 0.0), (3169, 0.0), (3170, 0.002931661563123286), (3171, 0.002931362382637335), (3172, 0.0), (3173, 0.0030348190953199557), (3174, 0.0030733873258160763), (3175, 0.0), (3176, 0.0), (3177, 0.016481407517329048), (3178, 0.004872196776926268), (3179, 0.0), (3180, 0.0), (3181, 0.0), (3182, 0.08337248911386022), (3183, 0.003374512835503843), (3184, 0.0033098717452432523), (3185, 0.0), (3186, 0.03148797964255721), (3187, 0.0032428727632574845), (3188, 0.0), (3189, 0.018228660041125135), (3190, 0.0), (3191, 0.0), (3192, 0.0), (3193, 0.0), (3194, 0.002908644159588962), (3195, 0.003032601291311205), (3196, 0.003455571481933764), (3197, 0.0), (3198, 0.003183428311514436), (3199, 0.002386380146011104), (3200, 0.0026183500826133057), (3201, 0.0), (3202, 0.0), (3203, 0.0), (3204, 0.0), (3205, 0.0), (3206, 0.003728439957421999), (3207, 0.0), (3208, 0.0), (3209, 0.0), (3210, 0.0031083899095207777), (3211, 0.13481105179203148), (3212, 0.0), (3213, 0.0), (3214, 0.0029419884586299244), (3215, 0.0), (3216, 0.020332101945082722), (3217, 0.0), (3218, 0.003285314841813033), (3219, 0.004027202630976158), (3220, 0.003011770047575933), (3221, 0.0), (3222, 0.0), (3223, 0.0), (3224, 0.0032083405651042018), (3225, 0.020937399657549052), (3226, 0.03239870899343512), (3227, 0.025722267749073775), (3228, 0.003739766025578842), (3229, 0.05845789005641587), (3230, 0.0035576881444419144), (3231, 0.0), (3232, 0.0), (3233, 0.0031702391771727986), (3234, 0.02233306471809429), (3235, 0.0032851174573509303), (3236, 0.0), (3237, 0.003043734011691957), (3238, 0.08380919834211499), (3239, 0.0038852014889346953), (3240, 0.0059557705379498305), (3241, 0.003214920467576672), (3242, 0.0032353715453830043), (3243, 0.002886227074415684), (3244, 0.0), (3245, 0.01753004981340125), (3246, 0.0029542333064834594), (3247, 0.0), (3248, 0.0034367936257598637), (3249, 0.003854214118322452), (3250, 0.0), (3251, 0.0), (3252, 0.002567771485810754), (3253, 0.0), (3254, 0.002519665646381244), (3255, 0.0), (3256, 0.026145750370357036), (3257, 0.0037131921964677675), (3258, 0.0033509272372879437), (3259, 0.0), (3260, 0.003023480308931095), (3261, 0.0), (3262, 0.003965137746109532), (3263, 0.026896385858772652), (3264, 0.0032538933601185234), (3265, 0.0), (3266, 0.0), (3267, 0.0027961787469996005), (3268, 0.06433963550284795), (3269, 0.0033334137599140582), (3270, 0.0), (3271, 0.0033296816157893537), (3272, 0.0), (3273, 0.0034307645612241954), (3274, 0.00347212769705265), (3275, 0.00360178130458138), (3276, 0.004651820538800502), (3277, 0.0), (3278, 0.0028020626881059573), (3279, 0.0), (3280, 0.016153249522475828), (3281, 0.04170318891276872), (3282, 0.003996409530870745), (3283, 0.0031388523027142483), (3284, 0.002822345417001051), (3285, 0.002316680066653494), (3286, 0.0), (3287, 0.0), (3288, 0.016975827463431136), (3289, 0.003158120971440464), (3290, 0.003171312303654661), (3291, 0.004141156384044729), (3292, 0.004022795430469175), (3293, 0.002916733707809173), (3294, 0.01600260036568768), (3295, 0.0), (3296, 0.0035049263462241737), (3297, 0.003274439149009169), (3298, 0.0029767642264187555), (3299, 0.0030621405281787504), (3300, 0.0028959387700793035), (3301, 0.002413161754873299), (3302, 0.0037546629307766742), (3303, 0.003135967228034033), (3304, 0.0027903622586458975), (3305, 0.04357022733187855), (3306, 0.0028251671185853242), (3307, 0.0035795999984948963), (3308, 0.0036482749366730477), (3309, 0.0), (3310, 0.025755726291548736), (3311, 0.0027875773111052916), (3312, 0.0), (3313, 0.002515906388750083), (3314, 0.003268282416650782), (3315, 0.14874071690185067), (3316, 0.0023704717096889342), (3317, 0.002524007762698751), (3318, 0.002777356201209803), (3319, 0.0), (3320, 0.0), (3321, 0.0), (3322, 0.003966076493326177), (3323, 0.0), (3324, 0.0), (3325, 0.00550577704114206), (3326, 0.003263837832922816), (3327, 0.002764101282055924), (3328, 0.0020255026793262218), (3329, 0.029386847970355442), (3330, 0.040484188497496396), (3331, 0.0025688051684497953), (3332, 0.03979089829636767), (3333, 0.06424377253883033), (3334, 0.0), (3335, 0.0031135918644052364), (3336, 0.0027736949625307068), (3337, 0.003555706320675867), (3338, 0.0), (3339, 0.01493122899506328), (3340, 0.0), (3341, 0.00309024401234259), (3342, 0.0028615348032627374), (3343, 0.022406555480466793), (3344, 0.002617099562563187), (3345, 0.0), (3346, 0.0030734226151025784), (3347, 0.002586441767134609), (3348, 0.0029822618067706615), (3349, 0.00319711641442901), (3350, 0.021674317263686543), (3351, 0.05758046199012375), (3352, 0.0029634551591366546), (3353, 0.003203754143375645), (3354, 0.003879791382872187), (3355, 0.0035452948957240245), (3356, 0.0), (3357, 0.0038304770208410477), (3358, 0.0037411966272153873), (3359, 0.0035862910587658686), (3360, 0.00273731502153215), (3361, 0.0), (3362, 0.0024401903069990374), (3363, 0.1119390862584736), (3364, 0.0035574469234794658), (3365, 0.002173166077836368), (3366, 0.0), (3367, 0.0), (3368, 0.0), (3369, 0.07097100257180138), (3370, 0.002991226253613671), (3371, 0.0), (3372, 0.09426424963995363), (3373, 0.02299637705963397), (3374, 0.0030582597460132696), (3375, 0.0476674752675444), (3376, 0.002631476774973395), (3377, 0.0), (3378, 0.0), (3379, 0.0030212404335824053), (3380, 0.03357302545783576), (3381, 0.003044817613279645), (3382, 0.06571224176136797), (3383, 0.0), (3384, 0.0), (3385, 0.0), (3386, 0.0031224280777157045), (3387, 0.0), (3388, 0.0032468201899279064), (3389, 0.002834184822002479), (3390, 0.0029361269189186277), (3391, 0.006870244971092735), (3392, 0.002047579297593469), (3393, 0.0026503554331129687), (3394, 0.0), (3395, 0.02060451176444583), (3396, 0.003554483169507009), (3397, 0.0), (3398, 0.0), (3399, 0.0028790407644999176), (3400, 0.021934652897114812), (3401, 0.02616892792178159), (3402, 0.00300296909970813), (3403, 0.002699839818692335), (3404, 0.0), (3405, 0.0), (3406, 0.0032521953068823787), (3407, 0.030672917967210125), (3408, 0.0035636544032168218), (3409, 0.0026291134289264098), (3410, 0.002479801114254276), (3411, 0.0), (3412, 0.0030054529418182545), (3413, 0.03335567808600486), (3414, 0.0034495402851409847), (3415, 0.0181581082533455), (3416, 0.0), (3417, 0.00339403981765871), (3418, 0.025202083315329398), (3419, 0.003556280901488824), (3420, 0.0), (3421, 0.039684633181793896), (3422, 0.0), (3423, 0.0035260581631989265), (3424, 0.0), (3425, 0.06050046254550288), (3426, 0.020864587148808213), (3427, 0.0), (3428, 0.0), (3429, 0.0), (3430, 0.04774589726460768), (3431, 0.0024746276707270933), (3432, 0.0), (3433, 0.0029016257719000605), (3434, 0.0032784267083957705), (3435, 0.003051662450626851), (3436, 0.025212564734217884), (3437, 0.0032260444929589774), (3438, 0.023944582595641264), (3439, 0.0), (3440, 0.020158737263504218), (3441, 0.0030563038677788486), (3442, 0.0), (3443, 0.07285130027722012), (3444, 0.0), (3445, 0.003155968416081698), (3446, 0.0), (3447, 0.0030112286707852645), (3448, 0.0), (3449, 0.0033299790221500932), (3450, 0.0035789809515253666), (3451, 0.0), (3452, 0.002873542526039114), (3453, 0.031966663139363735), (3454, 0.0), (3455, 0.002829522985894274), (3456, 0.015318480864317304), (3457, 0.0), (3458, 0.0021112290139968224), (3459, 0.0), (3460, 0.002833705225230571), (3461, 0.0), (3462, 0.0), (3463, 0.01789773945922774), (3464, 0.018388087438446537), (3465, 0.0), (3466, 0.02068262102924978), (3467, 0.0), (3468, 0.0), (3469, 0.0194299981547271), (3470, 0.0), (3471, 0.0024502030156777193), (3472, 0.0), (3473, 0.0), (3474, 0.0028001622746467534), (3475, 0.0), (3476, 0.0), (3477, 0.003055718229066204), (3478, 0.0030816216007758706), (3479, 0.004115419682781007), (3480, 0.0), (3481, 0.0), (3482, 0.0), (3483, 0.0032627755005381533), (3484, 0.0), (3485, 0.0), (3486, 0.0), (3487, 0.0029628708615270912), (3488, 0.0), (3489, 0.0), (3490, 0.0), (3491, 0.003093712478993914), (3492, 0.003077822536175544), (3493, 0.126584757774006), (3494, 0.0), (3495, 0.0), (3496, 0.003307818428480621), (3497, 0.0033669877821990374), (3498, 0.002944355214119682), (3499, 0.09661462404379206), (3500, 0.07138319412337715), (3501, 0.0031324367486838187), (3502, 0.0), (3503, 0.002954964831142502), (3504, 0.0029516394078491575), (3505, 0.0), (3506, 0.0035541630939267426), (3507, 0.0), (3508, 0.0), (3509, 0.0), (3510, 0.0), (3511, 0.060380834522514165), (3512, 0.004725387400502561), (3513, 0.0), (3514, 0.0032171009517657613), (3515, 0.0), (3516, 0.08901065048096267), (3517, 0.003190727240790706), (3518, 0.0), (3519, 0.0), (3520, 0.0), (3521, 0.0037964030731882353), (3522, 0.0), (3523, 0.004417566316043343), (3524, 0.0036256892637900116), (3525, 0.0), (3526, 0.0031536944888163167), (3527, 0.003185443756676824), (3528, 0.0), (3529, 0.0), (3530, 0.0), (3531, 0.0), (3532, 0.0), (3533, 0.02130685429301428), (3534, 0.005089143872837398), (3535, 0.06268596698415023), (3536, 0.0031974583629264413), (3537, 0.003822273075016557), (3538, 0.002457177057255853), (3539, 0.0), (3540, 0.0035942167717993826), (3541, 0.054896689140533424), (3542, 0.0031529512984746423), (3543, 0.0), (3544, 0.0037511143723794617), (3545, 0.0), (3546, 0.002299120615735415), (3547, 0.0), (3548, 0.0025341599660692548), (3549, 0.0), (3550, 0.0), (3551, 0.003110222154582955), (3552, 0.005011929958441444), (3553, 0.00305416128506656), (3554, 0.0), (3555, 0.0), (3556, 0.0027553669297844677), (3557, 0.003021912927928457), (3558, 0.0028449865663906985), (3559, 0.0), (3560, 0.003462479074400462), (3561, 0.004177442615767074), (3562, 0.0), (3563, 0.002808612549147291), (3564, 0.0030935703695958213), (3565, 0.0030497887908813135), (3566, 0.0), (3567, 0.02104915919422147), (3568, 0.0), (3569, 0.0026420962532192026), (3570, 0.0), (3571, 0.003151131257165499), (3572, 0.02432370340618012), (3573, 0.0), (3574, 0.0), (3575, 0.0024895689365298174), (3576, 0.0), (3577, 0.003808365535529159), (3578, 0.0), (3579, 0.0026304038170545294), (3580, 0.0), (3581, 0.0), (3582, 0.0), (3583, 0.02177855925816761), (3584, 0.023594834707103496), (3585, 0.021860696276420174), (3586, 0.0), (3587, 0.02821976392738753), (3588, 0.0), (3589, 0.0), (3590, 0.0032734447430186712), (3591, 0.0), (3592, 0.0), (3593, 0.0034400088391889775), (3594, 0.0), (3595, 0.0), (3596, 0.0030497739895860645), (3597, 0.0), (3598, 0.036601210003496774), (3599, 0.003217584843349931), (3600, 0.0), (3601, 0.00328649267713437), (3602, 0.0), (3603, 0.0), (3604, 0.0), (3605, 0.0), (3606, 0.003142020646126138), (3607, 0.0), (3608, 0.002007208426398433), (3609, 0.0), (3610, 0.0), (3611, 0.0035014058183196013), (3612, 0.02043957730951728), (3613, 0.003800967054473173), (3614, 0.0027892890915411995), (3615, 0.0029019257462953975), (3616, 0.031152543490439416), (3617, 0.0), (3618, 0.0032664706613025106), (3619, 0.02166094404018407), (3620, 0.00375245922666102), (3621, 0.003626160737444425), (3622, 0.0), (3623, 0.0031789448365201665), (3624, 0.0030530588102010273), (3625, 0.0), (3626, 0.002364238338067687), (3627, 0.0028512777583515024), (3628, 0.018972981613856733), (3629, 0.002646532492449381), (3630, 0.0), (3631, 0.0), (3632, 0.022925788079985368), (3633, 0.0), (3634, 0.002605488909172927), (3635, 0.004166367827387347), (3636, 0.0031757291996441198), (3637, 0.0026949271537095613), (3638, 0.003842073544238228), (3639, 0.0035268164174742985), (3640, 0.0279382224046464), (3641, 0.0029761586087690617), (3642, 0.030114027327655276), (3643, 0.0031306025119296707), (3644, 0.0), (3645, 0.0023227469111921153), (3646, 0.002913868722336188), (3647, 0.003031912326575776), (3648, 0.0), (3649, 0.0), (3650, 0.05703320523261463), (3651, 0.003525244525075507), (3652, 0.0), (3653, 0.003141294320721784), (3654, 0.003240928732287344), (3655, 0.0026818458138333093), (3656, 0.0028400039508745117), (3657, 0.0026005281974114942), (3658, 0.024865556158415084), (3659, 0.0), (3660, 0.0029717078170862373), (3661, 0.0035145675631250177), (3662, 0.017341463361864616), (3663, 0.0), (3664, 0.0), (3665, 0.003074280799655179), (3666, 0.003199678316118502), (3667, 0.0047120429065048725), (3668, 0.021592921402306703), (3669, 0.0026115250181911603), (3670, 0.003107959493492937), (3671, 0.0), (3672, 0.004378907883858135), (3673, 0.003069134055475596), (3674, 0.0), (3675, 0.0036734172677864506), (3676, 0.0), (3677, 0.0033826337516735783), (3678, 0.003278348301516643), (3679, 0.0), (3680, 0.003484703983536346), (3681, 0.019260648921652166), (3682, 0.019264278695933723), (3683, 0.0), (3684, 0.0), (3685, 0.022003952819069146), (3686, 0.0), (3687, 0.0038489675491867642), (3688, 0.0), (3689, 0.00318745778350687), (3690, 0.0), (3691, 0.0029322990882239067), (3692, 0.003317991856018639), (3693, 0.0), (3694, 0.003335015274356994), (3695, 0.024030596984706318), (3696, 0.0029718371428502114), (3697, 0.0), (3698, 0.0), (3699, 0.003147546976167669), (3700, 0.020868196703042016), (3701, 0.02094636377799848), (3702, 0.0), (3703, 0.0), (3704, 0.0033301564349199125), (3705, 0.002788503426467456), (3706, 0.0030074374419495386), (3707, 0.08329820900744249), (3708, 0.0), (3709, 0.024063646792509972), (3710, 0.0), (3711, 0.015985588979563266), (3712, 0.0699635136171248), (3713, 0.0), (3714, 0.00336830657534905), (3715, 0.0), (3716, 0.0), (3717, 0.0), (3718, 0.0), (3719, 0.00300782828826095), (3720, 0.0), (3721, 0.0), (3722, 0.0), (3723, 0.0), (3724, 0.0), (3725, 0.00286934588553764), (3726, 0.0), (3727, 0.003055393133232796), (3728, 0.003295286763534008), (3729, 0.0035713163005292453), (3730, 0.031770475735776696), (3731, 0.0), (3732, 0.027076909728677285), (3733, 0.0029349475162154), (3734, 0.002906498802847551), (3735, 0.0), (3736, 0.0), (3737, 0.02281458777256739), (3738, 0.0), (3739, 0.0031154933653317466), (3740, 0.0), (3741, 0.0), (3742, 0.0028148152314706487), (3743, 0.0), (3744, 0.0), (3745, 0.02946912828706458), (3746, 0.0), (3747, 0.0), (3748, 0.0), (3749, 0.0033599842057031887), (3750, 0.0), (3751, 0.0025328540697247873), (3752, 0.0), (3753, 0.0), (3754, 0.003573782134749918), (3755, 0.00272351145863676), (3756, 0.002520701133546494), (3757, 0.003324177959080651), (3758, 0.0), (3759, 0.0), (3760, 0.0), (3761, 0.0), (3762, 0.004014703697660217), (3763, 0.003631770526956324), (3764, 0.017144447573719773), (3765, 0.002993428946614948), (3766, 0.0036749224447758587), (3767, 0.002830777956165977), (3768, 0.0), (3769, 0.0), (3770, 0.0032225004311941283), (3771, 0.003337773527176221), (3772, 0.003506867745415753), (3773, 0.0), (3774, 0.0), (3775, 0.0), (3776, 0.0), (3777, 0.0032559326082042964), (3778, 0.0032009345908346762), (3779, 0.0037211523509270024), (3780, 0.055791296686121705), (3781, 0.003301808641257991), (3782, 0.0), (3783, 0.0), (3784, 0.002933183788514393), (3785, 0.0), (3786, 0.0), (3787, 0.0), (3788, 0.0), (3789, 0.0), (3790, 0.01803322011738399), (3791, 0.0), (3792, 0.025943285273055356), (3793, 0.0), (3794, 0.0), (3795, 0.0027565903989653705), (3796, 0.0), (3797, 0.003410099242952351), (3798, 0.0), (3799, 0.0029211247628506214), (3800, 0.0), (3801, 0.0027609124783103895), (3802, 0.0), (3803, 0.019222049873624313), (3804, 0.0034375737560762977), (3805, 0.0), (3806, 0.0), (3807, 0.0030654567193765516), (3808, 0.0), (3809, 0.003157327421597066), (3810, 0.0), (3811, 0.030800922705093887), (3812, 0.0), (3813, 0.0033623592520835408), (3814, 0.0), (3815, 0.0), (3816, 0.0), (3817, 0.0), (3818, 0.0), (3819, 0.0029096244689700386), (3820, 0.0), (3821, 0.0025843804652439257), (3822, 0.0034601109178734268), (3823, 0.0), (3824, 0.0), (3825, 0.0), (3826, 0.00296258647195475), (3827, 0.0030214510238865742), (3828, 0.003897312298381553), (3829, 0.0028645441509400596), (3830, 0.0), (3831, 0.024092027547597768), (3832, 0.0037620066614751793), (3833, 0.0), (3834, 0.0), (3835, 0.001855968764153441), (3836, 0.0), (3837, 0.0), (3838, 0.0), (3839, 0.029649213776331153), (3840, 0.0), (3841, 0.002763542741667165), (3842, 0.0), (3843, 0.0), (3844, 0.02174181193081166), (3845, 0.003214274023926361), (3846, 0.0), (3847, 0.0), (3848, 0.003909610761328914), (3849, 0.07436716931919907), (3850, 0.0), (3851, 0.0), (3852, 0.01954315007035648), (3853, 0.0), (3854, 0.002849715076545305), (3855, 0.0026147883420272874), (3856, 0.021366733402061792), (3857, 0.0034227344457469686), (3858, 0.025720207932553356), (3859, 0.0), (3860, 0.026350652284803995), (3861, 0.0), (3862, 0.003218423496578813), (3863, 0.0027691340773429015), (3864, 0.0), (3865, 0.0), (3866, 0.0035521517273302957), (3867, 0.0035007285336032096), (3868, 0.0029485818606218395), (3869, 0.0), (3870, 0.0), (3871, 0.0), (3872, 0.05423923903124902), (3873, 0.0032951154578232714), (3874, 0.0037683121541625814), (3875, 0.03301818404330343), (3876, 0.0028287201848786105), (3877, 0.08263878540656117), (3878, 0.004050192453611664), (3879, 0.023935864192314773), (3880, 0.0026885294793627017), (3881, 0.0), (3882, 0.0603706138773849), (3883, 0.003512682950013201), (3884, 0.003585402710041669), (3885, 0.0), (3886, 0.0), (3887, 0.0), (3888, 0.003049098408620503), (3889, 0.003342059463649312), (3890, 0.0029813371242983296), (3891, 0.0), (3892, 0.0040059907898979605), (3893, 0.0033290658624297027), (3894, 0.002702642502329497), (3895, 0.0026976238023776592), (3896, 0.0), (3897, 0.0), (3898, 0.07301470909762928), (3899, 0.00936102287535026), (3900, 0.002963255271954062), (3901, 0.0037164282865148777), (3902, 0.0032063418361130388), (3903, 0.003529734839220657), (3904, 0.003296111651766936), (3905, 0.023239336978481278), (3906, 0.0030319261860632745), (3907, 0.0), (3908, 0.0), (3909, 0.0), (3910, 0.0027054601381112453), (3911, 0.0036822714960472805), (3912, 0.0), (3913, 0.0028449434057760017), (3914, 0.0), (3915, 0.003347159564198347), (3916, 0.014784066710962895), (3917, 0.002964358298320116), (3918, 0.0), (3919, 0.0032214011141507774), (3920, 0.0031919464830268028), (3921, 0.0), (3922, 0.0038041723175009103), (3923, 0.0), (3924, 0.0033874939029628977), (3925, 0.06311372371800184), (3926, 0.0), (3927, 0.06404213807519707), (3928, 0.002574113018374379), (3929, 0.0), (3930, 0.0), (3931, 0.0), (3932, 0.005684538544294185), (3933, 0.0), (3934, 0.0), (3935, 0.003631220890079063), (3936, 0.0), (3937, 0.0), (3938, 0.0), (3939, 0.0041043569793240186), (3940, 0.0), (3941, 0.0028877926455949557), (3942, 0.0), (3943, 0.0), (3944, 0.0), (3945, 0.008973346024524669), (3946, 0.0), (3947, 0.0), (3948, 0.0), (3949, 0.0), (3950, 0.0), (3951, 0.0035957121482345666), (3952, 0.0035339468722526044), (3953, 0.0028038345272721745), (3954, 0.0029083646383138715), (3955, 0.0), (3956, 0.039105293182730975), (3957, 0.06745951162100079), (3958, 0.0), (3959, 0.0031917395970187247), (3960, 0.003493593200457013), (3961, 0.003401346297202692), (3962, 0.0034609683435846213), (3963, 0.0), (3964, 0.0), (3965, 0.0), (3966, 0.0), (3967, 0.0034065986103307567), (3968, 0.0), (3969, 0.0), (3970, 0.0), (3971, 0.0), (3972, 0.0), (3973, 0.08657632414326975), (3974, 0.002773633820849949), (3975, 0.0), (3976, 0.0), (3977, 0.0), (3978, 0.0029393078755713623), (3979, 0.0), (3980, 0.01762484483567675), (3981, 0.0), (3982, 0.0), (3983, 0.032869333342092896), (3984, 0.0032408511774834133), (3985, 0.021441479225488284), (3986, 0.002772707696710054), (3987, 0.02668161111974974), (3988, 0.0), (3989, 0.0), (3990, 0.02820171892500924), (3991, 0.0), (3992, 0.0034833863703158247), (3993, 0.0), (3994, 0.0), (3995, 0.0), (3996, 0.0), (3997, 0.02387800798555725), (3998, 0.0), (3999, 0.003794440041410863), (4000, 0.0030566377846292475), (4001, 0.0), (4002, 0.003578796032630293), (4003, 0.0191657382573916), (4004, 0.0031251806598763324), (4005, 0.027259124130202185), (4006, 0.0), (4007, 0.0), (4008, 0.0), (4009, 0.0), (4010, 0.0), (4011, 0.0028941029726538294), (4012, 0.0), (4013, 0.0947102386542681), (4014, 0.0031179762244970453), (4015, 0.0025420358582335456), (4016, 0.0030731302336617547), (4017, 0.004181789558786505), (4018, 0.0), (4019, 0.003994772949427688), (4020, 0.0030232036474835636), (4021, 0.0), (4022, 0.0), (4023, 0.037961123305857214), (4024, 0.003327830136726294), (4025, 0.0031970058030117198), (4026, 0.0), (4027, 0.026070063612813464), (4028, 0.0), (4029, 0.0), (4030, 0.00360691991250156), (4031, 0.0), (4032, 0.02976757320245005), (4033, 0.0032510117730012913), (4034, 0.0), (4035, 0.0), (4036, 0.003011014700984617), (4037, 0.0), (4038, 0.003294504928634621), (4039, 0.0), (4040, 0.0), (4041, 0.0), (4042, 0.003403589550678822), (4043, 0.0), (4044, 0.0), (4045, 0.0), (4046, 0.0033782825759707956), (4047, 0.0), (4048, 0.0033735618229162887), (4049, 0.0412274798316533), (4050, 0.0), (4051, 0.0034379984720650097), (4052, 0.03397305931495963), (4053, 0.13478563779003605), (4054, 0.003267590681046237), (4055, 0.0), (4056, 0.020321359644266433), (4057, 0.0), (4058, 0.0), (4059, 0.0028818228991502786), (4060, 0.003061637772738461), (4061, 0.02399758829164417), (4062, 0.030898917072762495), (4063, 0.0), (4064, 0.019247194617376104), (4065, 0.0), (4066, 0.0027062466849383936), (4067, 0.0), (4068, 0.0031306952617004466), (4069, 0.0029765094033853677), (4070, 0.0), (4071, 0.0), (4072, 0.0), (4073, 0.0), (4074, 0.002773236590392649), (4075, 0.0035957424455071107), (4076, 0.0), (4077, 0.0), (4078, 0.0), (4079, 0.003194536981900589), (4080, 0.0027630613331741613), (4081, 0.003098670566634474), (4082, 0.004353321268891567), (4083, 0.003217241267766389), (4084, 0.0), (4085, 0.0029330021238609845), (4086, 0.0), (4087, 0.0033499406819981307), (4088, 0.0), (4089, 0.003208645998498467), (4090, 0.0), (4091, 0.0), (4092, 0.003487344598527275), (4093, 0.0), (4094, 0.0), (4095, 0.002615234060184778), (4096, 0.019033476422117106), (4097, 0.05140544054983762), (4098, 0.02094346590581912), (4099, 0.0), (4100, 0.0), (4101, 0.003363423688582156), (4102, 0.003912710083757977), (4103, 0.0), (4104, 0.050844606294404474), (4105, 0.0), (4106, 0.0), (4107, 0.0038051432070303143), (4108, 0.0), (4109, 0.0), (4110, 0.03139287746079002), (4111, 0.021872599177330723), (4112, 0.0), (4113, 0.003422776505311734), (4114, 0.0), (4115, 0.0), (4116, 0.027311823130228518), (4117, 0.0035177294184951806), (4118, 0.0), (4119, 0.0), (4120, 0.03239562501490559), (4121, 0.0), (4122, 0.027855503581530203), (4123, 0.0032537877502439166), (4124, 0.002915892950623478), (4125, 0.0), (4126, 0.0035858933323472337), (4127, 0.0), (4128, 0.0), (4129, 0.0029827867451374416), (4130, 0.003368185118273413), (4131, 0.0), (4132, 0.0269651316660339), (4133, 0.003360157810795578), (4134, 0.0), (4135, 0.003125323947368779), (4136, 0.0032102218581730735), (4137, 0.0031099002248232916), (4138, 0.003415749313165176), (4139, 0.00297577949583809), (4140, 0.0033670235670298916), (4141, 0.002747588220346026), (4142, 0.003939855223062005), (4143, 0.0027700411581797466), (4144, 0.0), (4145, 0.003619894700742423), (4146, 0.0), (4147, 0.0037522649895736274), (4148, 0.0411850349018813), (4149, 0.0), (4150, 0.0), (4151, 0.00529463669999794), (4152, 0.002940109767290758), (4153, 0.0), (4154, 0.0027845864172510023), (4155, 0.07329248928766181), (4156, 0.028177307979234022), (4157, 0.0), (4158, 0.0), (4159, 0.0), (4160, 0.0034550716277897153), (4161, 0.0033152077780993507), (4162, 0.0), (4163, 0.00357277167010339), (4164, 0.0), (4165, 0.0), (4166, 0.0), (4167, 0.0), (4168, 0.0), (4169, 0.026685195166172137), (4170, 0.0), (4171, 0.002177899421108656), (4172, 0.0040739439800870835), (4173, 0.018563318906224036), (4174, 0.0028363764049159942), (4175, 0.0032813480825927984), (4176, 0.0028335858772452586), (4177, 0.0), (4178, 0.02630456349591047), (4179, 0.0), (4180, 0.0), (4181, 0.03203544770553562), (4182, 0.0023379694360993), (4183, 0.002988867484487852), (4184, 0.0), (4185, 0.0), (4186, 0.015882243763656947), (4187, 0.0034965923445698602), (4188, 0.0), (4189, 0.003152147049191665), (4190, 0.0), (4191, 0.0), (4192, 0.002984106038877313), (4193, 0.0), (4194, 0.0), (4195, 0.0), (4196, 0.0), (4197, 0.058476903599457675), (4198, 0.0), (4199, 0.0), (4200, 0.002547844680137129), (4201, 0.0), (4202, 0.004308977010518411), (4203, 0.0035720419008782533), (4204, 0.0), (4205, 0.0027524978385034243), (4206, 0.0029271777604441868), (4207, 0.0), (4208, 0.0), (4209, 0.0037761514011234038), (4210, 0.0), (4211, 0.0), (4212, 0.0), (4213, 0.002930281000976271), (4214, 0.0), (4215, 0.0), (4216, 0.0), (4217, 0.016757673355965914), (4218, 0.0), (4219, 0.0), (4220, 0.0027185260447689288), (4221, 0.004120116081078138), (4222, 0.004132886865196153), (4223, 0.0), (4224, 0.0), (4225, 0.003234860179654745), (4226, 0.024520527263913173), (4227, 0.0), (4228, 0.003044469626256971), (4229, 0.0), (4230, 0.003948492663779038), (4231, 0.0032872601935524945), (4232, 0.0026790334444792984), (4233, 0.0), (4234, 0.0), (4235, 0.015897148171249983), (4236, 0.0), (4237, 0.0), (4238, 0.0), (4239, 0.0), (4240, 0.0), (4241, 0.0), (4242, 0.0038283720529843496), (4243, 0.003508176653818808), (4244, 0.023407033148362916), (4245, 0.0033109211689121764), (4246, 0.00291776598591638), (4247, 0.00270850373273219), (4248, 0.0), (4249, 0.0031795832534774813), (4250, 0.0), (4251, 0.0), (4252, 0.0), (4253, 0.0), (4254, 0.0028934921350435142), (4255, 0.0031239006219453223), (4256, 0.03140162595100008), (4257, 0.0029029690036759858), (4258, 0.0), (4259, 0.0034229627677280277), (4260, 0.0), (4261, 0.0), (4262, 0.0031993129369332685), (4263, 0.003394119887866696), (4264, 0.03699454779777361), (4265, 0.0), (4266, 0.003109562231793051), (4267, 0.04868855977850361), (4268, 0.0030691686596983347), (4269, 0.0033054449193680273), (4270, 0.0), (4271, 0.0), (4272, 0.02127835448003647), (4273, 0.0031534603139884553), (4274, 0.0), (4275, 0.0), (4276, 0.0), (4277, 0.002822620977891747), (4278, 0.0), (4279, 0.0), (4280, 0.003652131715874784), (4281, 0.0), (4282, 0.002836649925318334), (4283, 0.00314122542971694), (4284, 0.0030236373488721135), (4285, 0.02036073972593577), (4286, 0.021601913258675075), (4287, 0.003183691877951885), (4288, 0.0062704405562574355), (4289, 0.06680132168851181), (4290, 0.0), (4291, 0.0), (4292, 0.0), (4293, 0.003438705814661898), (4294, 0.0), (4295, 0.003518387880255829), (4296, 0.0026842172925366998), (4297, 0.0), (4298, 0.0037805688849126564), (4299, 0.03753855899912349), (4300, 0.0), (4301, 0.0022863167231788194), (4302, 0.0), (4303, 0.0), (4304, 0.002765773709985591), (4305, 0.026999345550304928), (4306, 0.00380986656394261), (4307, 0.0), (4308, 0.0033794268297398355), (4309, 0.024451003859251235), (4310, 0.0), (4311, 0.002503645383745076), (4312, 0.0), (4313, 0.0), (4314, 0.0), (4315, 0.0), (4316, 0.0), (4317, 0.0), (4318, 0.0032563055861985577), (4319, 0.017833128324751917), (4320, 0.024987877200495386), (4321, 0.0029338320920982122), (4322, 0.0), (4323, 0.0), (4324, 0.0), (4325, 0.0), (4326, 0.03467449971441566), (4327, 0.028838174847045494), (4328, 0.0), (4329, 0.0), (4330, 0.003083332942090052), (4331, 0.0), (4332, 0.0), (4333, 0.0034675837433351796), (4334, 0.0031850108376987414), (4335, 0.06822041013008781), (4336, 0.002976574473465949), (4337, 0.0), (4338, 0.023996525263011628), (4339, 0.0200687286370609), (4340, 0.003187175384475462), (4341, 0.0), (4342, 0.0), (4343, 0.04621828032663666), (4344, 0.0026342102189588785), (4345, 0.002923048177572253), (4346, 0.0), (4347, 0.0), (4348, 0.002833922769963493), (4349, 0.020090788012674044), (4350, 0.002777592570388237), (4351, 0.0), (4352, 0.0), (4353, 0.0), (4354, 0.0032236973497787123), (4355, 0.003282957577350097), (4356, 0.0028659286303610197), (4357, 0.003284877868228097), (4358, 0.0), (4359, 0.00281342185972198), (4360, 0.0), (4361, 0.0032061000721643708), (4362, 0.0030173751195265845), (4363, 0.0032275422706771707), (4364, 0.0), (4365, 0.0), (4366, 0.0), (4367, 0.0), (4368, 0.0034682015689917346), (4369, 0.0035453328854345074), (4370, 0.0), (4371, 0.0033045794244569255), (4372, 0.0), (4373, 0.0), (4374, 0.0029251871860470407), (4375, 0.19023860171952645), (4376, 0.0), (4377, 0.0), (4378, 0.0), (4379, 0.0031928456989009837), (4380, 0.0), (4381, 0.0029875047327606215), (4382, 0.002979812458583488), (4383, 0.0), (4384, 0.0), (4385, 0.0), (4386, 0.0026577594210105), (4387, 0.019922487505367507), (4388, 0.0), (4389, 0.0), (4390, 0.0), (4391, 0.0031142729549891355), (4392, 0.0), (4393, 0.0), (4394, 0.0030579255573882774), (4395, 0.002997931605726837), (4396, 0.04231370805331737), (4397, 0.003429611438690991), (4398, 0.003560876174986858), (4399, 0.00291234789586096), (4400, 0.003928365615274559), (4401, 0.003442991534825139), (4402, 0.002849472864689966), (4403, 0.003927753386814346), (4404, 0.01772600561999279), (4405, 0.0), (4406, 0.0), (4407, 0.004030830735987334), (4408, 0.0), (4409, 0.003063384592704945), (4410, 0.0), (4411, 0.0026400241033857847), (4412, 0.00360985393452782), (4413, 0.0), (4414, 0.0), (4415, 0.0), (4416, 0.0036273617633465704), (4417, 0.0), (4418, 0.00404726130047348), (4419, 0.0032125866834734704), (4420, 0.003249413699705848), (4421, 0.0), (4422, 0.0031845326951937176), (4423, 0.003996006105068782), (4424, 0.0), (4425, 0.0), (4426, 0.0), (4427, 0.020408833310075), (4428, 0.023787691831741568), (4429, 0.0026756398529345178), (4430, 0.003226425807441626), (4431, 0.0032956002766022607), (4432, 0.0026972548378158766), (4433, 0.05663078994629526), (4434, 0.0), (4435, 0.003096315840707269), (4436, 0.024185799659308487), (4437, 0.0), (4438, 0.0), (4439, 0.0), (4440, 0.0), (4441, 0.021306266670345145), (4442, 0.0029890394242987686), (4443, 0.003775045697629957), (4444, 0.004036745287629806), (4445, 0.0023133974873330147), (4446, 0.10683149631713229), (4447, 0.01574092562926992), (4448, 0.003218239214580222), (4449, 0.0), (4450, 0.0), (4451, 0.020470777723359514), (4452, 0.0), (4453, 0.019372143134913433), (4454, 0.0), (4455, 0.0), (4456, 0.0), (4457, 0.0), (4458, 0.003675303701408117), (4459, 0.0), (4460, 0.0), (4461, 0.0029666340324479264), (4462, 0.0), (4463, 0.0), (4464, 0.0), (4465, 0.023416331809910002), (4466, 0.0), (4467, 0.0), (4468, 0.02537547789930487), (4469, 0.003850279408288236), (4470, 0.003177112301699347), (4471, 0.003267847032336201), (4472, 0.0029788497338592342), (4473, 0.043566585400262016), (4474, 0.0032446918555325828), (4475, 0.0027711371674386865), (4476, 0.002636942929190899), (4477, 0.003600206908899349), (4478, 0.0), (4479, 0.002838207507400482), (4480, 0.0), (4481, 0.0), (4482, 0.0), (4483, 0.0), (4484, 0.004108664416587743), (4485, 0.017562477764946658), (4486, 0.0), (4487, 0.003036041939628978), (4488, 0.0), (4489, 0.0032683399079800495), (4490, 0.0036545597234918462), (4491, 0.0), (4492, 0.0), (4493, 0.0), (4494, 0.0034813241258535754), (4495, 0.02683295691769292), (4496, 0.0), (4497, 0.003226303664077723), (4498, 0.0), (4499, 0.0), (4500, 0.022929336467669988), (4501, 0.003113388503174494), (4502, 0.0028145248643395176), (4503, 0.003107897408484113), (4504, 0.002974220845055126), (4505, 0.003261880147118737), (4506, 0.0), (4507, 0.0035395799039923065), (4508, 0.0), (4509, 0.0), (4510, 0.0), (4511, 0.0030650080651141555), (4512, 0.0), (4513, 0.0), (4514, 0.0), (4515, 0.0), (4516, 0.003533687465189792), (4517, 0.0031002545770036556), (4518, 0.0), (4519, 0.0), (4520, 0.020226133430145225), (4521, 0.0038464266427679513), (4522, 0.003358266011623494), (4523, 0.002947895558671025), (4524, 0.0), (4525, 0.0), (4526, 0.0), (4527, 0.0), (4528, 0.003346635558883524), (4529, 0.004131815481270193), (4530, 0.0030137974949108076), (4531, 0.02827205712229309), (4532, 0.0), (4533, 0.0031538635917415262), (4534, 0.0), (4535, 0.0034491578443798256), (4536, 0.002944152732285459), (4537, 0.0), (4538, 0.0), (4539, 0.020810665684002076), (4540, 0.0033111932365205146), (4541, 0.0), (4542, 0.0), (4543, 0.0), (4544, 0.0038442624639689854), (4545, 0.003334788263928858), (4546, 0.003983307350585006), (4547, 0.0), (4548, 0.0), (4549, 0.0), (4550, 0.0029874393958336776), (4551, 0.0034104015879540465), (4552, 0.017983940433761322), (4553, 0.0), (4554, 0.0036631115316250852), (4555, 0.004644439895867564), (4556, 0.0), (4557, 0.0), (4558, 0.0), (4559, 0.0), (4560, 0.0), (4561, 0.0), (4562, 0.0), (4563, 0.0031599721294344966), (4564, 0.0), (4565, 0.0), (4566, 0.0032485313669612715), (4567, 0.024381755141578386), (4568, 0.035089124785385464), (4569, 0.08136225901500906), (4570, 0.0), (4571, 0.00489675567080154), (4572, 0.00378204389168122), (4573, 0.0029873663607688904), (4574, 0.003299550435759281), (4575, 0.02650622221388285), (4576, 0.0029931130954330898), (4577, 0.0), (4578, 0.0), (4579, 0.003321595555450672), (4580, 0.0), (4581, 0.0), (4582, 0.0), (4583, 0.0), (4584, 0.0036228862681654006), (4585, 0.0), (4586, 0.0), (4587, 0.0), (4588, 0.0), (4589, 0.0036069019352316287), (4590, 0.0027594078526545305), (4591, 0.002866068708376761), (4592, 0.0), (4593, 0.0034266585407143656), (4594, 0.10571976456039456), (4595, 0.0), (4596, 0.09469883079475233), (4597, 0.020102582789688468), (4598, 0.0024176165132286298), (4599, 0.0), (4600, 0.015877833553426375), (4601, 0.0033729641536685093), (4602, 0.003381034974512363), (4603, 0.02998452150852977), (4604, 0.003098259754033109), (4605, 0.0034230030254898025), (4606, 0.003901316022554443), (4607, 0.004474849900112368), (4608, 0.0027346378181443134), (4609, 0.0), (4610, 0.045802102277658616), (4611, 0.0041075297400665145), (4612, 0.0038363188828624017), (4613, 0.0), (4614, 0.0029434895489545113), (4615, 0.0), (4616, 0.0028466554174270287), (4617, 0.004214679532725808), (4618, 0.0), (4619, 0.003400051751714756), (4620, 0.002815626284449615), (4621, 0.1285633458613886), (4622, 0.0), (4623, 0.022348250605844024), (4624, 0.0032314282736120113), (4625, 0.003199680933507025), (4626, 0.0024914599391864874), (4627, 0.002644226204600796), (4628, 0.0), (4629, 0.0032147113851001686), (4630, 0.0), (4631, 0.0), (4632, 0.003633050307495445), (4633, 0.0036215751924538703), (4634, 0.0028754865335695063), (4635, 0.0), (4636, 0.002598723132665453), (4637, 0.003656644744651235), (4638, 0.002811053389091614), (4639, 0.0), (4640, 0.0030873135320222604), (4641, 0.0030103668736424435), (4642, 0.0), (4643, 0.0031698462190662175), (4644, 0.0), (4645, 0.0), (4646, 0.0), (4647, 0.01568904974006154), (4648, 0.0), (4649, 0.002830032663051051), (4650, 0.003551370351744141), (4651, 0.0), (4652, 0.024569869027910418), (4653, 0.0), (4654, 0.0), (4655, 0.0), (4656, 0.031339448548690835), (4657, 0.003314284152233509), (4658, 0.0029626100217295306), (4659, 0.0), (4660, 0.0038000061338835534), (4661, 0.0027315888841539654), (4662, 0.018357747505987048), (4663, 0.0), (4664, 0.0), (4665, 0.022245539436282335), (4666, 0.0), (4667, 0.02767255330993383), (4668, 0.003036424948342822), (4669, 0.003356290728823608), (4670, 0.0029518869903889383), (4671, 0.0), (4672, 0.0), (4673, 0.0029846875412815523), (4674, 0.002475056818674274), (4675, 0.0), (4676, 0.0), (4677, 0.0031146823041432498), (4678, 0.0), (4679, 0.00270922748070817), (4680, 0.003294845308608886), (4681, 0.0), (4682, 0.01683540758030669), (4683, 0.0), (4684, 0.0), (4685, 0.0030254566730943005), (4686, 0.0031004017618381525), (4687, 0.0030131934561979184), (4688, 0.0), (4689, 0.0), (4690, 0.0), (4691, 0.0), (4692, 0.003846693553478078), (4693, 0.002993392557647607), (4694, 0.0036208078151399458), (4695, 0.0), (4696, 0.00403716794643228), (4697, 0.0), (4698, 0.0), (4699, 0.0034769300790592813), (4700, 0.0), (4701, 0.1069734774390056), (4702, 0.0), (4703, 0.018595699141094886), (4704, 0.004209863046008564), (4705, 0.004405909732556115), (4706, 0.0034236415206134047), (4707, 0.01943276972925779), (4708, 0.0), (4709, 0.0), (4710, 0.0038952325123275166), (4711, 0.0), (4712, 0.0027760368622270445), (4713, 0.0035673220481225597), (4714, 0.0), (4715, 0.0030895645609666906), (4716, 0.0), (4717, 0.003638718848719329), (4718, 0.0034561295717411788), (4719, 0.005968403437273929), (4720, 0.0), (4721, 0.0), (4722, 0.0033407962605803494), (4723, 0.0037677894695128077), (4724, 0.003798725025171508), (4725, 0.0), (4726, 0.0), (4727, 0.0), (4728, 0.0), (4729, 0.0029600536010896844), (4730, 0.0), (4731, 0.0034890369317601487), (4732, 0.0033611377370383186), (4733, 0.0025712601833528057), (4734, 0.003330274717078321), (4735, 0.003646572171612141), (4736, 0.0), (4737, 0.0), (4738, 0.0), (4739, 0.006284056588517094), (4740, 0.022524614116993552), (4741, 0.0), (4742, 0.0), (4743, 0.024891455530108964), (4744, 0.0024981237575647654), (4745, 0.0), (4746, 0.0), (4747, 0.0), (4748, 0.002668885270786055), (4749, 0.0041356363426766395), (4750, 0.0), (4751, 0.0), (4752, 0.0022073810862718595), (4753, 0.0035138935678603843), (4754, 0.0), (4755, 0.0), (4756, 0.026479311797563354), (4757, 0.003236145584587173), (4758, 0.0), (4759, 0.0)]\n"
          ]
        }
      ]
    },
    {
      "cell_type": "code",
      "source": [
        "len(Recomendation_Score)"
      ],
      "metadata": {
        "colab": {
          "base_uri": "https://localhost:8080/"
        },
        "id": "I0zZoejfVDNU",
        "outputId": "90e6418e-d1a3-4fc4-acc2-88f98b48eada"
      },
      "execution_count": null,
      "outputs": [
        {
          "output_type": "execute_result",
          "data": {
            "text/plain": [
              "4760"
            ]
          },
          "metadata": {},
          "execution_count": 42
        }
      ]
    },
    {
      "cell_type": "markdown",
      "source": [
        "Sorting using similarity score"
      ],
      "metadata": {
        "id": "JCUiLQWvVc-S"
      }
    },
    {
      "cell_type": "code",
      "source": [
        "Sorted_Similar_Movies = sorted(Recomendation_Score, key = lambda x:x[1], reverse = True)\n",
        "print(Sorted_Similar_Movies)"
      ],
      "metadata": {
        "colab": {
          "base_uri": "https://localhost:8080/"
        },
        "id": "5Rvufg8mViWi",
        "outputId": "ba8ddb5d-5cf4-4104-abd7-c8908a564df7"
      },
      "execution_count": null,
      "outputs": [
        {
          "output_type": "stream",
          "name": "stdout",
          "text": [
            "[(4, 1.0), (1003, 0.20626164319372514), (3073, 0.19909573059097502), (1633, 0.19281672639220448), (4375, 0.19023860171952645), (2123, 0.16529712556963652), (211, 0.162749070080312), (2919, 0.1608498631375591), (1536, 0.1587082161404008), (1626, 0.15861435599757434), (2302, 0.1569476331430568), (1956, 0.15437480514155888), (451, 0.15008194118295673), (3315, 0.14874071690185067), (830, 0.14291492148538537), (695, 0.14057456302202861), (3211, 0.13481105179203148), (4053, 0.13478563779003605), (420, 0.13229537918853188), (4621, 0.1285633458613886), (2333, 0.12790419670501932), (1985, 0.12743302628055536), (3493, 0.126584757774006), (749, 0.12618826361697272), (1970, 0.12535201534506357), (1803, 0.12417191517085598), (2321, 0.11977734321116924), (290, 0.11952170246310646), (2699, 0.11935325419293809), (962, 0.11650587483814626), (1824, 0.11564697138801443), (1680, 0.11453488146109954), (1936, 0.11296282162310839), (1478, 0.11271672432357813), (3363, 0.1119390862584736), (2759, 0.11169367361961538), (2396, 0.11153102995486469), (2606, 0.1112898295928416), (74, 0.11095011187417546), (507, 0.110524483828572), (3148, 0.1102625267375826), (2993, 0.108259030102358), (2447, 0.10816337562784553), (2608, 0.10793936989563918), (2949, 0.10761190354085201), (4701, 0.1069734774390056), (4446, 0.10683149631713229), (4594, 0.10571976456039456), (1744, 0.10544008332145491), (1802, 0.1047894549754776), (209, 0.10255098410041187), (2633, 0.10223999070875929), (1187, 0.10053674779882048), (2988, 0.1004430978522735), (1684, 0.10040759933658291), (1169, 0.10014799097715017), (1993, 0.09943502577034578), (1021, 0.09700513681335225), (2762, 0.09700323368308106), (1483, 0.09663120625679332), (3499, 0.09661462404379206), (1419, 0.09594392719034067), (28, 0.09574860046677403), (2314, 0.09534689559444098), (959, 0.09490978459706767), (1805, 0.09477865906608304), (4013, 0.0947102386542681), (4596, 0.09469883079475233), (3372, 0.09426424963995363), (1816, 0.0932537708002764), (2209, 0.09311247512088419), (3036, 0.09258950980095536), (187, 0.0922083027962209), (2915, 0.09095280327694144), (2682, 0.08940812555231817), (3516, 0.08901065048096267), (2467, 0.08887253812083835), (981, 0.08853931490355471), (1216, 0.08831004778049803), (1337, 0.08732485465884125), (3973, 0.08657632414326975), (753, 0.08561853771287284), (1084, 0.08384758862485281), (3238, 0.08380919834211499), (205, 0.08340053711188597), (3182, 0.08337248911386022), (3707, 0.08329820900744249), (3877, 0.08263878540656117), (2571, 0.08206920024956377), (984, 0.0813948256372939), (4569, 0.08136225901500906), (2242, 0.08133416901761138), (483, 0.08123740930094504), (1219, 0.08051980787328623), (1832, 0.08044047396243942), (3016, 0.0789874842213857), (157, 0.07794723474281336), (1895, 0.07770576330206166), (667, 0.07765294141540965), (633, 0.07716024503660684), (1677, 0.07661778085061242), (1567, 0.07658299956717561), (790, 0.07633867012106106), (1064, 0.07629641114348262), (2693, 0.07613844412090517), (935, 0.07612491028122631), (605, 0.07529471364782711), (67, 0.0747999675016858), (3849, 0.07436716931919907), (2804, 0.07388244681211606), (2169, 0.07366517225805984), (855, 0.0735727176182712), (223, 0.07335863536354734), (1238, 0.07335636292384903), (4155, 0.07329248928766181), (326, 0.07322221480740826), (3898, 0.07301470909762928), (1691, 0.07301344816305409), (3443, 0.07285130027722012), (836, 0.07271993449902914), (1511, 0.07223417979861527), (697, 0.07222472134276867), (2552, 0.07193538606440064), (3500, 0.07138319412337715), (3369, 0.07097100257180138), (138, 0.07091829755270894), (2661, 0.07068416609448779), (1669, 0.07034061089470375), (491, 0.07001923775744877), (3712, 0.0699635136171248), (1097, 0.06976843113343896), (2992, 0.06886749627909333), (2429, 0.06846611712653705), (1997, 0.06842023139964024), (3163, 0.0683132522304863), (4335, 0.06822041013008781), (11, 0.06818454687852525), (1109, 0.0678892344188327), (2410, 0.06777296436692426), (2110, 0.06776736950344286), (1106, 0.06764104870450557), (1845, 0.06748267658923754), (3957, 0.06745951162100079), (1341, 0.06696717767533655), (2542, 0.0668518748986649), (4289, 0.06680132168851181), (870, 0.0665350185663718), (1453, 0.06637030276977812), (1891, 0.06627757787812635), (2782, 0.06608675788426006), (1710, 0.06593182192896428), (2929, 0.0658739094497141), (3382, 0.06571224176136797), (543, 0.06558934873392816), (1801, 0.06461627220863528), (3268, 0.06433963550284795), (3333, 0.06424377253883033), (3927, 0.06404213807519707), (2848, 0.06378092300441601), (3925, 0.06311372371800184), (3535, 0.06268596698415023), (2825, 0.061454679127541385), (256, 0.061144232726418446), (676, 0.06105283829140096), (3425, 0.06050046254550288), (829, 0.060486594902722506), (3511, 0.060380834522514165), (3882, 0.0603706138773849), (2797, 0.06034646072329963), (1132, 0.0598492707170365), (1638, 0.059661134804846555), (710, 0.05923628839283779), (4197, 0.058476903599457675), (3229, 0.05845789005641587), (2142, 0.05834086415469817), (3351, 0.05758046199012375), (2298, 0.05737540489539638), (1971, 0.05710518153903572), (3650, 0.05703320523261463), (1327, 0.05695422271219146), (2037, 0.056944701550173414), (1387, 0.056850247165337174), (360, 0.05683129009493995), (4433, 0.05663078994629526), (3095, 0.056098205980754136), (3780, 0.055791296686121705), (2234, 0.05574897111501531), (1185, 0.055544984927603534), (3541, 0.054896689140533424), (429, 0.0547621270141809), (580, 0.05460185397980353), (1446, 0.05446351330989727), (2067, 0.054439898884093826), (484, 0.054380830416949945), (3872, 0.05423923903124902), (806, 0.053923431298705804), (1067, 0.05368419814677988), (2726, 0.05316995221827725), (1614, 0.05260219001560582), (3034, 0.0518273581469058), (2249, 0.051422080521661424), (4097, 0.05140544054983762), (1542, 0.05090916712623118), (4104, 0.050844606294404474), (1737, 0.05026112615701654), (396, 0.05021296740828774), (2056, 0.05012871332636815), (3098, 0.04931023165724848), (1747, 0.0490088354107428), (2839, 0.04878062443743012), (2108, 0.048697417878654226), (4267, 0.04868855977850361), (1897, 0.04817126776326512), (1543, 0.048141076834398736), (675, 0.04784678524588769), (3430, 0.04774589726460768), (3375, 0.0476674752675444), (1731, 0.04760100359523244), (2335, 0.04753443725512982), (1267, 0.04753356446998621), (930, 0.047156886523047704), (2438, 0.04679848064065284), (4343, 0.04621828032663666), (402, 0.04605843806762361), (4610, 0.045802102277658616), (489, 0.04524260844189434), (513, 0.04494644532682332), (1873, 0.044902881684908476), (1840, 0.04473841905314261), (617, 0.04408404278924736), (2156, 0.04378424954133306), (3305, 0.04357022733187855), (4473, 0.043566585400262016), (1689, 0.04337993527382482), (2981, 0.042882887320163585), (1299, 0.0428221856404499), (1979, 0.04270591314809688), (99, 0.04252540320309001), (643, 0.042515620899983064), (1693, 0.04236443903311546), (1858, 0.04231916097150198), (4396, 0.04231370805331737), (3071, 0.042262437262487074), (444, 0.04214011657918135), (1962, 0.04182134318334328), (1666, 0.041813999402091365), (1203, 0.04171455645802623), (3281, 0.04170318891276872), (154, 0.04170316517484607), (258, 0.0416289392694674), (621, 0.04160292407853477), (371, 0.04157483404649605), (2375, 0.041549347772911284), (1279, 0.04139891087084851), (2023, 0.04131644757888943), (4049, 0.0412274798316533), (4148, 0.0411850349018813), (461, 0.0410926382165333), (2101, 0.041081553641929565), (182, 0.04094645544785854), (1969, 0.04091975608734132), (1074, 0.040918243088633996), (711, 0.04075963036261738), (524, 0.040757525259841214), (1848, 0.040713251432709895), (2306, 0.0406692147860425), (950, 0.040586791825206976), (1640, 0.04054664947148093), (3330, 0.040484188497496396), (1298, 0.04039747814475566), (1934, 0.04028822050498095), (244, 0.03990644495651563), (51, 0.03979145063451897), (3332, 0.03979089829636767), (2419, 0.03973414686404617), (3421, 0.039684633181793896), (1424, 0.03966037179597069), (1318, 0.03962309413742904), (23, 0.039412033162218196), (3154, 0.039343292084486815), (3956, 0.039105293182730975), (2962, 0.0388187067511412), (2326, 0.03861051721685639), (238, 0.038574088552663297), (1984, 0.03800223127930666), (1411, 0.03799833243311283), (1654, 0.037970848254057346), (4023, 0.037961123305857214), (2769, 0.037941238721369806), (1787, 0.03767640565074481), (2403, 0.037657043388958845), (2853, 0.03763086162043668), (392, 0.037573185613439794), (4299, 0.03753855899912349), (834, 0.03723526905581153), (4264, 0.03699454779777361), (2936, 0.03698568925593995), (1496, 0.036948771208097156), (1774, 0.03660431013855111), (3598, 0.036601210003496774), (577, 0.03653493066368358), (523, 0.036517373702650166), (1980, 0.03643552787711683), (2219, 0.03628788375165253), (1663, 0.03622582379311229), (2264, 0.03608948189374103), (2896, 0.03591978346408111), (708, 0.03580141485163765), (1433, 0.03577468077796315), (1532, 0.03563482815942327), (694, 0.03556520610402023), (835, 0.03549489384235981), (1793, 0.03544770736889119), (2049, 0.0354377284479392), (658, 0.03523664140061949), (2776, 0.03518918788457658), (833, 0.0351336269606063), (4568, 0.035089124785385464), (2627, 0.034795623549574245), (121, 0.03476009771079069), (794, 0.0347386847557601), (4326, 0.03467449971441566), (2362, 0.034668605374076046), (1907, 0.034600514740591885), (1359, 0.034541086146754496), (1708, 0.034524966140658565), (1503, 0.03425563931396358), (680, 0.03418530045474371), (1459, 0.03415628181890106), (4052, 0.03397305931495963), (2883, 0.03390069821625828), (1188, 0.0337391007934756), (3380, 0.03357302545783576), (3413, 0.03335567808600486), (1996, 0.03334191066704236), (2975, 0.033226648945734745), (3875, 0.03301818404330343), (3983, 0.032869333342092896), (271, 0.03284779257700967), (242, 0.032711727888854944), (2392, 0.03270924938995246), (1053, 0.03266349422779805), (286, 0.03245436028482048), (3226, 0.03239870899343512), (4120, 0.03239562501490559), (958, 0.032330381174145176), (2093, 0.03209270392755341), (2355, 0.03205835703488305), (4181, 0.03203544770553562), (1527, 0.03197580060455084), (3453, 0.031966663139363735), (841, 0.031912178544557725), (1091, 0.031817523835954625), (3730, 0.031770475735776696), (3186, 0.03148797964255721), (4256, 0.03140162595100008), (4110, 0.03139287746079002), (4656, 0.031339448548690835), (3616, 0.031152543490439416), (1031, 0.030900487340055804), (4062, 0.030898917072762495), (3811, 0.030800922705093887), (1452, 0.0307192883533574), (757, 0.03071593726147358), (3407, 0.030672917967210125), (1271, 0.03049298295469531), (2859, 0.03047543795611998), (163, 0.03047205571151173), (1090, 0.03044284029253438), (797, 0.030331428421581957), (1534, 0.03024662482309986), (842, 0.03018832125623468), (1120, 0.03015673484486142), (3642, 0.030114027327655276), (309, 0.030081263025366126), (671, 0.030010053452600056), (2895, 0.029985905543867517), (4603, 0.02998452150852977), (1515, 0.029783838748931226), (4032, 0.02976757320245005), (2168, 0.029726928593800314), (3839, 0.029649213776331153), (1297, 0.029615808166235075), (1941, 0.029549596549966604), (3745, 0.02946912828706458), (2406, 0.029426029667759042), (3329, 0.029386847970355442), (1748, 0.029330151005591578), (847, 0.029254128360611836), (660, 0.029008496533838895), (4327, 0.028838174847045494), (614, 0.02874293756187288), (2240, 0.028671873358778407), (3066, 0.028395111121240543), (4531, 0.02827205712229309), (2407, 0.028243010447366497), (1349, 0.0282266349317525), (3587, 0.02821976392738753), (3990, 0.02820171892500924), (4156, 0.028177307979234022), (922, 0.0281061651820584), (2581, 0.02802803632204591), (3640, 0.0279382224046464), (1465, 0.02786877417759853), (4122, 0.027855503581530203), (1243, 0.02782530066016263), (1548, 0.027809641434862857), (4667, 0.02767255330993383), (967, 0.02765825357099831), (3116, 0.027528582572151378), (2843, 0.02741613534032025), (1598, 0.02741349268222866), (4116, 0.027311823130228518), (2964, 0.02726082679576534), (4005, 0.027259124130202185), (2712, 0.027257072478903948), (2205, 0.027204277935026673), (3732, 0.027076909728677285), (4305, 0.026999345550304928), (4132, 0.0269651316660339), (3263, 0.026896385858772652), (455, 0.026837398092664354), (4495, 0.02683295691769292), (227, 0.026772902719112), (1421, 0.026771700383120045), (12, 0.026752023538746995), (4169, 0.026685195166172137), (3987, 0.02668161111974974), (751, 0.026511320400512985), (4575, 0.02650622221388285), (1364, 0.02648938467012062), (4756, 0.026479311797563354), (1729, 0.026470528935350686), (3860, 0.026350652284803995), (4178, 0.02630456349591047), (788, 0.026252569520760168), (1759, 0.026239208922235083), (3401, 0.02616892792178159), (3256, 0.026145750370357036), (879, 0.02613582895671884), (4027, 0.026070063612813464), (2319, 0.026024591205814615), (3792, 0.025943285273055356), (2045, 0.025926146651641543), (2161, 0.025878266490398576), (1629, 0.025859335161384268), (1860, 0.02576332334142025), (3310, 0.025755726291548736), (2193, 0.025742919209823065), (3227, 0.025722267749073775), (3858, 0.025720207932553356), (1052, 0.025709315731481344), (1711, 0.025621895780702578), (692, 0.025575373592918456), (1065, 0.025382101348203984), (4468, 0.02537547789930487), (2061, 0.025373412156118394), (2512, 0.02532779859343378), (2745, 0.02528599584193303), (2539, 0.02522947120607222), (3436, 0.025212564734217884), (3418, 0.025202083315329398), (867, 0.025142101442798593), (2305, 0.025127297031120606), (1780, 0.025084521238151507), (4320, 0.024987877200495386), (2688, 0.024934084835508623), (4743, 0.024891455530108964), (3658, 0.024865556158415084), (1512, 0.02484969360815223), (202, 0.024816674600026376), (1967, 0.024783062374549407), (106, 0.02474447772319863), (2710, 0.024702350791998475), (1621, 0.02469631878104753), (2672, 0.02462473542577071), (2653, 0.024617632923898083), (4652, 0.024569869027910418), (1429, 0.02456257765032945), (3008, 0.024561123844590225), (2852, 0.02453447000776243), (70, 0.024532106570576643), (4226, 0.024520527263913173), (3069, 0.02446404172561675), (4309, 0.024451003859251235), (2909, 0.024432293722923146), (1284, 0.0243864153806717), (4567, 0.024381755141578386), (647, 0.02436585638229207), (3572, 0.02432370340618012), (1289, 0.024311130641175443), (3009, 0.024294532456519982), (550, 0.024266801811738983), (4436, 0.024185799659308487), (2986, 0.024167597050864714), (2738, 0.02411163544508027), (3831, 0.024092027547597768), (3709, 0.024063646792509972), (2811, 0.02405906019730211), (782, 0.024038959543440763), (3695, 0.024030596984706318), (4061, 0.02399758829164417), (4338, 0.023996525263011628), (3438, 0.023944582595641264), (3879, 0.023935864192314773), (854, 0.023907979878202874), (3997, 0.02387800798555725), (4428, 0.023787691831741568), (1246, 0.023734103168706486), (111, 0.023698170415809402), (232, 0.02365442921772974), (2129, 0.023638518070188977), (2303, 0.023626926823373515), (3120, 0.023618574333338145), (3584, 0.023594834707103496), (1393, 0.023550925075307438), (15, 0.023530351972068604), (1477, 0.023530169455540047), (2845, 0.02348048886850333), (1915, 0.023479355641228158), (413, 0.023460004828025724), (2560, 0.023449853385030743), (4465, 0.023416331809910002), (4244, 0.023407033148362916), (2528, 0.023264153932584505), (934, 0.023250063990437306), (3905, 0.023239336978481278), (220, 0.023227070306848355), (1139, 0.02322190835083916), (1013, 0.023214135649777652), (998, 0.023162105554159984), (2265, 0.023159274835670745), (2881, 0.023140296091526957), (2519, 0.023135659517106544), (1903, 0.023095199959568758), (235, 0.02306146177325056), (1777, 0.023042795961029015), (231, 0.02303818132402784), (2856, 0.023037681440229496), (576, 0.023032422325656422), (3373, 0.02299637705963397), (4500, 0.022929336467669988), (3632, 0.022925788079985368), (2579, 0.022901953689494717), (2085, 0.02288988204227663), (2290, 0.02288816509655139), (1594, 0.022875883703243095), (108, 0.022869978846407405), (2691, 0.022857098325255457), (2547, 0.022847431236240168), (3737, 0.02281458777256739), (1414, 0.02275882848830902), (645, 0.02268131720982837), (2592, 0.022619279287442427), (2040, 0.02257228378153882), (1055, 0.022543522989514172), (4740, 0.022524614116993552), (3343, 0.022406555480466793), (4623, 0.022348250605844024), (3234, 0.02233306471809429), (2487, 0.022265461931897594), (4665, 0.022245539436282335), (499, 0.022235220499659838), (1009, 0.022223841070108608), (2621, 0.02219483399950351), (1959, 0.022101432801392238), (3685, 0.022003952819069146), (1227, 0.02194759006702224), (3400, 0.021934652897114812), (746, 0.02190276843646666), (4111, 0.021872599177330723), (3585, 0.021860696276420174), (3583, 0.02177855925816761), (1239, 0.02177030664588209), (3844, 0.02174181193081166), (3350, 0.021674317263686543), (1447, 0.021669825278087737), (3619, 0.02166094404018407), (3149, 0.021634479456569024), (1828, 0.02161599446955668), (4286, 0.021601913258675075), (3668, 0.021592921402306703), (1916, 0.021530891959986947), (150, 0.021506276179172633), (3985, 0.021441479225488284), (2206, 0.021438794828371254), (230, 0.021395350648837828), (270, 0.021368332769360916), (3856, 0.021366733402061792), (152, 0.02133542507223325), (3533, 0.02130685429301428), (4441, 0.021306266670345145), (4272, 0.02127835448003647), (1058, 0.02126595415685372), (339, 0.021260529542277543), (1029, 0.02122489573530211), (1256, 0.02117732768892866), (2969, 0.021158412729408625), (25, 0.0211025544488799), (1973, 0.02109951771825898), (2641, 0.02105276270872164), (3567, 0.02104915919422147), (1721, 0.020988104694268154), (1218, 0.02095882732969623), (509, 0.020953179169856874), (3701, 0.02094636377799848), (4098, 0.02094346590581912), (3225, 0.020937399657549052), (652, 0.020898559374420193), (2787, 0.02089078745865251), (1931, 0.02087548782901367), (3700, 0.020868196703042016), (3426, 0.020864587148808213), (3113, 0.020839351659335648), (1950, 0.020837689277981047), (1988, 0.02081946690721604), (1135, 0.02081365487035875), (4539, 0.020810665684002076), (2271, 0.020791763680501136), (812, 0.020773316564408662), (9, 0.0207561196070989), (1440, 0.02074718409784096), (2091, 0.020716145918283226), (3466, 0.02068262102924978), (1317, 0.02066956032563665), (3395, 0.02060451176444583), (702, 0.02055487279644988), (1992, 0.020525013099681647), (4451, 0.020470777723359514), (3612, 0.02043957730951728), (226, 0.0204289640815896), (4427, 0.020408833310075), (370, 0.02039866914234082), (2742, 0.020398032133194025), (4285, 0.02036073972593577), (1612, 0.020345772275835665), (3216, 0.020332101945082722), (4056, 0.020321359644266433), (1173, 0.02029765630403068), (2315, 0.020250122579052572), (4520, 0.020226133430145225), (1134, 0.020217556748885715), (3440, 0.020158737263504218), (1550, 0.02014707707191493), (4597, 0.020102582789688468), (2917, 0.02009381266783118), (4349, 0.020090788012674044), (2069, 0.020074552758619225), (4339, 0.0200687286370609), (338, 0.020044221764970404), (2036, 0.019999347289421356), (1994, 0.01995662027006305), (337, 0.0199402836262785), (4387, 0.019922487505367507), (2103, 0.019894959199898917), (2785, 0.019864968718005832), (2360, 0.019822407536144747), (699, 0.019757191876365952), (2339, 0.01970584947029933), (1597, 0.019681709279949812), (2576, 0.019628230761197893), (191, 0.019602058544747197), (3852, 0.01954315007035648), (52, 0.019535724789392875), (1929, 0.019478061786943588), (1249, 0.019445309832890917), (4707, 0.01943276972925779), (3469, 0.0194299981547271), (2485, 0.01941738587409703), (4453, 0.019372143134913433), (2381, 0.019344251222917427), (276, 0.019264882204381512), (3682, 0.019264278695933723), (3681, 0.019260648921652166), (4064, 0.019247194617376104), (3803, 0.019222049873624313), (2098, 0.019185676493458974), (4003, 0.0191657382573916), (1766, 0.019145990138647095), (288, 0.01904779019344125), (2626, 0.019041849723737854), (4096, 0.019033476422117106), (1458, 0.018983517191606084), (3628, 0.018972981613856733), (678, 0.018914572637395308), (2482, 0.018833024285629888), (2082, 0.018822408327001747), (1894, 0.018801270505109553), (1062, 0.018754042767287957), (3092, 0.01874374110386641), (1938, 0.018700381478544793), (1178, 0.01866333234360339), (2541, 0.018643701124320157), (2227, 0.018637544851706336), (4703, 0.018595699141094886), (4173, 0.018563318906224036), (2729, 0.018510178927073018), (1791, 0.018470888391026515), (1926, 0.01843618519043097), (3464, 0.018388087438446537), (4662, 0.018357747505987048), (283, 0.018332741937132583), (1004, 0.018313365053107267), (295, 0.01829134496145884), (3189, 0.018228660041125135), (440, 0.01817122627507732), (3415, 0.0181581082533455), (586, 0.018073194807843963), (3790, 0.01803322011738399), (4552, 0.017983940433761322), (3463, 0.01789773945922774), (1961, 0.017873835396397635), (4319, 0.017833128324751917), (237, 0.01782369366828967), (2721, 0.01775346220071619), (1686, 0.017737916860240115), (4404, 0.01772600561999279), (1108, 0.01770302142451097), (147, 0.017676786589778566), (2270, 0.017653409945629774), (2551, 0.017628945760116803), (3980, 0.01762484483567675), (592, 0.01762200563979373), (1576, 0.017597302433799006), (4485, 0.017562477764946658), (3245, 0.01753004981340125), (1506, 0.017470166740872123), (2793, 0.017401403002811622), (2709, 0.017357695166807442), (3662, 0.017341463361864616), (1345, 0.017311688707137295), (3764, 0.017144447573719773), (1509, 0.017113903976261786), (2297, 0.01700647862022556), (995, 0.016996842998823692), (3288, 0.016975827463431136), (1728, 0.01697143103909177), (2322, 0.016900795714322004), (1607, 0.01689615255114964), (1315, 0.016876266468752257), (414, 0.016843187266169842), (4682, 0.01683540758030669), (4217, 0.016757673355965914), (1493, 0.01672711425683005), (1544, 0.01665516579381145), (1700, 0.016535240493376943), (3177, 0.016481407517329048), (1274, 0.016477159478675802), (1631, 0.016461035063433604), (859, 0.016400421170029218), (2160, 0.01632627546750831), (1899, 0.01617459325081155), (3280, 0.016153249522475828), (3294, 0.01600260036568768), (3711, 0.015985588979563266), (4235, 0.015897148171249983), (4186, 0.015882243763656947), (4600, 0.015877833553426375), (2007, 0.015836696135523683), (1281, 0.015835920831804413), (2596, 0.015765810785957166), (4447, 0.01574092562926992), (4647, 0.01568904974006154), (214, 0.01564522693482115), (664, 0.015552514724833408), (3456, 0.015318480864317304), (3339, 0.01493122899506328), (3916, 0.014784066710962895), (709, 0.014528515383285149), (831, 0.014423957216141632), (76, 0.014156785104565313), (1695, 0.014043208683711577), (1418, 0.013336412991214169), (2534, 0.012388135445850174), (475, 0.011422016808914227), (3899, 0.00936102287535026), (3945, 0.008973346024524669), (2324, 0.007951991632431767), (2388, 0.00756666114104507), (2555, 0.007008597065108413), (3391, 0.006870244971092735), (2614, 0.006692140659434648), (844, 0.00664305916097414), (2809, 0.006487318263471593), (4739, 0.006284056588517094), (4288, 0.0062704405562574355), (2440, 0.006259167182749661), (1442, 0.006101680449558523), (4719, 0.005968403437273929), (3240, 0.0059557705379498305), (1019, 0.005848502979922553), (3137, 0.005720313133296885), (3932, 0.005684538544294185), (3325, 0.00550577704114206), (4151, 0.00529463669999794), (1707, 0.005265760435965259), (3534, 0.005089143872837398), (2678, 0.005018742120790347), (3552, 0.005011929958441444), (611, 0.004951058268848837), (2299, 0.004927834247908561), (4571, 0.00489675567080154), (3178, 0.004872196776926268), (3512, 0.004725387400502561), (2757, 0.004716641131940876), (3667, 0.0047120429065048725), (3276, 0.004651820538800502), (4555, 0.004644439895867564), (2998, 0.00462630636193867), (4607, 0.004474849900112368), (2529, 0.004473303237051798), (2379, 0.0044473492005590465), (2490, 0.0044415743163062574), (2937, 0.004425070718472844), (3523, 0.004417566316043343), (4705, 0.004405909732556115), (3051, 0.004395727420463231), (2764, 0.004390347474204903), (2768, 0.004380490037532421), (3672, 0.004378907883858135), (2858, 0.004367892288401379), (2137, 0.004367648463691787), (3139, 0.004362985791848375), (4082, 0.004353321268891567), (2649, 0.004352903395621237), (2722, 0.004326059098335864), (2189, 0.00432577117451083), (4202, 0.004308977010518411), (3040, 0.004303531426257621), (2989, 0.004293961879889946), (2251, 0.004287664612265479), (3166, 0.004274564395779882), (2349, 0.004266770688839934), (1145, 0.004261284429778967), (2889, 0.004242160608796432), (2537, 0.0042273736351884335), (3119, 0.0042247201084483306), (4617, 0.004214679532725808), (4704, 0.004209863046008564), (3052, 0.004209164903398685), (735, 0.004207949467288376), (3055, 0.004193292261241093), (2404, 0.004191431208307114), (2775, 0.004183481708903874), (4017, 0.004181789558786505), (2870, 0.0041775020357680635), (3561, 0.004177442615767074), (3042, 0.004175393694404112), (3030, 0.004174660542059655), (627, 0.00417276173003719), (3635, 0.004166367827387347), (947, 0.0041568836824590295), (2923, 0.004152065556729358), (3291, 0.004141156384044729), (2731, 0.004136478897050333), (4749, 0.0041356363426766395), (4222, 0.004132886865196153), (4529, 0.004131815481270193), (2484, 0.004120329073720109), (2310, 0.004120199123218656), (4221, 0.004120116081078138), (3479, 0.004115419682781007), (4484, 0.004108664416587743), (4611, 0.0041075297400665145), (2694, 0.004104881102561633), (3939, 0.0041043569793240186), (2673, 0.0040993851615534664), (2861, 0.004084614662612004), (2655, 0.00408382843391896), (2932, 0.004074390240889759), (4172, 0.0040739439800870835), (2559, 0.004050990357621279), (3878, 0.004050192453611664), (4418, 0.00404726130047348), (2832, 0.004044157738780511), (2075, 0.004037839396430231), (4696, 0.00403716794643228), (4444, 0.004036745287629806), (2628, 0.004034092968069257), (3076, 0.004032973139045792), (4407, 0.004030830735987334), (3219, 0.004027202630976158), (2448, 0.0040245007977180525), (3292, 0.004022795430469175), (3762, 0.004014703697660217), (2199, 0.004011396980186525), (3892, 0.0040059907898979605), (3282, 0.003996409530870745), (4423, 0.003996006105068782), (4019, 0.003994772949427688), (2425, 0.003993884257139772), (2643, 0.003985463664343689), (4546, 0.003983307350585006), (2255, 0.003975800650928535), (2257, 0.003967524548043733), (3322, 0.003966076493326177), (889, 0.003965936705611014), (2645, 0.0039658912056428465), (3262, 0.003965137746109532), (2350, 0.003959859372355244), (2901, 0.003956514361576058), (4230, 0.003948492663779038), (2154, 0.003947226438925897), (4142, 0.003939855223062005), (2838, 0.003938232942712133), (2286, 0.0039381753513552074), (1208, 0.00392878063387462), (4400, 0.003928365615274559), (4403, 0.003927753386814346), (2530, 0.003916706748099251), (4102, 0.003912710083757977), (3848, 0.003909610761328914), (3015, 0.0039049974120740636), (4606, 0.003901316022554443), (3828, 0.003897312298381553), (4710, 0.0038952325123275166), (2795, 0.00389167792123187), (3239, 0.0038852014889346953), (3128, 0.00388455899436383), (2423, 0.0038835968925013007), (3354, 0.003879791382872187), (3140, 0.0038782007689843506), (526, 0.0038750791019123093), (1121, 0.003860779160210806), (3249, 0.003854214118322452), (4469, 0.003850279408288236), (3687, 0.0038489675491867642), (4692, 0.003846693553478078), (4521, 0.0038464266427679513), (4544, 0.0038442624639689854), (3638, 0.003842073544238228), (4612, 0.0038363188828624017), (3357, 0.0038304770208410477), (4242, 0.0038283720529843496), (2834, 0.0038231455918737232), (3537, 0.003822273075016557), (2557, 0.003821904573356957), (3159, 0.0038139608638761394), (4306, 0.00380986656394261), (3577, 0.003808365535529159), (4107, 0.0038051432070303143), (3922, 0.0038041723175009103), (2857, 0.0038039049739354764), (3613, 0.003800967054473173), (4660, 0.0038000061338835534), (4724, 0.003798725025171508), (670, 0.0037977400291409166), (3521, 0.0037964030731882353), (3004, 0.003795603964811601), (2266, 0.003794451660897094), (3999, 0.003794440041410863), (4572, 0.00378204389168122), (3074, 0.0037808073239213847), (4298, 0.0037805688849126564), (4209, 0.0037761514011234038), (4443, 0.003775045697629957), (2957, 0.0037700391960423163), (2568, 0.003768917582021243), (3874, 0.0037683121541625814), (4723, 0.0037677894695128077), (2488, 0.0037660717216614257), (3031, 0.0037643559341328796), (3832, 0.0037620066614751793), (2188, 0.0037608616724358872), (3123, 0.0037588130293500425), (3302, 0.0037546629307766742), (2879, 0.0037529277273558315), (3620, 0.00375245922666102), (4147, 0.0037522649895736274), (3544, 0.0037511143723794617), (2459, 0.0037508280126251703), (1655, 0.003748535128654589), (2966, 0.0037461663111476307), (3358, 0.0037411966272153873), (3020, 0.0037410496958300487), (3228, 0.003739766025578842), (2415, 0.003739323094302141), (1593, 0.003734533308209336), (3206, 0.003728439957421999), (2778, 0.0037262095168153113), (3779, 0.0037211523509270024), (2454, 0.0037211395484682756), (3901, 0.0037164282865148777), (3257, 0.0037131921964677675), (1264, 0.003712035585585858), (2619, 0.0037110326255049577), (777, 0.0037037562315581562), (1168, 0.0037004921233076155), (2434, 0.0036840131237858183), (3911, 0.0036822714960472805), (4458, 0.003675303701408117), (3766, 0.0036749224447758587), (3675, 0.0036734172677864506), (949, 0.003665459048661973), (4554, 0.0036631115316250852), (4637, 0.003656644744651235), (4490, 0.0036545597234918462), (1049, 0.0036540870579781404), (4280, 0.003652131715874784), (2772, 0.00365040543972594), (3308, 0.0036482749366730477), (4735, 0.003646572171612141), (4717, 0.003638718848719329), (431, 0.003634223599836644), (4632, 0.003633050307495445), (3763, 0.003631770526956324), (3935, 0.003631220890079063), (2613, 0.0036303994615462616), (4416, 0.0036273617633465704), (2570, 0.0036269643769535607), (3081, 0.0036266394323658884), (2378, 0.0036265949251296174), (3621, 0.003626160737444425), (3524, 0.0036256892637900116), (4584, 0.0036228862681654006), (4633, 0.0036215751924538703), (1792, 0.0036214330917593088), (2089, 0.003621033406248335), (4694, 0.0036208078151399458), (4145, 0.003619894700742423), (1968, 0.003618948580441784), (2707, 0.0036167614566133817), (518, 0.003612667626504753), (2720, 0.0036117242106649666), (1885, 0.0036107250966120937), (4412, 0.00360985393452782), (2417, 0.0036081134541497825), (4030, 0.00360691991250156), (4589, 0.0036069019352316287), (2846, 0.0036058078812328787), (3094, 0.003605742839045401), (3275, 0.00360178130458138), (937, 0.0036003292197858776), (4477, 0.003600206908899349), (4075, 0.0035957424455071107), (3951, 0.0035957121482345666), (3540, 0.0035942167717993826), (1547, 0.003589129619889456), (3019, 0.0035873851788301952), (3359, 0.0035862910587658686), (4126, 0.0035858933323472337), (3884, 0.003585402710041669), (2320, 0.0035824467256767674), (2696, 0.003582256746526473), (3072, 0.003581659895066041), (3307, 0.0035795999984948963), (2427, 0.003579510468962461), (3450, 0.0035789809515253666), (4002, 0.003578796032630293), (1947, 0.0035773435044032303), (2269, 0.0035765652319565315), (2924, 0.0035738752129322233), (3754, 0.003573782134749918), (4163, 0.00357277167010339), (4203, 0.0035720419008782533), (3729, 0.0035713163005292453), (860, 0.003570479163953759), (1398, 0.003567329382552882), (4713, 0.0035673220481225597), (443, 0.003564302897789949), (3408, 0.0035636544032168218), (4398, 0.003560876174986858), (3230, 0.0035576881444419144), (2987, 0.0035576037970498162), (3364, 0.0035574469234794658), (2884, 0.003557362500273948), (448, 0.003556943570862329), (3419, 0.003556280901488824), (1275, 0.0035557301214161367), (3337, 0.003555706320675867), (3396, 0.003554483169507009), (3506, 0.0035541630939267426), (3866, 0.0035521517273302957), (823, 0.0035520271777044524), (4650, 0.003551370351744141), (2872, 0.003547230448505464), (4369, 0.0035453328854345074), (3355, 0.0035452948957240245), (925, 0.0035433400787784047), (508, 0.0035433303552383968), (2625, 0.0035404940617072447), (4507, 0.0035395799039923065), (3165, 0.0035394699016318876), (274, 0.0035383152477351824), (2478, 0.0035376023063832937), (2187, 0.003536739697759973), (3952, 0.0035339468722526044), (4516, 0.003533687465189792), (1656, 0.003533041966992439), (721, 0.0035308759706282294), (3903, 0.003529734839220657), (3639, 0.0035268164174742985), (2796, 0.0035266191271452925), (3423, 0.0035260581631989265), (3651, 0.003525244525075507), (985, 0.0035251385318866794), (2702, 0.003522066615281729), (1924, 0.003520567299338874), (4295, 0.003518387880255829), (4117, 0.0035177294184951806), (876, 0.003517396424099948), (1497, 0.003516951848100719), (739, 0.0035164008057499054), (1184, 0.0035155972732740836), (3661, 0.0035145675631250177), (4753, 0.0035138935678603843), (3883, 0.003512682950013201), (4243, 0.003508176653818808), (3772, 0.003506867745415753), (3296, 0.0035049263462241737), (2223, 0.003503819439534936), (2346, 0.0035037677672841152), (3611, 0.0035014058183196013), (2638, 0.003501339670146637), (2051, 0.0035012096967203922), (3867, 0.0035007285336032096), (2629, 0.003498139090371937), (2437, 0.003497781883325406), (1909, 0.0034977440315894903), (4187, 0.0034965923445698602), (1843, 0.0034952001610011173), (107, 0.003495055787992928), (2893, 0.0034946154662596207), (3960, 0.003493593200457013), (1887, 0.0034922014738651254), (999, 0.003490558028814352), (2411, 0.003489427176292354), (4731, 0.0034890369317601487), (2623, 0.0034886159707759124), (3043, 0.003488513352155514), (478, 0.0034875999759795794), (4092, 0.003487344598527275), (2400, 0.003485469302443606), (2914, 0.0034851009571539443), (3680, 0.003484703983536346), (3992, 0.0034833863703158247), (4494, 0.0034813241258535754), (1148, 0.00347934655797735), (683, 0.003478916326515269), (281, 0.0034788291299392552), (1383, 0.0034786142058653956), (4699, 0.0034769300790592813), (3013, 0.0034763090460471205), (737, 0.003475733195577127), (3274, 0.00347212769705265), (419, 0.003470708952467323), (2740, 0.003469699002823971), (4368, 0.0034682015689917346), (4333, 0.0034675837433351796), (533, 0.0034660415389818136), (1023, 0.003463946249869421), (1489, 0.0034627005869309387), (3560, 0.003462479074400462), (813, 0.003461091343287651), (3962, 0.0034609683435846213), (3822, 0.0034601109178734268), (2974, 0.0034598234094222824), (4718, 0.0034561295717411788), (1716, 0.0034560058584679142), (2903, 0.0034558210381660727), (3196, 0.003455571481933764), (4160, 0.0034550716277897153), (3012, 0.0034549551240693126), (596, 0.0034527987498963676), (2916, 0.0034517505534981735), (1862, 0.0034512823897015106), (1499, 0.00344963752215035), (3414, 0.0034495402851409847), (3032, 0.0034493297571822536), (4535, 0.0034491578443798256), (436, 0.003447797660422268), (3146, 0.003446937138741949), (2134, 0.0034469122418557805), (308, 0.0034459602973814403), (2356, 0.0034449013484758855), (2436, 0.003444218008141973), (4401, 0.003442991534825139), (3593, 0.0034400088391889775), (701, 0.0034399342051919437), (4293, 0.003438705814661898), (458, 0.0034384831060575924), (4051, 0.0034379984720650097), (3804, 0.0034375737560762977), (2840, 0.003436976699745716), (3248, 0.0034367936257598637), (1474, 0.0034366524966382133), (729, 0.0034363474470236535), (3273, 0.0034307645612241954), (2585, 0.0034305040999422763), (3157, 0.00343000029382648), (2830, 0.0034296487043787406), (4397, 0.003429611438690991), (41, 0.0034289759621819703), (4593, 0.0034266585407143656), (1498, 0.0034259849668237625), (4706, 0.0034236415206134047), (3003, 0.003423280659343756), (4605, 0.0034230030254898025), (4259, 0.0034229627677280277), (4113, 0.003422776505311734), (3857, 0.0034227344457469686), (2854, 0.003422429371901749), (1923, 0.0034224238945954194), (2505, 0.0034223456165520644), (1890, 0.0034193914068876624), (3062, 0.003416466197380498), (4138, 0.003415749313165176), (2535, 0.003415500998630737), (888, 0.0034153584592898187), (688, 0.0034137207178429395), (1960, 0.0034119371656372447), (1658, 0.0034117627718141634), (4551, 0.0034104015879540465), (3797, 0.003410099242952351), (3967, 0.0034065986103307567), (3026, 0.0034046798273499965), (3101, 0.0034045702527898906), (4042, 0.003403589550678822), (857, 0.003402969684925594), (62, 0.0034022722022644275), (2176, 0.003401852647591219), (3961, 0.003401346297202692), (2112, 0.003401242280433905), (2428, 0.00340082534874085), (715, 0.0034005365126228756), (1580, 0.0034004443458866235), (2890, 0.0034004213124975255), (4619, 0.003400051751714756), (2159, 0.0033980906580418674), (3097, 0.0033980223754258767), (254, 0.003396571166168923), (48, 0.0033954774767817088), (1754, 0.0033946772133168408), (4263, 0.003394119887866696), (3417, 0.00339403981765871), (2996, 0.003391303033680497), (587, 0.0033891037015512837), (3924, 0.0033874939029628977), (1454, 0.003384751498361044), (476, 0.003382708517850595), (3677, 0.0033826337516735783), (2739, 0.003381800073264922), (450, 0.003381419635473411), (4602, 0.003381034974512363), (1479, 0.0033798761018605824), (2464, 0.0033797085132551484), (4308, 0.0033794268297398355), (1733, 0.003378864946829382), (4046, 0.0033782825759707956), (2390, 0.003378225098293492), (3183, 0.003374512835503843), (4048, 0.0033735618229162887), (4601, 0.0033729641536685093), (2624, 0.003371951970461315), (123, 0.0033715228039553767), (253, 0.0033691957665167777), (3714, 0.00336830657534905), (4130, 0.003368185118273413), (2229, 0.0033676891484724016), (318, 0.003367688475809423), (1043, 0.0033675679993829867), (4140, 0.0033670235670298916), (3497, 0.0033669877821990374), (896, 0.00336643866581303), (1866, 0.0033648855850001), (4101, 0.003363423688582156), (673, 0.0033628476686838717), (3813, 0.0033623592520835408), (4732, 0.0033611377370383186), (4133, 0.003360157810795578), (3749, 0.0033599842057031887), (1905, 0.003359670701748504), (3044, 0.0033590984387219104), (2293, 0.003359024801271394), (4522, 0.003358266011623494), (342, 0.0033569888477511306), (4669, 0.003356290728823608), (350, 0.0033548316151597625), (2097, 0.0033534097588056723), (3064, 0.003353166772325364), (481, 0.003351278747514998), (2748, 0.0033509972085866506), (3258, 0.0033509272372879437), (887, 0.0033507426587655324), (2214, 0.0033505696396221064), (4087, 0.0033499406819981307), (2882, 0.003348673511254751), (2507, 0.0033475542600460498), (3915, 0.003347159564198347), (8, 0.0033466826844994095), (4528, 0.003346635558883524), (2595, 0.0033424103896154494), (3889, 0.003342059463649312), (4722, 0.0033407962605803494), (1325, 0.003340104482642305), (2888, 0.003338113009294053), (3771, 0.003337773527176221), (2705, 0.0033367124713206044), (3694, 0.003335015274356994), (4545, 0.003334788263928858), (3269, 0.0033334137599140582), (192, 0.003332979726263489), (952, 0.0033311892337119916), (1015, 0.0033311393722048515), (1874, 0.0033303374979249127), (4734, 0.003330274717078321), (3704, 0.0033301564349199125), (3449, 0.0033299790221500932), (3271, 0.0033296816157893537), (2477, 0.0033294484188369825), (3893, 0.0033290658624297027), (3086, 0.0033289670609106285), (4024, 0.003327830136726294), (2116, 0.0033259331906172105), (3757, 0.003324177959080651), (728, 0.003323723365325571), (2494, 0.0033224111779775987), (2190, 0.003321693791650683), (4579, 0.003321595555450672), (210, 0.003321206390405872), (1518, 0.003318903003148497), (3692, 0.003317991856018639), (430, 0.003316826260517752), (4161, 0.0033152077780993507), (4657, 0.003314284152233509), (2475, 0.003314003778614893), (3112, 0.0033136934041187232), (1995, 0.0033136052094642995), (4540, 0.0033111932365205146), (4245, 0.0033109211689121764), (791, 0.0033104927499528515), (3184, 0.0033098717452432523), (2162, 0.0033092796713675176), (1798, 0.0033082242921919384), (991, 0.0033078867614176554), (3496, 0.003307818428480621), (2254, 0.003306867196871633), (395, 0.0033062596357799974), (1637, 0.0033055287094840772), (4269, 0.0033054449193680273), (2723, 0.003304962625408468), (4371, 0.0033045794244569255), (485, 0.003302414237707761), (3781, 0.003301808641257991), (2786, 0.0033000646166367626), (1140, 0.0032995599625006557), (4574, 0.003299550435759281), (1537, 0.0032992716342616856), (872, 0.0032990455054903406), (1683, 0.003297607375859394), (1409, 0.003296780883188131), (2260, 0.003296535456596702), (3904, 0.003296111651766936), (2725, 0.0032956811253906895), (4431, 0.0032956002766022607), (21, 0.003295434255953661), (3728, 0.003295286763534008), (3873, 0.0032951154578232714), (4680, 0.003294845308608886), (4038, 0.003294504928634621), (1712, 0.003293934390655086), (2940, 0.0032937531741367076), (1141, 0.003293235426656934), (3007, 0.0032921194424587424), (2391, 0.0032913293381022757), (2104, 0.0032910674017435997), (1119, 0.003290136368180102), (2393, 0.0032886274023311026), (1071, 0.003288557141520376), (4231, 0.0032872601935524945), (1324, 0.003287174703296206), (2609, 0.0032869168461468375), (826, 0.0032865148198980465), (3601, 0.00328649267713437), (2151, 0.0032855782327493696), (3218, 0.003285314841813033), (2664, 0.0032853140903149054), (3235, 0.0032851174573509303), (4357, 0.003284877868228097), (2970, 0.0032846676880900947), (2096, 0.003284600697063238), (2522, 0.0032842999744261414), (1619, 0.003284034282968603), (4355, 0.003282957577350097), (2105, 0.0032814639025324065), (4175, 0.0032813480825927984), (1779, 0.003280888182351099), (1572, 0.003278974672473417), (3434, 0.0032784267083957705), (3678, 0.003278348301516643), (792, 0.0032779983977517043), (246, 0.0032772176797694103), (1339, 0.0032755054967400265), (622, 0.003274477304250819), (3297, 0.003274439149009169), (3590, 0.0032734447430186712), (623, 0.003272918966814498), (493, 0.003271876078895368), (612, 0.0032718312622770584), (208, 0.003271635925655213), (2821, 0.003271465920415975), (1951, 0.0032695200844174263), (1896, 0.0032691461864208546), (2565, 0.003268998312607382), (206, 0.0032689235997573475), (2361, 0.0032686693321769002), (3084, 0.003268392179214274), (4489, 0.0032683399079800495), (3314, 0.003268282416650782), (68, 0.003268210318707222), (4471, 0.003267847032336201), (4054, 0.003267590681046237), (1687, 0.003267335502062902), (2418, 0.0032664909175170354), (3618, 0.0032664706613025106), (456, 0.0032649278899522425), (2792, 0.0032648041485057776), (3326, 0.003263837832922816), (1234, 0.003263220734964381), (3483, 0.0032627755005381533), (4505, 0.003261880147118737), (1853, 0.0032618472406436613), (2953, 0.0032618196101770317), (2714, 0.0032613823898857523), (1685, 0.0032603955696596815), (1484, 0.0032597304572256273), (2288, 0.003259542547605919), (2196, 0.003258796438901008), (2755, 0.003258537990001175), (193, 0.0032581624254871774), (2849, 0.0032578565071877978), (2610, 0.003256709736973764), (4318, 0.0032563055861985577), (3777, 0.0032559326082042964), (1918, 0.0032550459959371117), (3264, 0.0032538933601185234), (4123, 0.0032537877502439166), (1822, 0.0032530177078615194), (3037, 0.0032528160990117788), (3406, 0.0032521953068823787), (4033, 0.0032510117730012913), (1225, 0.0032509268740404163), (1893, 0.0032502636554540454), (470, 0.0032501295298339224), (4420, 0.003249413699705848), (4566, 0.0032485313669612715), (2878, 0.0032484313174848184), (1400, 0.0032483629343558126), (2394, 0.003247106937970369), (3388, 0.0032468201899279064), (1075, 0.003246264126418796), (783, 0.003246226587689731), (2385, 0.0032457143643553074), (4474, 0.0032446918555325828), (1007, 0.003244173454066806), (1670, 0.0032434299758428587), (3187, 0.0032428727632574845), (178, 0.0032417397100093517), (3654, 0.003240928732287344), (3984, 0.0032408511774834133), (1570, 0.003240848938680641), (1902, 0.0032390964456190108), (262, 0.003237330140232629), (4757, 0.003236145584587173), (3242, 0.0032353715453830043), (1643, 0.0032352539282119604), (4225, 0.003234860179654745), (1821, 0.0032337455070024115), (716, 0.003231494474384398), (4624, 0.0032314282736120113), (1402, 0.0032314137449833543), (173, 0.003229690852686095), (1192, 0.0032286881278343104), (2088, 0.0032286276650582532), (564, 0.003228450347143619), (4363, 0.0032275422706771707), (255, 0.00322696157436022), (1439, 0.0032265724702462573), (4430, 0.003226425807441626), (4497, 0.003226303664077723), (845, 0.003226165359295321), (502, 0.0032261073258688304), (3437, 0.0032260444929589774), (1736, 0.003226016902852154), (2083, 0.0032249552279945085), (2640, 0.0032243259542304122), (3150, 0.003224200501891689), (4354, 0.0032236973497787123), (20, 0.0032232611189849376), (2926, 0.003222798278840497), (3770, 0.0032225004311941283), (3919, 0.0032214011141507774), (1660, 0.0032197679510801006), (1006, 0.003219500299742251), (204, 0.0032194442891947243), (3862, 0.003218423496578813), (4448, 0.003218239214580222), (3599, 0.003217584843349931), (4083, 0.003217241267766389), (1229, 0.0032171895916819557), (3514, 0.0032171009517657613), (1224, 0.0032168010826413513), (482, 0.0032164991698947374), (2561, 0.00321497787886978), (3241, 0.003214920467576672), (4629, 0.0032147113851001686), (3845, 0.003214274023926361), (890, 0.0032139220329251497), (2601, 0.0032138084513224628), (717, 0.0032136093112087), (4419, 0.0032125866834734704), (1475, 0.0032125273979226408), (2531, 0.003211596286815772), (2545, 0.0032105645448525727), (2370, 0.003210513480498755), (4136, 0.0032102218581730735), (1513, 0.003210126239012547), (1983, 0.0032094482033038865), (4089, 0.003208645998498467), (3224, 0.0032083405651042018), (1851, 0.0032082214226334276), (2546, 0.0032080099522183805), (2911, 0.0032071848371453605), (34, 0.0032066323134828634), (3902, 0.0032063418361130388), (1083, 0.003206291583995331), (884, 0.0032061316777036034), (4361, 0.0032061000721643708), (2904, 0.003205215139677772), (2405, 0.003205070332098232), (1727, 0.003204035991354467), (3353, 0.003203754143375645), (1048, 0.003202303935506154), (588, 0.0032021879992491604), (2650, 0.003201713041167302), (3778, 0.0032009345908346762), (551, 0.0032003901423460434), (447, 0.0031998582997950767), (4625, 0.003199680933507025), (3666, 0.003199678316118502), (4262, 0.0031993129369332685), (2016, 0.0031991025885093455), (3536, 0.0031974583629264413), (3349, 0.00319711641442901), (4025, 0.0031970058030117198), (987, 0.003196294195261928), (1124, 0.0031948553124713846), (216, 0.003194821427127733), (4079, 0.003194536981900589), (2148, 0.003194074906074159), (2744, 0.0031937650472484815), (2072, 0.003193198613599937), (774, 0.0031930041397380997), (4379, 0.0031928456989009837), (3920, 0.0031919464830268028), (3959, 0.0031917395970187247), (637, 0.003191146890223254), (3517, 0.003190727240790706), (584, 0.00318861434196994), (1703, 0.0031884174868535317), (3689, 0.00318745778350687), (1765, 0.0031872017941284962), (4340, 0.003187175384475462), (3527, 0.003185443756676824), (4334, 0.0031850108376987414), (980, 0.0031849283394230128), (4422, 0.0031845326951937176), (4287, 0.003183691877951885), (3198, 0.003183428311514436), (606, 0.00318214742539172), (2053, 0.0031815202813898487), (1382, 0.0031807943362067046), (4249, 0.0031795832534774813), (3623, 0.0031789448365201665), (120, 0.0031781527838058124), (2126, 0.0031780293274209564), (2863, 0.003177381257716057), (4470, 0.003177112301699347), (3636, 0.0031757291996441198), (377, 0.0031751169387052953), (1494, 0.003174650883052968), (1717, 0.003173723021206442), (1516, 0.003173637816146638), (3153, 0.0031732572879803367), (472, 0.003172531265111314), (2334, 0.00317182085793612), (2048, 0.003171767410578585), (3290, 0.003171312303654661), (2668, 0.00317075291065026), (3233, 0.0031702391771727986), (4643, 0.0031698462190662175), (631, 0.0031684815800124347), (1768, 0.003168332671736173), (743, 0.0031666406150580883), (1946, 0.003166636356724486), (176, 0.0031664864717662984), (871, 0.0031663015180470448), (2466, 0.0031647728330116893), (2230, 0.0031647727909503093), (865, 0.003164197269290229), (1294, 0.0031634935125227272), (1334, 0.0031634424379890004), (2894, 0.003162350804550685), (4563, 0.0031599721294344966), (1254, 0.0031582993251143467), (3289, 0.003158120971440464), (3809, 0.003157327421597066), (71, 0.0031570110699910376), (3445, 0.003155968416081698), (1355, 0.0031557305161254946), (2977, 0.003155283509848426), (3000, 0.003155167784936294), (4533, 0.0031538635917415262), (3526, 0.0031536944888163167), (4273, 0.0031534603139884553), (3542, 0.0031529512984746423), (4189, 0.003152147049191665), (3571, 0.003151131257165499), (115, 0.00315101738002483), (2386, 0.0031505888151010806), (1174, 0.0031503356920371288), (2784, 0.003149763504039802), (1077, 0.003148217862389205), (3699, 0.003147546976167669), (933, 0.003147180484325616), (1176, 0.0031456144583606777), (969, 0.003145349908031301), (1182, 0.003144082004950746), (406, 0.0031440673715847104), (1740, 0.003143559322340783), (593, 0.003143148623583425), (1688, 0.003142355538662278), (3606, 0.003142020646126138), (3653, 0.003141294320721784), (4283, 0.00314122542971694), (2073, 0.0031406781118988023), (2489, 0.0031404664772028937), (750, 0.003139472917720975), (3283, 0.0031388523027142483), (2292, 0.003138602261376544), (1122, 0.003137360754776809), (850, 0.003137194296837819), (3303, 0.003135967228034033), (2155, 0.0031354835781025898), (1942, 0.003135218020581846), (2397, 0.003134097074046165), (832, 0.0031333347884495875), (2746, 0.003133285944712444), (2210, 0.003133166321593328), (1087, 0.0031329297340876483), (3501, 0.0031324367486838187), (994, 0.0031316641049750227), (4068, 0.0031306952617004466), (2295, 0.0031306088999595383), (3643, 0.0031306025119296707), (353, 0.0031297683410530276), (2798, 0.0031292840021337107), (2313, 0.0031286739359622415), (1413, 0.003127467026251162), (544, 0.003127194417839203), (198, 0.0031266628490661335), (1204, 0.003126602414685025), (2430, 0.003126536238366317), (1533, 0.0031259353226386396), (4135, 0.003125323947368779), (4004, 0.0031251806598763324), (4255, 0.0031239006219453223), (579, 0.003123833105304749), (2277, 0.003123794178470213), (2374, 0.0031231017815969556), (2887, 0.0031224801550035915), (3386, 0.0031224280777157045), (1476, 0.003122089735747912), (2647, 0.003121146502882103), (4014, 0.0031179762244970453), (1472, 0.0031174418302185483), (1138, 0.003117268300260916), (1872, 0.0031168076968604214), (3739, 0.0031154933653317466), (2652, 0.0031154033648163677), (4677, 0.0031146823041432498), (1410, 0.0031145475279621567), (4391, 0.0031142729549891355), (864, 0.0031138701865760987), (3335, 0.0031135918644052364), (4501, 0.003113388503174494), (1335, 0.0031122985079457665), (636, 0.0031121853678012326), (1722, 0.003111886183268292), (1510, 0.003111001974057352), (2122, 0.0031109674204909577), (1922, 0.0031108129855503368), (3551, 0.003110222154582955), (1175, 0.0031099647380874664), (4137, 0.0031099002248232916), (1574, 0.0031097579466050815), (1706, 0.0031096810910843553), (4266, 0.003109562231793051), (2554, 0.0031087567616512215), (2144, 0.0031083951799774985), (3210, 0.0031083899095207777), (3670, 0.003107959493492937), (4503, 0.003107897408484113), (848, 0.0031078149554881647), (628, 0.0031069528293539077), (2109, 0.0031063529226417514), (1232, 0.00310538608483588), (897, 0.0031050506373664255), (343, 0.0031049837267111183), (993, 0.0031042784858830988), (2934, 0.0031040662217116416), (2192, 0.0031033521340085167), (3155, 0.0031026945599526012), (696, 0.0031018169961631085), (2783, 0.003101248361039024), (104, 0.0031010688690136447), (2492, 0.003100901278964938), (4686, 0.0031004017618381525), (4517, 0.0031002545770036556), (504, 0.003100237820452593), (2533, 0.003099406836758414), (1876, 0.0030993173213802595), (4081, 0.003098670566634474), (4604, 0.003098259754033109), (2284, 0.00309824117777908), (2826, 0.003098069302430441), (3125, 0.0030968357323400936), (4435, 0.003096315840707269), (378, 0.003094812364683507), (1191, 0.0030937678678462834), (3491, 0.003093712478993914), (3564, 0.0030935703695958213), (1223, 0.003093533643580107), (1131, 0.0030918986174622277), (172, 0.0030913857948342166), (5, 0.00309078340831478), (3341, 0.00309024401234259), (4715, 0.0030895645609666906), (1488, 0.0030893623872201735), (2340, 0.0030892484445470773), (2344, 0.0030880197949616356), (4640, 0.0030873135320222604), (1385, 0.0030854900510448023), (2695, 0.003085415830751453), (2831, 0.0030851549159054154), (1170, 0.0030850767566262876), (2354, 0.0030846867619873414), (114, 0.0030845453314756444), (4330, 0.003083332942090052), (1304, 0.0030826383738883027), (761, 0.003082072087461674), (2558, 0.003082020217806628), (3478, 0.0030816216007758706), (2495, 0.0030813419996667205), (1179, 0.0030811870648878147), (986, 0.0030792621020360998), (1378, 0.0030789972092855502), (479, 0.0030779756493921956), (3492, 0.003077822536175544), (1163, 0.003076183073795321), (66, 0.0030756033391804373), (2250, 0.0030749625499981986), (2212, 0.003074933951302196), (2387, 0.0030749131357942663), (3665, 0.003074280799655179), (280, 0.0030735571855567767), (2195, 0.0030734889837229387), (3346, 0.0030734226151025784), (3174, 0.0030733873258160763), (4016, 0.0030731302336617547), (109, 0.003072277732904008), (79, 0.0030720054526925736), (2900, 0.0030718148995036395), (2943, 0.0030705390307366807), (1112, 0.0030692927745944428), (4268, 0.0030691686596983347), (3673, 0.003069134055475596), (3807, 0.0030654567193765516), (4511, 0.0030650080651141555), (689, 0.00306471251276115), (2999, 0.003064140239599701), (1678, 0.0030640081805482396), (4409, 0.003063384592704945), (3299, 0.0030621405281787504), (346, 0.0030620925526342246), (4060, 0.003061637772738461), (988, 0.003060836537944524), (2289, 0.0030602749039855687), (1102, 0.0030584407951235637), (3374, 0.0030582597460132696), (4394, 0.0030579255573882774), (1811, 0.0030568328762604637), (4000, 0.0030566377846292475), (3441, 0.0030563038677788486), (105, 0.0030562401372511774), (3477, 0.003055718229066204), (3727, 0.003055393133232796), (2174, 0.0030545447044453), (1634, 0.0030542526589590236), (3553, 0.00305416128506656), (400, 0.00305332073831817), (1252, 0.0030531497811422713), (3624, 0.0030530588102010273), (894, 0.003052666021493186), (1072, 0.0030521951652171288), (1438, 0.003051848268109403), (3435, 0.003051662450626851), (490, 0.003051509250041599), (348, 0.003050537600736829), (1059, 0.0030504127199312272), (2060, 0.0030503230950326868), (3565, 0.0030497887908813135), (3596, 0.0030497739895860645), (3888, 0.003049098408620503), (1831, 0.0030469465935263887), (247, 0.0030469463479879345), (466, 0.003046625177923738), (464, 0.0030460249816454082), (2569, 0.0030450032889585577), (3381, 0.003044817613279645), (1500, 0.0030447929644853915), (4228, 0.003044469626256971), (3067, 0.0030443009397745128), (174, 0.0030438635937098993), (3237, 0.003043734011691957), (534, 0.0030435975335077166), (61, 0.003042421477214704), (769, 0.003041272960349628), (374, 0.0030404016937015557), (880, 0.003037363133726607), (2416, 0.0030371645655972875), (1257, 0.0030366497343840043), (1313, 0.00303664366701993), (4668, 0.003036424948342822), (973, 0.0030360516994331274), (4487, 0.003036041939628978), (282, 0.003035872604749717), (3173, 0.0030348190953199557), (2173, 0.0030345082732943394), (2961, 0.0030332909101359394), (3093, 0.0030327405437356137), (2946, 0.003032704975791723), (3195, 0.003032601291311205), (3906, 0.0030319261860632745), (3647, 0.003031912326575776), (2687, 0.0030318214497949817), (989, 0.0030309995748478377), (1338, 0.003030908957043159), (1100, 0.003030613651823265), (2463, 0.003029096237679446), (1110, 0.0030290293543082853), (169, 0.0030276687223248127), (727, 0.0030276275113610275), (215, 0.0030274582140438493), (4685, 0.0030254566730943005), (1026, 0.0030239089384323866), (4284, 0.0030236373488721135), (3260, 0.003023480308931095), (1319, 0.0030233702548211248), (119, 0.003023343088125828), (4020, 0.0030232036474835636), (1807, 0.0030226868762739385), (3046, 0.0030224381044689276), (2980, 0.0030222787402774415), (3557, 0.003021912927928457), (3827, 0.0030214510238865742), (3379, 0.0030212404335824053), (1286, 0.003021059615557284), (2216, 0.0030201475729724598), (1882, 0.0030193239242686095), (2111, 0.003018568469092032), (98, 0.0030174933553232005), (4362, 0.0030173751195265845), (2945, 0.003016509257730512), (26, 0.003015197579741541), (2910, 0.0030151071439360223), (2087, 0.003014035798812428), (4530, 0.0030137974949108076), (2226, 0.0030132761221330667), (2802, 0.003013272844083602), (4687, 0.0030131934561979184), (2102, 0.0030126173465319836), (3220, 0.003011770047575933), (3447, 0.0030112286707852645), (4036, 0.003011014700984617), (4641, 0.0030103668736424435), (2632, 0.0030091794314316958), (2029, 0.0030085633233771602), (1617, 0.0030084609682015317), (3719, 0.00300782828826095), (3706, 0.0030074374419495386), (446, 0.0030061384633698284), (3412, 0.0030054529418182545), (1653, 0.0030050955698733674), (2553, 0.0030042929329358098), (799, 0.0030041041620862212), (3402, 0.00300296909970813), (2279, 0.0030025600668110563), (2698, 0.0030024273088337344), (1350, 0.0030017614117929282), (1408, 0.0030012749856267017), (127, 0.003000542476205321), (1422, 0.0030004265453924673), (693, 0.002999312556234423), (1096, 0.0029979880286499817), (4395, 0.002997931605726837), (358, 0.0029970873321614024), (2008, 0.0029968526049079327), (1017, 0.0029952682251697532), (2401, 0.0029949174706434233), (755, 0.002994798885808818), (1035, 0.0029937120692633506), (3765, 0.002993428946614948), (4693, 0.002993392557647607), (4576, 0.0029931130954330898), (3075, 0.002992878326943336), (1813, 0.0029917754966825626), (2422, 0.0029913286210795924), (522, 0.0029913231568876805), (3370, 0.002991226253613671), (292, 0.0029898299156692967), (329, 0.0029894053357207378), (4442, 0.0029890394242987686), (4183, 0.002988867484487852), (349, 0.0029887762684310875), (2461, 0.0029878871445662997), (4381, 0.0029875047327606215), (4550, 0.0029874393958336776), (4573, 0.0029873663607688904), (1245, 0.0029871184261649622), (2808, 0.002986027443846481), (1044, 0.0029852253095982283), (4673, 0.0029846875412815523), (4192, 0.002984106038877313), (2912, 0.002983904025531973), (1261, 0.0029836172931358923), (1671, 0.002983526449100868), (1030, 0.002982974978518563), (4129, 0.0029827867451374416), (1481, 0.002982580386652817), (3348, 0.0029822618067706615), (817, 0.0029821318403219135), (3890, 0.0029813371242983296), (541, 0.002980697515745687), (488, 0.002980695949866624), (4382, 0.002979812458583488), (4472, 0.0029788497338592342), (3028, 0.0029779101997866662), (2080, 0.0029773932530964722), (1645, 0.00297702241868848), (167, 0.0029770207258854767), (3298, 0.0029767642264187555), (4336, 0.002976574473465949), (4069, 0.0029765094033853677), (1247, 0.002976418503425623), (2612, 0.002976187512097922), (2268, 0.002976159590847503), (3641, 0.0029761586087690617), (4139, 0.00297577949583809), (651, 0.0029751486805818022), (87, 0.0029748290432438265), (4504, 0.002974220845055126), (1060, 0.0029732356198939156), (19, 0.002973218292485817), (2027, 0.002972551126177622), (3696, 0.0029718371428502114), (3660, 0.0029717078170862373), (3010, 0.0029716013678393813), (1463, 0.0029711647082577447), (2642, 0.0029690027429458395), (2716, 0.002968273628935373), (923, 0.0029676633751233436), (112, 0.0029667757875228204), (4461, 0.0029666340324479264), (85, 0.00296454952232566), (3917, 0.002964358298320116), (1864, 0.0029639559023515332), (3352, 0.0029634551591366546), (646, 0.00296344225444317), (3900, 0.002963255271954062), (3487, 0.0029628708615270912), (4658, 0.0029626100217295306), (3826, 0.00296258647195475), (1248, 0.0029607778989779836), (1117, 0.0029603678683685903), (2131, 0.0029603214303519075), (4729, 0.0029600536010896844), (620, 0.002959782383865131), (1582, 0.0029584781808806872), (1020, 0.0029564667902042285), (2117, 0.002955925671899445), (3503, 0.002954964831142502), (18, 0.0029549228323894733), (3246, 0.0029542333064834594), (1033, 0.0029538065869912245), (4670, 0.0029518869903889383), (3504, 0.0029516394078491575), (1034, 0.0029511257226625103), (2024, 0.0029509392465808418), (487, 0.0029499629626915775), (2367, 0.002949805182050696), (3868, 0.0029485818606218395), (4523, 0.002947895558671025), (852, 0.002947797184803191), (731, 0.0029477883604016233), (2752, 0.0029474135211469414), (1027, 0.0029467393309579384), (2143, 0.0029463119713396555), (2141, 0.002945455058558179), (1416, 0.002944831308279216), (3498, 0.002944355214119682), (4536, 0.002944152732285459), (2309, 0.0029437259929456514), (883, 0.0029437145218226264), (4614, 0.0029434895489545113), (1854, 0.002942221976265997), (3214, 0.0029419884586299244), (2779, 0.0029417600209659545), (798, 0.0029407862923590067), (1877, 0.002940605675522207), (4152, 0.002940109767290758), (2886, 0.0029400322882435523), (3122, 0.002939767002316081), (356, 0.0029394166495241513), (3978, 0.0029393078755713623), (2540, 0.0029370168596541536), (1001, 0.0029370153818215074), (1002, 0.0029361488342671918), (3390, 0.0029361269189186277), (3151, 0.0029354562656817716), (3733, 0.0029349475162154), (2473, 0.0029348331439752007), (29, 0.0029345809659728087), (4321, 0.0029338320920982122), (2121, 0.0029337444830088415), (3035, 0.002933672676982345), (3784, 0.002933183788514393), (4085, 0.0029330021238609845), (1273, 0.0029328282394841853), (3691, 0.0029322990882239067), (164, 0.0029322800937637864), (3170, 0.002931661563123286), (3171, 0.002931362382637335), (4213, 0.002930281000976271), (221, 0.0029299507876799184), (2706, 0.0029296808027041675), (2765, 0.002929196940202798), (1375, 0.002928905887049452), (1123, 0.0029287371618760823), (2068, 0.0029282547027334412), (1255, 0.0029280047820617653), (505, 0.002927474144618082), (644, 0.0029274018201008193), (2965, 0.002927308905584645), (4206, 0.0029271777604441868), (1878, 0.002925966113089727), (2892, 0.0029251981287583034), (4374, 0.0029251871860470407), (1160, 0.002924962064236045), (2224, 0.0029241666123234187), (437, 0.002924028713481366), (767, 0.0029232307739769222), (4345, 0.002923048177572253), (3799, 0.0029211247628506214), (2995, 0.0029206014910310584), (373, 0.002920512549577779), (911, 0.002919471079840044), (2572, 0.0029191290994152264), (4246, 0.00291776598591638), (3293, 0.002916733707809173), (2679, 0.0029160328397669993), (4124, 0.002915892950623478), (203, 0.002915809569572776), (698, 0.002915592744706695), (2651, 0.0029155712731260535), (2598, 0.00291554359573349), (434, 0.0029153624665315264), (2133, 0.0029147600656296456), (3646, 0.002913868722336188), (1742, 0.0029137603407326904), (408, 0.0029135229164179276), (1404, 0.0029129460034706635), (2997, 0.00291269524320472), (4399, 0.00291234789586096), (325, 0.0029120233515527636), (2800, 0.0029114520070421296), (818, 0.002911221151148509), (828, 0.0029110391783762654), (878, 0.002910624519735023), (1032, 0.00291060539102741), (197, 0.0029096916093099144), (3819, 0.0029096244689700386), (966, 0.002909588844535481), (3014, 0.002909130116196119), (388, 0.0029091039193188746), (3194, 0.002908644159588962), (116, 0.0029084398327536842), (578, 0.002908412566464771), (3954, 0.0029083646383138715), (126, 0.002907524334892587), (939, 0.002906619502468455), (3734, 0.002906498802847551), (1036, 0.0029064197071388275), (387, 0.0029063256196864215), (2972, 0.002904723477844352), (2812, 0.0029041784245318), (4257, 0.0029029690036759858), (1177, 0.002902889705145214), (2348, 0.002902628824636411), (2166, 0.002902211049136428), (3615, 0.0029019257462953975), (2525, 0.0029017829456045355), (3433, 0.0029016257719000605), (31, 0.0028981693415559835), (2899, 0.002896842101630927), (742, 0.0028967100021314238), (2004, 0.0028963215877675923), (3300, 0.0028959387700793035), (236, 0.0028946088511536266), (4011, 0.0028941029726538294), (4254, 0.0028934921350435142), (1041, 0.0028926337890365092), (1682, 0.00289183475854179), (287, 0.0028915359913145172), (3057, 0.002890870331517333), (1372, 0.002890741741637137), (307, 0.002890538453360167), (886, 0.0028890327964879803), (903, 0.002888606850669971), (3941, 0.0028877926455949557), (140, 0.002886637383760425), (941, 0.0028862381793638304), (3243, 0.002886227074415684), (734, 0.00288602196657484), (1665, 0.002885342563072273), (279, 0.0028848802966667843), (975, 0.0028848635211637832), (212, 0.0028839175797182462), (2496, 0.002881848530524489), (4059, 0.0028818228991502786), (1620, 0.00288148557212926), (900, 0.0028812625146412683), (1206, 0.0028807365887112677), (963, 0.0028805582662344655), (2099, 0.002880319654188177), (1884, 0.002880288900141299), (2634, 0.0028794086492570444), (2149, 0.0028792971213918083), (3399, 0.0028790407644999176), (471, 0.00287778299307074), (655, 0.0028776987527020254), (4634, 0.0028754865335695063), (3452, 0.002873542526039114), (229, 0.0028729685730711127), (2862, 0.002871902152645758), (372, 0.0028712768719983176), (598, 0.002871209316617951), (944, 0.0028710785979003035), (895, 0.0028710138109161055), (1819, 0.0028709538868162206), (659, 0.0028704979042642434), (3725, 0.00286934588553764), (3147, 0.0028688187590819496), (1555, 0.002868757559534243), (213, 0.0028681268412127383), (921, 0.00286800838458452), (1107, 0.0028671579029256895), (410, 0.0028669537618836705), (2201, 0.0028666599118435973), (4591, 0.002866068708376761), (4356, 0.0028659286303610197), (838, 0.0028654693818586075), (866, 0.0028647997979756915), (1558, 0.0028646035617464084), (3829, 0.0028645441509400596), (2446, 0.0028621898060886327), (3342, 0.0028615348032627374), (868, 0.002861159084305797), (1183, 0.00286035226586347), (1456, 0.0028603189034702467), (2907, 0.0028580006105092684), (1641, 0.002857644560729728), (1650, 0.0028575238366069134), (2556, 0.002857455417098962), (589, 0.002855951301660112), (463, 0.0028559510126423392), (399, 0.0028554384190347315), (96, 0.0028521102371506075), (1642, 0.002852077000201142), (1514, 0.0028519348338121044), (2777, 0.0028513989503949023), (766, 0.002851340137699352), (2317, 0.0028513231633910045), (3627, 0.0028512777583515024), (2868, 0.0028510639177958493), (744, 0.00284983292962608), (3854, 0.002849715076545305), (1519, 0.002849661785360928), (805, 0.002849649048274125), (4402, 0.002849472864689966), (1920, 0.0028493021345748723), (1760, 0.002849151485793199), (1448, 0.0028474336506092617), (4616, 0.0028466554174270287), (136, 0.0028457375652419154), (2735, 0.002845252357302827), (3558, 0.0028449865663906985), (3913, 0.0028449434057760017), (2399, 0.0028445707104864477), (2593, 0.0028431581523578595), (558, 0.0028416119477965318), (355, 0.0028415417145825086), (899, 0.0028406780519727947), (324, 0.0028402731791195555), (590, 0.0028402119147914085), (638, 0.002840205290176061), (1667, 0.002840038681113482), (3656, 0.0028400039508745117), (1357, 0.0028398530513177906), (1114, 0.0028383608520099), (4479, 0.002838207507400482), (1814, 0.0028374047391426824), (2674, 0.002836703557961358), (4282, 0.002836649925318334), (4174, 0.0028363764049159942), (669, 0.002835432204144784), (3389, 0.002834184822002479), (604, 0.002834133062522014), (4348, 0.002833922769963493), (907, 0.002833887002332214), (1079, 0.002833832766434788), (3460, 0.002833705225230571), (4176, 0.0028335858772452586), (2347, 0.0028328319691956626), (2453, 0.002832273909048485), (3767, 0.002830777956165977), (4649, 0.002830032663051051), (1875, 0.0028298427381973023), (3455, 0.002829522985894274), (3876, 0.0028287201848786105), (43, 0.0028285388446349967), (457, 0.0028283368612081095), (359, 0.0028280152513221316), (1308, 0.0028272598034618244), (1462, 0.00282652076096652), (183, 0.0028261953365649787), (3306, 0.0028251671185853242), (416, 0.0028239085902080317), (3050, 0.002823337152837886), (4277, 0.002822620977891747), (3284, 0.002822345417001051), (1672, 0.002821033839352149), (910, 0.002820901850026302), (1628, 0.002819662366812414), (2920, 0.0028195614999622794), (2301, 0.0028188945877846484), (624, 0.0028186720256220144), (1782, 0.002818478990538693), (863, 0.002816851869135657), (4620, 0.002815626284449615), (3742, 0.0028148152314706487), (4502, 0.0028145248643395176), (957, 0.002813879580826577), (124, 0.0028138618848177277), (2954, 0.002813775574819111), (1434, 0.002813506502875623), (4359, 0.00281342185972198), (218, 0.0028133715054985808), (465, 0.0028133698153087394), (1796, 0.0028116870314868155), (4638, 0.002811053389091614), (199, 0.0028098632504461943), (1730, 0.0028094713311344346), (3563, 0.002808612549147291), (1675, 0.0028073415416055955), (759, 0.002805718618835438), (2728, 0.002804968207959027), (1360, 0.0028046379936177922), (2803, 0.0028043958169229307), (3953, 0.0028038345272721745), (2011, 0.0028021185806166794), (3278, 0.0028020626881059573), (3474, 0.0028001622746467534), (1528, 0.0027989751911243004), (1892, 0.002798246932449559), (1237, 0.0027973621049290913), (1538, 0.0027971509048869835), (2236, 0.0027963476575256162), (3267, 0.0027961787469996005), (1865, 0.0027956183935137365), (608, 0.002793397008270488), (2055, 0.0027929473163617294), (968, 0.0027914856159644125), (285, 0.0027909476382353194), (2402, 0.002790778451634862), (3304, 0.0027903622586458975), (1869, 0.0027900932157406437), (3614, 0.0027892890915411995), (1595, 0.002788769065097041), (3705, 0.002788503426467456), (473, 0.0027879616996440136), (3311, 0.0027875773111052916), (2931, 0.0027875716704978187), (449, 0.0027870470729407485), (1827, 0.002786647788244803), (1826, 0.0027865872007653922), (1964, 0.0027856469012461894), (4154, 0.0027845864172510023), (2338, 0.002784183748908394), (1605, 0.002784009540741112), (428, 0.0027821880275467454), (1161, 0.002781747825580798), (1220, 0.00278135998561766), (1719, 0.002781141015679217), (2323, 0.0027809218122627688), (2031, 0.0027807924887080283), (1366, 0.0027797514630749577), (563, 0.002778756500534234), (515, 0.0027777283244763383), (4350, 0.002777592570388237), (3318, 0.002777356201209803), (581, 0.0027770280308148762), (1690, 0.0027764276034431836), (4712, 0.0027760368622270445), (2741, 0.0027746506991719318), (1080, 0.002774169774060401), (3336, 0.0027736949625307068), (3974, 0.002773633820849949), (4074, 0.002773236590392649), (3027, 0.0027730211459112853), (2285, 0.002772901947381545), (936, 0.002772740622831442), (3986, 0.002772707696710054), (2457, 0.002772039820220895), (1000, 0.002771726109342386), (804, 0.0027716717164395035), (4475, 0.0027711371674386865), (1625, 0.0027710259608967453), (1739, 0.002770831448422221), (2248, 0.0027704368213212096), (597, 0.0027701307253156773), (4143, 0.0027700411581797466), (161, 0.0027699177616220937), (800, 0.002769855754729037), (3863, 0.0027691340773429015), (722, 0.002768956052733381), (2065, 0.0027685856058676933), (3108, 0.0027658191666971327), (4304, 0.002765773709985591), (2591, 0.0027646819163101486), (158, 0.002764224024307915), (3327, 0.002764101282055924), (885, 0.002764064064272336), (1808, 0.0027636901183682597), (2191, 0.00276365901500626), (3841, 0.002763542741667165), (4080, 0.0027630613331741613), (2607, 0.002762190863211745), (3801, 0.0027609124783103895), (2976, 0.002760526329808255), (3167, 0.002759747551541968), (4590, 0.0027594078526545305), (917, 0.0027583301322132185), (3111, 0.002758102714875247), (3795, 0.0027565903989653705), (3556, 0.0027553669297844677), (594, 0.002754399707172991), (1921, 0.0027540407109064007), (815, 0.0027530971316495137), (4205, 0.0027524978385034243), (2580, 0.002751987539717495), (732, 0.002750956765364553), (856, 0.002750696875951578), (2163, 0.002749678383711548), (1762, 0.002749115477777694), (268, 0.0027484972245572464), (2213, 0.0027480641897975693), (672, 0.0027478788198739565), (1539, 0.002747838771715555), (4141, 0.002747588220346026), (1977, 0.0027437205434457075), (1392, 0.00273986142497766), (2724, 0.0027383152487546526), (703, 0.0027373260694209586), (3360, 0.00273731502153215), (657, 0.002736537043129977), (1423, 0.0027349056587491556), (2587, 0.002734710101751739), (4608, 0.0027346378181443134), (132, 0.002732068540512283), (4661, 0.0027315888841539654), (1830, 0.0027305067729211166), (1394, 0.002730244204832729), (1290, 0.0027300955883211206), (1954, 0.0027297770202070744), (252, 0.0027296441922269768), (705, 0.002728155275375995), (1251, 0.0027269059667084095), (495, 0.0027255713060246457), (3755, 0.00272351145863676), (33, 0.0027233612070971442), (2047, 0.0027231141930243877), (200, 0.002722933720568376), (712, 0.002722585970639533), (166, 0.002721543491205788), (519, 0.0027209023909815595), (1608, 0.0027200892270683717), (1553, 0.0027197078671640828), (2502, 0.0027188795953563354), (4220, 0.0027185260447689288), (1199, 0.002718430473209706), (2617, 0.002716926153114666), (808, 0.0027166962519211105), (2753, 0.0027147870692988334), (1776, 0.0027139213445429955), (184, 0.002713619034433422), (222, 0.0027123146769778886), (92, 0.002711940586376901), (4679, 0.00270922748070817), (3, 0.0027090731075112796), (4247, 0.00270850373273219), (1616, 0.0027080939941180387), (4066, 0.0027062466849383936), (1186, 0.002705844763702691), (3910, 0.0027054601381112453), (97, 0.002704326817840774), (480, 0.002704110228569881), (2237, 0.0027040679039547653), (3894, 0.002702642502329497), (249, 0.0027025602621918872), (32, 0.0027023912507087512), (1136, 0.0027016044506604875), (3403, 0.002699839818692335), (851, 0.002699605958537835), (317, 0.0026983329880587905), (3895, 0.0026976238023776592), (4432, 0.0026972548378158766), (3637, 0.0026949271537095613), (1301, 0.0026922498284492604), (3880, 0.0026885294793627017), (924, 0.0026842303949702003), (4296, 0.0026842172925366998), (1943, 0.0026822538527167083), (3655, 0.0026818458138333093), (653, 0.002681169201836263), (4232, 0.0026790334444792984), (3096, 0.002678754853854562), (2692, 0.0026759665928032302), (2412, 0.0026757778750826295), (4429, 0.0026756398529345178), (1217, 0.0026753428428842843), (2520, 0.0026713957922405046), (1764, 0.0026711797745195952), (2747, 0.002670190267002181), (103, 0.002669120292034732), (4748, 0.002668885270786055), (2942, 0.0026665896482682356), (733, 0.0026662964100787807), (1397, 0.002664871630899393), (165, 0.002663936743559683), (642, 0.002661787036587408), (357, 0.002659240852073702), (4386, 0.0026577594210105), (874, 0.0026575095249443854), (1370, 0.0026571113681823524), (1450, 0.002655611054472602), (278, 0.0026540818919551313), (861, 0.0026536558041162653), (2761, 0.0026518554342512602), (364, 0.0026511289345986155), (2527, 0.002650423260307818), (3393, 0.0026503554331129687), (3629, 0.002646532492449381), (269, 0.0026442335739172923), (4627, 0.002644226204600796), (2611, 0.0026437485548631325), (3569, 0.0026420962532192026), (2743, 0.0026420626544949727), (251, 0.0026412576417966897), (4411, 0.0026400241033857847), (2382, 0.0026397806656613286), (1763, 0.00263892784636694), (1833, 0.0026387491091107366), (445, 0.0026380763745232462), (1215, 0.002637749121669647), (4476, 0.002636942929190899), (60, 0.0026360968118575774), (2070, 0.0026358468752800497), (1088, 0.002634286287281359), (4344, 0.0026342102189588785), (1627, 0.0026341882888874903), (1565, 0.002634048132764468), (2146, 0.00263352977168303), (3376, 0.002631476774973395), (496, 0.0026309275156522136), (3579, 0.0026304038170545294), (190, 0.0026297310316156044), (3409, 0.0026291134289264098), (1050, 0.0026253037544721703), (1743, 0.0026230385011322085), (432, 0.002621582765794561), (3200, 0.0026183500826133057), (1352, 0.002617640196498349), (3065, 0.002617508055254027), (2758, 0.0026171887814765695), (3344, 0.002617099562563187), (1340, 0.0026170406081799493), (2933, 0.002617010628706704), (4095, 0.002615234060184778), (2771, 0.0026148403709908338), (3855, 0.0026147883420272874), (1202, 0.0026138950093719158), (403, 0.002611947434595899), (626, 0.002611528709322606), (3669, 0.0026115250181911603), (267, 0.00261149077971237), (2035, 0.002610602216763636), (1356, 0.0026082419896213227), (3634, 0.002605488909172927), (1365, 0.0026022464597603486), (175, 0.0026021286902026615), (951, 0.0026014619328827617), (1312, 0.002600567309736087), (3657, 0.0026005281974114942), (2076, 0.002599030953088411), (4636, 0.002598723132665453), (547, 0.0025981379576181744), (2039, 0.002592151590268682), (707, 0.0025919506294862374), (2157, 0.002591212428794835), (195, 0.0025901964516638386), (196, 0.002588373262016094), (2603, 0.002588181418688791), (2127, 0.00258699634332559), (3347, 0.002586441767134609), (566, 0.0025853542263876176), (3821, 0.0025843804652439257), (2211, 0.00258212940434796), (3091, 0.002579355704196441), (2132, 0.002574479686268587), (3928, 0.002574113018374379), (2876, 0.0025737155731300814), (1042, 0.002573714824705367), (1367, 0.002573429506045559), (2359, 0.0025720854891766185), (4733, 0.0025712601833528057), (2287, 0.002570959264039047), (2985, 0.0025704103801533623), (3331, 0.0025688051684497953), (16, 0.0025684872685684634), (616, 0.002568044788395758), (1209, 0.0025679867707013564), (3252, 0.002567771485810754), (1078, 0.002566315488256862), (2481, 0.0025662633590723288), (44, 0.002565222687958862), (2221, 0.0025618679295944724), (796, 0.0025584225276672305), (2602, 0.002556968109664338), (442, 0.002555191335533481), (3056, 0.002552885832833611), (901, 0.0025524260430823953), (142, 0.0025496016616691005), (3024, 0.002549205399290112), (2563, 0.002548639743304138), (4200, 0.002547844680137129), (1571, 0.002547765322534753), (1305, 0.002547606939409644), (441, 0.00254653751630851), (2844, 0.0025451358443185127), (149, 0.002544754800775798), (4015, 0.0025420358582335456), (2034, 0.0025388591804406044), (843, 0.002534224592260674), (3548, 0.0025341599660692548), (113, 0.0025341000065620587), (1241, 0.0025333258950020394), (3751, 0.0025328540697247873), (2509, 0.0025323991734419204), (1427, 0.0025261188837205494), (1415, 0.0025247926008432463), (1464, 0.0025242810573543628), (3317, 0.002524007762698751), (2697, 0.002522793250224939), (1369, 0.002522209825458988), (2526, 0.0025213522247363026), (433, 0.0025207418369302924), (3756, 0.002520701133546494), (3254, 0.002519665646381244), (412, 0.0025175988563738744), (3313, 0.002515906388750083), (1098, 0.0025128755950578115), (816, 0.002508158546617267), (1624, 0.00250765638475026), (1037, 0.002506780975339769), (942, 0.0025052493533039883), (4311, 0.002503645383745076), (156, 0.002503370898725536), (4744, 0.0024981237575647654), (2441, 0.0024954148601722017), (4626, 0.0024914599391864874), (691, 0.0024906256198585796), (3575, 0.0024895689365298174), (1377, 0.0024858440380824327), (1303, 0.002484576836484948), (953, 0.0024811796764268724), (3410, 0.002479801114254276), (2908, 0.002476401120586812), (719, 0.0024757032796575962), (1989, 0.002475111998090923), (4674, 0.002475056818674274), (3431, 0.0024746276707270933), (2925, 0.0024742160922188294), (407, 0.002472584226723305), (194, 0.0024724539805261537), (510, 0.002463253198897944), (3538, 0.002457177057255853), (1144, 0.002456868998631842), (2000, 0.002455702464457704), (1871, 0.0024527053716593672), (63, 0.0024525542285722874), (3471, 0.0024502030156777193), (1886, 0.0024493338766750413), (706, 0.002447620614393434), (2766, 0.0024451962808834625), (609, 0.0024450603805689273), (3362, 0.0024401903069990374), (527, 0.002439605817956605), (2010, 0.002433595439356111), (4598, 0.0024176165132286298), (3301, 0.002413161754873299), (2469, 0.0024127163767221323), (159, 0.0024118259330537916), (1040, 0.002406873166806821), (1417, 0.002405492368255339), (3152, 0.00240473957501851), (2767, 0.0024041912011749113), (3199, 0.002386380146011104), (853, 0.002382633450343074), (571, 0.0023759726486370027), (607, 0.002374581289690878), (266, 0.0023710936884349036), (3316, 0.0023704717096889342), (1403, 0.002367648376373069), (2760, 0.002365262325409821), (2474, 0.0023642669305849137), (3626, 0.002364238338067687), (224, 0.0023577398612865024), (453, 0.0023564095853292983), (1005, 0.0023554239069205896), (351, 0.002351081637549686), (82, 0.002338493389646906), (4182, 0.0023379694360993), (562, 0.002337866694084348), (1861, 0.002335836137586071), (228, 0.0023338721322909172), (3645, 0.0023227469111921153), (452, 0.0023209747496648002), (3285, 0.002316680066653494), (2636, 0.0023135631260703363), (4445, 0.0023133974873330147), (296, 0.002309604228110072), (1277, 0.002304446853778604), (2550, 0.0023043683131855086), (1648, 0.002301313572916015), (3546, 0.002299120615735415), (4301, 0.0022863167231788194), (1471, 0.0022852046513603197), (1351, 0.002272604521519974), (2902, 0.0022664440085621005), (684, 0.0022612459448626138), (1306, 0.0022464513813225365), (929, 0.002222967834000204), (7, 0.002213715463032497), (4752, 0.0022073810862718595), (641, 0.0022067383519683765), (293, 0.0021911108919430004), (4171, 0.002177899421108656), (3365, 0.002173166077836368), (243, 0.002169550510222507), (542, 0.0021609703949195267), (940, 0.00215668832338885), (1919, 0.002153862085124733), (129, 0.0021518903721206915), (824, 0.002145935481483191), (330, 0.0021292708575634273), (3458, 0.0021112290139968224), (858, 0.002080698914354413), (740, 0.0020672726463154783), (3392, 0.002047579297593469), (3328, 0.0020255026793262218), (2443, 0.0020238307795464893), (24, 0.0020126853291642303), (3608, 0.002007208426398433), (787, 0.001884933874970422), (3835, 0.001855968764153441), (2538, 0.0018438244024689425), (2841, 0.0017212566145576856), (0, 0.0), (1, 0.0), (2, 0.0), (6, 0.0), (10, 0.0), (13, 0.0), (14, 0.0), (17, 0.0), (22, 0.0), (27, 0.0), (30, 0.0), (35, 0.0), (36, 0.0), (37, 0.0), (38, 0.0), (39, 0.0), (40, 0.0), (42, 0.0), (45, 0.0), (46, 0.0), (47, 0.0), (49, 0.0), (50, 0.0), (53, 0.0), (54, 0.0), (55, 0.0), (56, 0.0), (57, 0.0), (58, 0.0), (59, 0.0), (64, 0.0), (65, 0.0), (69, 0.0), (72, 0.0), (73, 0.0), (75, 0.0), (77, 0.0), (78, 0.0), (80, 0.0), (81, 0.0), (83, 0.0), (84, 0.0), (86, 0.0), (88, 0.0), (89, 0.0), (90, 0.0), (91, 0.0), (93, 0.0), (94, 0.0), (95, 0.0), (100, 0.0), (101, 0.0), (102, 0.0), (110, 0.0), (117, 0.0), (118, 0.0), (122, 0.0), (125, 0.0), (128, 0.0), (130, 0.0), (131, 0.0), (133, 0.0), (134, 0.0), (135, 0.0), (137, 0.0), (139, 0.0), (141, 0.0), (143, 0.0), (144, 0.0), (145, 0.0), (146, 0.0), (148, 0.0), (151, 0.0), (153, 0.0), (155, 0.0), (160, 0.0), (162, 0.0), (168, 0.0), (170, 0.0), (171, 0.0), (177, 0.0), (179, 0.0), (180, 0.0), (181, 0.0), (185, 0.0), (186, 0.0), (188, 0.0), (189, 0.0), (201, 0.0), (207, 0.0), (217, 0.0), (219, 0.0), (225, 0.0), (233, 0.0), (234, 0.0), (239, 0.0), (240, 0.0), (241, 0.0), (245, 0.0), (248, 0.0), (250, 0.0), (257, 0.0), (259, 0.0), (260, 0.0), (261, 0.0), (263, 0.0), (264, 0.0), (265, 0.0), (272, 0.0), (273, 0.0), (275, 0.0), (277, 0.0), (284, 0.0), (289, 0.0), (291, 0.0), (294, 0.0), (297, 0.0), (298, 0.0), (299, 0.0), (300, 0.0), (301, 0.0), (302, 0.0), (303, 0.0), (304, 0.0), (305, 0.0), (306, 0.0), (310, 0.0), (311, 0.0), (312, 0.0), (313, 0.0), (314, 0.0), (315, 0.0), (316, 0.0), (319, 0.0), (320, 0.0), (321, 0.0), (322, 0.0), (323, 0.0), (327, 0.0), (328, 0.0), (331, 0.0), (332, 0.0), (333, 0.0), (334, 0.0), (335, 0.0), (336, 0.0), (340, 0.0), (341, 0.0), (344, 0.0), (345, 0.0), (347, 0.0), (352, 0.0), (354, 0.0), (361, 0.0), (362, 0.0), (363, 0.0), (365, 0.0), (366, 0.0), (367, 0.0), (368, 0.0), (369, 0.0), (375, 0.0), (376, 0.0), (379, 0.0), (380, 0.0), (381, 0.0), (382, 0.0), (383, 0.0), (384, 0.0), (385, 0.0), (386, 0.0), (389, 0.0), (390, 0.0), (391, 0.0), (393, 0.0), (394, 0.0), (397, 0.0), (398, 0.0), (401, 0.0), (404, 0.0), (405, 0.0), (409, 0.0), (411, 0.0), (415, 0.0), (417, 0.0), (418, 0.0), (421, 0.0), (422, 0.0), (423, 0.0), (424, 0.0), (425, 0.0), (426, 0.0), (427, 0.0), (435, 0.0), (438, 0.0), (439, 0.0), (454, 0.0), (459, 0.0), (460, 0.0), (462, 0.0), (467, 0.0), (468, 0.0), (469, 0.0), (474, 0.0), (477, 0.0), (486, 0.0), (492, 0.0), (494, 0.0), (497, 0.0), (498, 0.0), (500, 0.0), (501, 0.0), (503, 0.0), (506, 0.0), (511, 0.0), (512, 0.0), (514, 0.0), (516, 0.0), (517, 0.0), (520, 0.0), (521, 0.0), (525, 0.0), (528, 0.0), (529, 0.0), (530, 0.0), (531, 0.0), (532, 0.0), (535, 0.0), (536, 0.0), (537, 0.0), (538, 0.0), (539, 0.0), (540, 0.0), (545, 0.0), (546, 0.0), (548, 0.0), (549, 0.0), (552, 0.0), (553, 0.0), (554, 0.0), (555, 0.0), (556, 0.0), (557, 0.0), (559, 0.0), (560, 0.0), (561, 0.0), (565, 0.0), (567, 0.0), (568, 0.0), (569, 0.0), (570, 0.0), (572, 0.0), (573, 0.0), (574, 0.0), (575, 0.0), (582, 0.0), (583, 0.0), (585, 0.0), (591, 0.0), (595, 0.0), (599, 0.0), (600, 0.0), (601, 0.0), (602, 0.0), (603, 0.0), (610, 0.0), (613, 0.0), (615, 0.0), (618, 0.0), (619, 0.0), (625, 0.0), (629, 0.0), (630, 0.0), (632, 0.0), (634, 0.0), (635, 0.0), (639, 0.0), (640, 0.0), (648, 0.0), (649, 0.0), (650, 0.0), (654, 0.0), (656, 0.0), (661, 0.0), (662, 0.0), (663, 0.0), (665, 0.0), (666, 0.0), (668, 0.0), (674, 0.0), (677, 0.0), (679, 0.0), (681, 0.0), (682, 0.0), (685, 0.0), (686, 0.0), (687, 0.0), (690, 0.0), (700, 0.0), (704, 0.0), (713, 0.0), (714, 0.0), (718, 0.0), (720, 0.0), (723, 0.0), (724, 0.0), (725, 0.0), (726, 0.0), (730, 0.0), (736, 0.0), (738, 0.0), (741, 0.0), (745, 0.0), (747, 0.0), (748, 0.0), (752, 0.0), (754, 0.0), (756, 0.0), (758, 0.0), (760, 0.0), (762, 0.0), (763, 0.0), (764, 0.0), (765, 0.0), (768, 0.0), (770, 0.0), (771, 0.0), (772, 0.0), (773, 0.0), (775, 0.0), (776, 0.0), (778, 0.0), (779, 0.0), (780, 0.0), (781, 0.0), (784, 0.0), (785, 0.0), (786, 0.0), (789, 0.0), (793, 0.0), (795, 0.0), (801, 0.0), (802, 0.0), (803, 0.0), (807, 0.0), (809, 0.0), (810, 0.0), (811, 0.0), (814, 0.0), (819, 0.0), (820, 0.0), (821, 0.0), (822, 0.0), (825, 0.0), (827, 0.0), (837, 0.0), (839, 0.0), (840, 0.0), (846, 0.0), (849, 0.0), (862, 0.0), (869, 0.0), (873, 0.0), (875, 0.0), (877, 0.0), (881, 0.0), (882, 0.0), (891, 0.0), (892, 0.0), (893, 0.0), (898, 0.0), (902, 0.0), (904, 0.0), (905, 0.0), (906, 0.0), (908, 0.0), (909, 0.0), (912, 0.0), (913, 0.0), (914, 0.0), (915, 0.0), (916, 0.0), (918, 0.0), (919, 0.0), (920, 0.0), (926, 0.0), (927, 0.0), (928, 0.0), (931, 0.0), (932, 0.0), (938, 0.0), (943, 0.0), (945, 0.0), (946, 0.0), (948, 0.0), (954, 0.0), (955, 0.0), (956, 0.0), (960, 0.0), (961, 0.0), (964, 0.0), (965, 0.0), (970, 0.0), (971, 0.0), (972, 0.0), (974, 0.0), (976, 0.0), (977, 0.0), (978, 0.0), (979, 0.0), (982, 0.0), (983, 0.0), (990, 0.0), (992, 0.0), (996, 0.0), (997, 0.0), (1008, 0.0), (1010, 0.0), (1011, 0.0), (1012, 0.0), (1014, 0.0), (1016, 0.0), (1018, 0.0), (1022, 0.0), (1024, 0.0), (1025, 0.0), (1028, 0.0), (1038, 0.0), (1039, 0.0), (1045, 0.0), (1046, 0.0), (1047, 0.0), (1051, 0.0), (1054, 0.0), (1056, 0.0), (1057, 0.0), (1061, 0.0), (1063, 0.0), (1066, 0.0), (1068, 0.0), (1069, 0.0), (1070, 0.0), (1073, 0.0), (1076, 0.0), (1081, 0.0), (1082, 0.0), (1085, 0.0), (1086, 0.0), (1089, 0.0), (1092, 0.0), (1093, 0.0), (1094, 0.0), (1095, 0.0), (1099, 0.0), (1101, 0.0), (1103, 0.0), (1104, 0.0), (1105, 0.0), (1111, 0.0), (1113, 0.0), (1115, 0.0), (1116, 0.0), (1118, 0.0), (1125, 0.0), (1126, 0.0), (1127, 0.0), (1128, 0.0), (1129, 0.0), (1130, 0.0), (1133, 0.0), (1137, 0.0), (1142, 0.0), (1143, 0.0), (1146, 0.0), (1147, 0.0), (1149, 0.0), (1150, 0.0), (1151, 0.0), (1152, 0.0), (1153, 0.0), (1154, 0.0), (1155, 0.0), (1156, 0.0), (1157, 0.0), (1158, 0.0), (1159, 0.0), (1162, 0.0), (1164, 0.0), (1165, 0.0), (1166, 0.0), (1167, 0.0), (1171, 0.0), (1172, 0.0), (1180, 0.0), (1181, 0.0), (1189, 0.0), (1190, 0.0), (1193, 0.0), (1194, 0.0), (1195, 0.0), (1196, 0.0), (1197, 0.0), (1198, 0.0), (1200, 0.0), (1201, 0.0), (1205, 0.0), (1207, 0.0), (1210, 0.0), (1211, 0.0), (1212, 0.0), (1213, 0.0), (1214, 0.0), (1221, 0.0), (1222, 0.0), (1226, 0.0), (1228, 0.0), (1230, 0.0), (1231, 0.0), (1233, 0.0), (1235, 0.0), (1236, 0.0), (1240, 0.0), (1242, 0.0), (1244, 0.0), (1250, 0.0), (1253, 0.0), (1258, 0.0), (1259, 0.0), (1260, 0.0), (1262, 0.0), (1263, 0.0), (1265, 0.0), (1266, 0.0), (1268, 0.0), (1269, 0.0), (1270, 0.0), (1272, 0.0), (1276, 0.0), (1278, 0.0), (1280, 0.0), (1282, 0.0), (1283, 0.0), (1285, 0.0), (1287, 0.0), (1288, 0.0), (1291, 0.0), (1292, 0.0), (1293, 0.0), (1295, 0.0), (1296, 0.0), (1300, 0.0), (1302, 0.0), (1307, 0.0), (1309, 0.0), (1310, 0.0), (1311, 0.0), (1314, 0.0), (1316, 0.0), (1320, 0.0), (1321, 0.0), (1322, 0.0), (1323, 0.0), (1326, 0.0), (1328, 0.0), (1329, 0.0), (1330, 0.0), (1331, 0.0), (1332, 0.0), (1333, 0.0), (1336, 0.0), (1342, 0.0), (1343, 0.0), (1344, 0.0), (1346, 0.0), (1347, 0.0), (1348, 0.0), (1353, 0.0), (1354, 0.0), (1358, 0.0), (1361, 0.0), (1362, 0.0), (1363, 0.0), (1368, 0.0), (1371, 0.0), (1373, 0.0), (1374, 0.0), (1376, 0.0), (1379, 0.0), (1380, 0.0), (1381, 0.0), (1384, 0.0), (1386, 0.0), (1388, 0.0), (1389, 0.0), (1390, 0.0), (1391, 0.0), (1395, 0.0), (1396, 0.0), (1399, 0.0), (1401, 0.0), (1405, 0.0), (1406, 0.0), (1407, 0.0), (1412, 0.0), (1420, 0.0), (1425, 0.0), (1426, 0.0), (1428, 0.0), (1430, 0.0), (1431, 0.0), (1432, 0.0), (1435, 0.0), (1436, 0.0), (1437, 0.0), (1441, 0.0), (1443, 0.0), (1444, 0.0), (1445, 0.0), (1449, 0.0), (1451, 0.0), (1455, 0.0), (1457, 0.0), (1460, 0.0), (1461, 0.0), (1466, 0.0), (1467, 0.0), (1468, 0.0), (1469, 0.0), (1470, 0.0), (1473, 0.0), (1480, 0.0), (1482, 0.0), (1485, 0.0), (1486, 0.0), (1487, 0.0), (1490, 0.0), (1491, 0.0), (1492, 0.0), (1495, 0.0), (1501, 0.0), (1502, 0.0), (1504, 0.0), (1505, 0.0), (1507, 0.0), (1508, 0.0), (1517, 0.0), (1520, 0.0), (1521, 0.0), (1522, 0.0), (1523, 0.0), (1524, 0.0), (1525, 0.0), (1526, 0.0), (1529, 0.0), (1530, 0.0), (1531, 0.0), (1535, 0.0), (1540, 0.0), (1541, 0.0), (1545, 0.0), (1546, 0.0), (1549, 0.0), (1551, 0.0), (1552, 0.0), (1554, 0.0), (1556, 0.0), (1557, 0.0), (1559, 0.0), (1560, 0.0), (1561, 0.0), (1562, 0.0), (1563, 0.0), (1564, 0.0), (1566, 0.0), (1568, 0.0), (1569, 0.0), (1573, 0.0), (1575, 0.0), (1577, 0.0), (1578, 0.0), (1579, 0.0), (1581, 0.0), (1583, 0.0), (1584, 0.0), (1585, 0.0), (1586, 0.0), (1587, 0.0), (1588, 0.0), (1589, 0.0), (1590, 0.0), (1591, 0.0), (1592, 0.0), (1596, 0.0), (1599, 0.0), (1600, 0.0), (1601, 0.0), (1602, 0.0), (1603, 0.0), (1604, 0.0), (1606, 0.0), (1609, 0.0), (1610, 0.0), (1611, 0.0), (1613, 0.0), (1615, 0.0), (1618, 0.0), (1622, 0.0), (1623, 0.0), (1630, 0.0), (1632, 0.0), (1635, 0.0), (1636, 0.0), (1639, 0.0), (1644, 0.0), (1646, 0.0), (1647, 0.0), (1649, 0.0), (1651, 0.0), (1652, 0.0), (1657, 0.0), (1659, 0.0), (1661, 0.0), (1662, 0.0), (1664, 0.0), (1668, 0.0), (1673, 0.0), (1674, 0.0), (1676, 0.0), (1679, 0.0), (1681, 0.0), (1692, 0.0), (1694, 0.0), (1696, 0.0), (1697, 0.0), (1698, 0.0), (1699, 0.0), (1701, 0.0), (1702, 0.0), (1704, 0.0), (1705, 0.0), (1709, 0.0), (1713, 0.0), (1714, 0.0), (1715, 0.0), (1718, 0.0), (1720, 0.0), (1723, 0.0), (1724, 0.0), (1725, 0.0), (1726, 0.0), (1732, 0.0), (1734, 0.0), (1735, 0.0), (1738, 0.0), (1741, 0.0), (1745, 0.0), (1746, 0.0), (1749, 0.0), (1750, 0.0), (1751, 0.0), (1752, 0.0), (1753, 0.0), (1755, 0.0), (1756, 0.0), (1757, 0.0), (1758, 0.0), (1761, 0.0), (1767, 0.0), (1769, 0.0), (1770, 0.0), (1771, 0.0), (1772, 0.0), (1773, 0.0), (1775, 0.0), (1778, 0.0), (1781, 0.0), (1783, 0.0), (1784, 0.0), (1785, 0.0), (1786, 0.0), (1788, 0.0), (1789, 0.0), (1790, 0.0), (1794, 0.0), (1795, 0.0), (1797, 0.0), (1799, 0.0), (1800, 0.0), (1804, 0.0), (1806, 0.0), (1809, 0.0), (1810, 0.0), (1812, 0.0), (1815, 0.0), (1817, 0.0), (1818, 0.0), (1820, 0.0), (1823, 0.0), (1825, 0.0), (1829, 0.0), (1834, 0.0), (1835, 0.0), (1836, 0.0), (1837, 0.0), (1838, 0.0), (1839, 0.0), (1841, 0.0), (1842, 0.0), (1844, 0.0), (1846, 0.0), (1847, 0.0), (1849, 0.0), (1850, 0.0), (1852, 0.0), (1855, 0.0), (1856, 0.0), (1857, 0.0), (1859, 0.0), (1863, 0.0), (1867, 0.0), (1868, 0.0), (1870, 0.0), (1879, 0.0), (1880, 0.0), (1881, 0.0), (1883, 0.0), (1888, 0.0), (1889, 0.0), (1898, 0.0), (1900, 0.0), (1901, 0.0), (1904, 0.0), (1906, 0.0), (1908, 0.0), (1910, 0.0), (1911, 0.0), (1912, 0.0), (1913, 0.0), (1914, 0.0), (1917, 0.0), (1925, 0.0), (1927, 0.0), (1928, 0.0), (1930, 0.0), (1932, 0.0), (1933, 0.0), (1935, 0.0), (1937, 0.0), (1939, 0.0), (1940, 0.0), (1944, 0.0), (1945, 0.0), (1948, 0.0), (1949, 0.0), (1952, 0.0), (1953, 0.0), (1955, 0.0), (1957, 0.0), (1958, 0.0), (1963, 0.0), (1965, 0.0), (1966, 0.0), (1972, 0.0), (1974, 0.0), (1975, 0.0), (1976, 0.0), (1978, 0.0), (1981, 0.0), (1982, 0.0), (1986, 0.0), (1987, 0.0), (1990, 0.0), (1991, 0.0), (1998, 0.0), (1999, 0.0), (2001, 0.0), (2002, 0.0), (2003, 0.0), (2005, 0.0), (2006, 0.0), (2009, 0.0), (2012, 0.0), (2013, 0.0), (2014, 0.0), (2015, 0.0), (2017, 0.0), (2018, 0.0), (2019, 0.0), (2020, 0.0), (2021, 0.0), (2022, 0.0), (2025, 0.0), (2026, 0.0), (2028, 0.0), (2030, 0.0), (2032, 0.0), (2033, 0.0), (2038, 0.0), (2041, 0.0), (2042, 0.0), (2043, 0.0), (2044, 0.0), (2046, 0.0), (2050, 0.0), (2052, 0.0), (2054, 0.0), (2057, 0.0), (2058, 0.0), (2059, 0.0), (2062, 0.0), (2063, 0.0), (2064, 0.0), (2066, 0.0), (2071, 0.0), (2074, 0.0), (2077, 0.0), (2078, 0.0), (2079, 0.0), (2081, 0.0), (2084, 0.0), (2086, 0.0), (2090, 0.0), (2092, 0.0), (2094, 0.0), (2095, 0.0), (2100, 0.0), (2106, 0.0), (2107, 0.0), (2113, 0.0), (2114, 0.0), (2115, 0.0), (2118, 0.0), (2119, 0.0), (2120, 0.0), (2124, 0.0), (2125, 0.0), (2128, 0.0), (2130, 0.0), (2135, 0.0), (2136, 0.0), (2138, 0.0), (2139, 0.0), (2140, 0.0), (2145, 0.0), (2147, 0.0), (2150, 0.0), (2152, 0.0), (2153, 0.0), (2158, 0.0), (2164, 0.0), (2165, 0.0), (2167, 0.0), (2170, 0.0), (2171, 0.0), (2172, 0.0), (2175, 0.0), (2177, 0.0), (2178, 0.0), (2179, 0.0), (2180, 0.0), (2181, 0.0), (2182, 0.0), (2183, 0.0), (2184, 0.0), (2185, 0.0), (2186, 0.0), (2194, 0.0), (2197, 0.0), (2198, 0.0), (2200, 0.0), (2202, 0.0), (2203, 0.0), (2204, 0.0), (2207, 0.0), (2208, 0.0), (2215, 0.0), (2217, 0.0), (2218, 0.0), (2220, 0.0), (2222, 0.0), (2225, 0.0), (2228, 0.0), (2231, 0.0), (2232, 0.0), (2233, 0.0), (2235, 0.0), (2238, 0.0), (2239, 0.0), (2241, 0.0), (2243, 0.0), (2244, 0.0), (2245, 0.0), (2246, 0.0), (2247, 0.0), (2252, 0.0), (2253, 0.0), (2256, 0.0), (2258, 0.0), (2259, 0.0), (2261, 0.0), (2262, 0.0), (2263, 0.0), (2267, 0.0), (2272, 0.0), (2273, 0.0), (2274, 0.0), (2275, 0.0), (2276, 0.0), (2278, 0.0), (2280, 0.0), (2281, 0.0), (2282, 0.0), (2283, 0.0), (2291, 0.0), (2294, 0.0), (2296, 0.0), (2300, 0.0), (2304, 0.0), (2307, 0.0), (2308, 0.0), (2311, 0.0), (2312, 0.0), (2316, 0.0), (2318, 0.0), (2325, 0.0), (2327, 0.0), (2328, 0.0), (2329, 0.0), (2330, 0.0), (2331, 0.0), (2332, 0.0), (2336, 0.0), (2337, 0.0), (2341, 0.0), (2342, 0.0), (2343, 0.0), (2345, 0.0), (2351, 0.0), (2352, 0.0), (2353, 0.0), (2357, 0.0), (2358, 0.0), (2363, 0.0), (2364, 0.0), (2365, 0.0), (2366, 0.0), (2368, 0.0), (2369, 0.0), (2371, 0.0), (2372, 0.0), (2373, 0.0), (2376, 0.0), (2377, 0.0), (2380, 0.0), (2383, 0.0), (2384, 0.0), (2389, 0.0), (2395, 0.0), (2398, 0.0), (2408, 0.0), (2409, 0.0), (2413, 0.0), (2414, 0.0), (2420, 0.0), (2421, 0.0), (2424, 0.0), (2426, 0.0), (2431, 0.0), (2432, 0.0), (2433, 0.0), (2435, 0.0), (2439, 0.0), (2442, 0.0), (2444, 0.0), (2445, 0.0), (2449, 0.0), (2450, 0.0), (2451, 0.0), (2452, 0.0), (2455, 0.0), (2456, 0.0), (2458, 0.0), (2460, 0.0), (2462, 0.0), (2465, 0.0), (2468, 0.0), (2470, 0.0), (2471, 0.0), (2472, 0.0), (2476, 0.0), (2479, 0.0), (2480, 0.0), (2483, 0.0), (2486, 0.0), (2491, 0.0), (2493, 0.0), (2497, 0.0), (2498, 0.0), (2499, 0.0), (2500, 0.0), (2501, 0.0), (2503, 0.0), (2504, 0.0), (2506, 0.0), (2508, 0.0), (2510, 0.0), (2511, 0.0), (2513, 0.0), (2514, 0.0), (2515, 0.0), (2516, 0.0), (2517, 0.0), (2518, 0.0), (2521, 0.0), (2523, 0.0), (2524, 0.0), (2532, 0.0), (2536, 0.0), (2543, 0.0), (2544, 0.0), (2548, 0.0), (2549, 0.0), (2562, 0.0), (2564, 0.0), (2566, 0.0), (2567, 0.0), (2573, 0.0), (2574, 0.0), (2575, 0.0), (2577, 0.0), (2578, 0.0), (2582, 0.0), (2583, 0.0), (2584, 0.0), (2586, 0.0), (2588, 0.0), (2589, 0.0), (2590, 0.0), (2594, 0.0), (2597, 0.0), (2599, 0.0), (2600, 0.0), (2604, 0.0), (2605, 0.0), (2615, 0.0), (2616, 0.0), (2618, 0.0), (2620, 0.0), (2622, 0.0), (2630, 0.0), (2631, 0.0), (2635, 0.0), (2637, 0.0), (2639, 0.0), (2644, 0.0), (2646, 0.0), (2648, 0.0), (2654, 0.0), (2656, 0.0), (2657, 0.0), (2658, 0.0), (2659, 0.0), (2660, 0.0), (2662, 0.0), (2663, 0.0), (2665, 0.0), (2666, 0.0), (2667, 0.0), (2669, 0.0), (2670, 0.0), (2671, 0.0), (2675, 0.0), (2676, 0.0), (2677, 0.0), (2680, 0.0), (2681, 0.0), (2683, 0.0), (2684, 0.0), (2685, 0.0), (2686, 0.0), (2689, 0.0), (2690, 0.0), (2700, 0.0), (2701, 0.0), (2703, 0.0), (2704, 0.0), (2708, 0.0), (2711, 0.0), (2713, 0.0), (2715, 0.0), (2717, 0.0), (2718, 0.0), (2719, 0.0), (2727, 0.0), (2730, 0.0), (2732, 0.0), (2733, 0.0), (2734, 0.0), (2736, 0.0), (2737, 0.0), (2749, 0.0), (2750, 0.0), (2751, 0.0), (2754, 0.0), (2756, 0.0), (2763, 0.0), (2770, 0.0), (2773, 0.0), (2774, 0.0), (2780, 0.0), (2781, 0.0), (2788, 0.0), (2789, 0.0), (2790, 0.0), (2791, 0.0), (2794, 0.0), (2799, 0.0), (2801, 0.0), (2805, 0.0), (2806, 0.0), (2807, 0.0), (2810, 0.0), (2813, 0.0), (2814, 0.0), (2815, 0.0), (2816, 0.0), (2817, 0.0), (2818, 0.0), (2819, 0.0), (2820, 0.0), (2822, 0.0), (2823, 0.0), (2824, 0.0), (2827, 0.0), (2828, 0.0), (2829, 0.0), (2833, 0.0), (2835, 0.0), (2836, 0.0), (2837, 0.0), (2842, 0.0), (2847, 0.0), (2850, 0.0), (2851, 0.0), (2855, 0.0), (2860, 0.0), (2864, 0.0), (2865, 0.0), (2866, 0.0), (2867, 0.0), (2869, 0.0), (2871, 0.0), (2873, 0.0), (2874, 0.0), (2875, 0.0), (2877, 0.0), (2880, 0.0), (2885, 0.0), (2891, 0.0), (2897, 0.0), (2898, 0.0), (2905, 0.0), (2906, 0.0), (2913, 0.0), (2918, 0.0), (2921, 0.0), (2922, 0.0), (2927, 0.0), (2928, 0.0), (2930, 0.0), (2935, 0.0), (2938, 0.0), (2939, 0.0), (2941, 0.0), (2944, 0.0), (2947, 0.0), (2948, 0.0), (2950, 0.0), (2951, 0.0), (2952, 0.0), (2955, 0.0), (2956, 0.0), (2958, 0.0), (2959, 0.0), (2960, 0.0), (2963, 0.0), (2967, 0.0), (2968, 0.0), (2971, 0.0), (2973, 0.0), (2978, 0.0), (2979, 0.0), (2982, 0.0), (2983, 0.0), (2984, 0.0), (2990, 0.0), (2991, 0.0), (2994, 0.0), (3001, 0.0), (3002, 0.0), (3005, 0.0), (3006, 0.0), (3011, 0.0), (3017, 0.0), (3018, 0.0), (3021, 0.0), (3022, 0.0), (3023, 0.0), (3025, 0.0), (3029, 0.0), (3033, 0.0), (3038, 0.0), (3039, 0.0), (3041, 0.0), (3045, 0.0), (3047, 0.0), (3048, 0.0), (3049, 0.0), (3053, 0.0), (3054, 0.0), (3058, 0.0), (3059, 0.0), (3060, 0.0), (3061, 0.0), (3063, 0.0), (3068, 0.0), (3070, 0.0), (3077, 0.0), (3078, 0.0), (3079, 0.0), (3080, 0.0), (3082, 0.0), (3083, 0.0), (3085, 0.0), (3087, 0.0), (3088, 0.0), (3089, 0.0), (3090, 0.0), (3099, 0.0), (3100, 0.0), (3102, 0.0), (3103, 0.0), (3104, 0.0), (3105, 0.0), (3106, 0.0), (3107, 0.0), (3109, 0.0), (3110, 0.0), (3114, 0.0), (3115, 0.0), (3117, 0.0), (3118, 0.0), (3121, 0.0), (3124, 0.0), (3126, 0.0), (3127, 0.0), (3129, 0.0), (3130, 0.0), (3131, 0.0), (3132, 0.0), (3133, 0.0), (3134, 0.0), (3135, 0.0), (3136, 0.0), (3138, 0.0), (3141, 0.0), (3142, 0.0), (3143, 0.0), (3144, 0.0), (3145, 0.0), (3156, 0.0), (3158, 0.0), (3160, 0.0), (3161, 0.0), (3162, 0.0), (3164, 0.0), (3168, 0.0), (3169, 0.0), (3172, 0.0), (3175, 0.0), (3176, 0.0), (3179, 0.0), (3180, 0.0), (3181, 0.0), (3185, 0.0), (3188, 0.0), (3190, 0.0), (3191, 0.0), (3192, 0.0), (3193, 0.0), (3197, 0.0), (3201, 0.0), (3202, 0.0), (3203, 0.0), (3204, 0.0), (3205, 0.0), (3207, 0.0), (3208, 0.0), (3209, 0.0), (3212, 0.0), (3213, 0.0), (3215, 0.0), (3217, 0.0), (3221, 0.0), (3222, 0.0), (3223, 0.0), (3231, 0.0), (3232, 0.0), (3236, 0.0), (3244, 0.0), (3247, 0.0), (3250, 0.0), (3251, 0.0), (3253, 0.0), (3255, 0.0), (3259, 0.0), (3261, 0.0), (3265, 0.0), (3266, 0.0), (3270, 0.0), (3272, 0.0), (3277, 0.0), (3279, 0.0), (3286, 0.0), (3287, 0.0), (3295, 0.0), (3309, 0.0), (3312, 0.0), (3319, 0.0), (3320, 0.0), (3321, 0.0), (3323, 0.0), (3324, 0.0), (3334, 0.0), (3338, 0.0), (3340, 0.0), (3345, 0.0), (3356, 0.0), (3361, 0.0), (3366, 0.0), (3367, 0.0), (3368, 0.0), (3371, 0.0), (3377, 0.0), (3378, 0.0), (3383, 0.0), (3384, 0.0), (3385, 0.0), (3387, 0.0), (3394, 0.0), (3397, 0.0), (3398, 0.0), (3404, 0.0), (3405, 0.0), (3411, 0.0), (3416, 0.0), (3420, 0.0), (3422, 0.0), (3424, 0.0), (3427, 0.0), (3428, 0.0), (3429, 0.0), (3432, 0.0), (3439, 0.0), (3442, 0.0), (3444, 0.0), (3446, 0.0), (3448, 0.0), (3451, 0.0), (3454, 0.0), (3457, 0.0), (3459, 0.0), (3461, 0.0), (3462, 0.0), (3465, 0.0), (3467, 0.0), (3468, 0.0), (3470, 0.0), (3472, 0.0), (3473, 0.0), (3475, 0.0), (3476, 0.0), (3480, 0.0), (3481, 0.0), (3482, 0.0), (3484, 0.0), (3485, 0.0), (3486, 0.0), (3488, 0.0), (3489, 0.0), (3490, 0.0), (3494, 0.0), (3495, 0.0), (3502, 0.0), (3505, 0.0), (3507, 0.0), (3508, 0.0), (3509, 0.0), (3510, 0.0), (3513, 0.0), (3515, 0.0), (3518, 0.0), (3519, 0.0), (3520, 0.0), (3522, 0.0), (3525, 0.0), (3528, 0.0), (3529, 0.0), (3530, 0.0), (3531, 0.0), (3532, 0.0), (3539, 0.0), (3543, 0.0), (3545, 0.0), (3547, 0.0), (3549, 0.0), (3550, 0.0), (3554, 0.0), (3555, 0.0), (3559, 0.0), (3562, 0.0), (3566, 0.0), (3568, 0.0), (3570, 0.0), (3573, 0.0), (3574, 0.0), (3576, 0.0), (3578, 0.0), (3580, 0.0), (3581, 0.0), (3582, 0.0), (3586, 0.0), (3588, 0.0), (3589, 0.0), (3591, 0.0), (3592, 0.0), (3594, 0.0), (3595, 0.0), (3597, 0.0), (3600, 0.0), (3602, 0.0), (3603, 0.0), (3604, 0.0), (3605, 0.0), (3607, 0.0), (3609, 0.0), (3610, 0.0), (3617, 0.0), (3622, 0.0), (3625, 0.0), (3630, 0.0), (3631, 0.0), (3633, 0.0), (3644, 0.0), (3648, 0.0), (3649, 0.0), (3652, 0.0), (3659, 0.0), (3663, 0.0), (3664, 0.0), (3671, 0.0), (3674, 0.0), (3676, 0.0), (3679, 0.0), (3683, 0.0), (3684, 0.0), (3686, 0.0), (3688, 0.0), (3690, 0.0), (3693, 0.0), (3697, 0.0), (3698, 0.0), (3702, 0.0), (3703, 0.0), (3708, 0.0), (3710, 0.0), (3713, 0.0), (3715, 0.0), (3716, 0.0), (3717, 0.0), (3718, 0.0), (3720, 0.0), (3721, 0.0), (3722, 0.0), (3723, 0.0), (3724, 0.0), (3726, 0.0), (3731, 0.0), (3735, 0.0), (3736, 0.0), (3738, 0.0), (3740, 0.0), (3741, 0.0), (3743, 0.0), (3744, 0.0), (3746, 0.0), (3747, 0.0), (3748, 0.0), (3750, 0.0), (3752, 0.0), (3753, 0.0), (3758, 0.0), (3759, 0.0), (3760, 0.0), (3761, 0.0), (3768, 0.0), (3769, 0.0), (3773, 0.0), (3774, 0.0), (3775, 0.0), (3776, 0.0), (3782, 0.0), (3783, 0.0), (3785, 0.0), (3786, 0.0), (3787, 0.0), (3788, 0.0), (3789, 0.0), (3791, 0.0), (3793, 0.0), (3794, 0.0), (3796, 0.0), (3798, 0.0), (3800, 0.0), (3802, 0.0), (3805, 0.0), (3806, 0.0), (3808, 0.0), (3810, 0.0), (3812, 0.0), (3814, 0.0), (3815, 0.0), (3816, 0.0), (3817, 0.0), (3818, 0.0), (3820, 0.0), (3823, 0.0), (3824, 0.0), (3825, 0.0), (3830, 0.0), (3833, 0.0), (3834, 0.0), (3836, 0.0), (3837, 0.0), (3838, 0.0), (3840, 0.0), (3842, 0.0), (3843, 0.0), (3846, 0.0), (3847, 0.0), (3850, 0.0), (3851, 0.0), (3853, 0.0), (3859, 0.0), (3861, 0.0), (3864, 0.0), (3865, 0.0), (3869, 0.0), (3870, 0.0), (3871, 0.0), (3881, 0.0), (3885, 0.0), (3886, 0.0), (3887, 0.0), (3891, 0.0), (3896, 0.0), (3897, 0.0), (3907, 0.0), (3908, 0.0), (3909, 0.0), (3912, 0.0), (3914, 0.0), (3918, 0.0), (3921, 0.0), (3923, 0.0), (3926, 0.0), (3929, 0.0), (3930, 0.0), (3931, 0.0), (3933, 0.0), (3934, 0.0), (3936, 0.0), (3937, 0.0), (3938, 0.0), (3940, 0.0), (3942, 0.0), (3943, 0.0), (3944, 0.0), (3946, 0.0), (3947, 0.0), (3948, 0.0), (3949, 0.0), (3950, 0.0), (3955, 0.0), (3958, 0.0), (3963, 0.0), (3964, 0.0), (3965, 0.0), (3966, 0.0), (3968, 0.0), (3969, 0.0), (3970, 0.0), (3971, 0.0), (3972, 0.0), (3975, 0.0), (3976, 0.0), (3977, 0.0), (3979, 0.0), (3981, 0.0), (3982, 0.0), (3988, 0.0), (3989, 0.0), (3991, 0.0), (3993, 0.0), (3994, 0.0), (3995, 0.0), (3996, 0.0), (3998, 0.0), (4001, 0.0), (4006, 0.0), (4007, 0.0), (4008, 0.0), (4009, 0.0), (4010, 0.0), (4012, 0.0), (4018, 0.0), (4021, 0.0), (4022, 0.0), (4026, 0.0), (4028, 0.0), (4029, 0.0), (4031, 0.0), (4034, 0.0), (4035, 0.0), (4037, 0.0), (4039, 0.0), (4040, 0.0), (4041, 0.0), (4043, 0.0), (4044, 0.0), (4045, 0.0), (4047, 0.0), (4050, 0.0), (4055, 0.0), (4057, 0.0), (4058, 0.0), (4063, 0.0), (4065, 0.0), (4067, 0.0), (4070, 0.0), (4071, 0.0), (4072, 0.0), (4073, 0.0), (4076, 0.0), (4077, 0.0), (4078, 0.0), (4084, 0.0), (4086, 0.0), (4088, 0.0), (4090, 0.0), (4091, 0.0), (4093, 0.0), (4094, 0.0), (4099, 0.0), (4100, 0.0), (4103, 0.0), (4105, 0.0), (4106, 0.0), (4108, 0.0), (4109, 0.0), (4112, 0.0), (4114, 0.0), (4115, 0.0), (4118, 0.0), (4119, 0.0), (4121, 0.0), (4125, 0.0), (4127, 0.0), (4128, 0.0), (4131, 0.0), (4134, 0.0), (4144, 0.0), (4146, 0.0), (4149, 0.0), (4150, 0.0), (4153, 0.0), (4157, 0.0), (4158, 0.0), (4159, 0.0), (4162, 0.0), (4164, 0.0), (4165, 0.0), (4166, 0.0), (4167, 0.0), (4168, 0.0), (4170, 0.0), (4177, 0.0), (4179, 0.0), (4180, 0.0), (4184, 0.0), (4185, 0.0), (4188, 0.0), (4190, 0.0), (4191, 0.0), (4193, 0.0), (4194, 0.0), (4195, 0.0), (4196, 0.0), (4198, 0.0), (4199, 0.0), (4201, 0.0), (4204, 0.0), (4207, 0.0), (4208, 0.0), (4210, 0.0), (4211, 0.0), (4212, 0.0), (4214, 0.0), (4215, 0.0), (4216, 0.0), (4218, 0.0), (4219, 0.0), (4223, 0.0), (4224, 0.0), (4227, 0.0), (4229, 0.0), (4233, 0.0), (4234, 0.0), (4236, 0.0), (4237, 0.0), (4238, 0.0), (4239, 0.0), (4240, 0.0), (4241, 0.0), (4248, 0.0), (4250, 0.0), (4251, 0.0), (4252, 0.0), (4253, 0.0), (4258, 0.0), (4260, 0.0), (4261, 0.0), (4265, 0.0), (4270, 0.0), (4271, 0.0), (4274, 0.0), (4275, 0.0), (4276, 0.0), (4278, 0.0), (4279, 0.0), (4281, 0.0), (4290, 0.0), (4291, 0.0), (4292, 0.0), (4294, 0.0), (4297, 0.0), (4300, 0.0), (4302, 0.0), (4303, 0.0), (4307, 0.0), (4310, 0.0), (4312, 0.0), (4313, 0.0), (4314, 0.0), (4315, 0.0), (4316, 0.0), (4317, 0.0), (4322, 0.0), (4323, 0.0), (4324, 0.0), (4325, 0.0), (4328, 0.0), (4329, 0.0), (4331, 0.0), (4332, 0.0), (4337, 0.0), (4341, 0.0), (4342, 0.0), (4346, 0.0), (4347, 0.0), (4351, 0.0), (4352, 0.0), (4353, 0.0), (4358, 0.0), (4360, 0.0), (4364, 0.0), (4365, 0.0), (4366, 0.0), (4367, 0.0), (4370, 0.0), (4372, 0.0), (4373, 0.0), (4376, 0.0), (4377, 0.0), (4378, 0.0), (4380, 0.0), (4383, 0.0), (4384, 0.0), (4385, 0.0), (4388, 0.0), (4389, 0.0), (4390, 0.0), (4392, 0.0), (4393, 0.0), (4405, 0.0), (4406, 0.0), (4408, 0.0), (4410, 0.0), (4413, 0.0), (4414, 0.0), (4415, 0.0), (4417, 0.0), (4421, 0.0), (4424, 0.0), (4425, 0.0), (4426, 0.0), (4434, 0.0), (4437, 0.0), (4438, 0.0), (4439, 0.0), (4440, 0.0), (4449, 0.0), (4450, 0.0), (4452, 0.0), (4454, 0.0), (4455, 0.0), (4456, 0.0), (4457, 0.0), (4459, 0.0), (4460, 0.0), (4462, 0.0), (4463, 0.0), (4464, 0.0), (4466, 0.0), (4467, 0.0), (4478, 0.0), (4480, 0.0), (4481, 0.0), (4482, 0.0), (4483, 0.0), (4486, 0.0), (4488, 0.0), (4491, 0.0), (4492, 0.0), (4493, 0.0), (4496, 0.0), (4498, 0.0), (4499, 0.0), (4506, 0.0), (4508, 0.0), (4509, 0.0), (4510, 0.0), (4512, 0.0), (4513, 0.0), (4514, 0.0), (4515, 0.0), (4518, 0.0), (4519, 0.0), (4524, 0.0), (4525, 0.0), (4526, 0.0), (4527, 0.0), (4532, 0.0), (4534, 0.0), (4537, 0.0), (4538, 0.0), (4541, 0.0), (4542, 0.0), (4543, 0.0), (4547, 0.0), (4548, 0.0), (4549, 0.0), (4553, 0.0), (4556, 0.0), (4557, 0.0), (4558, 0.0), (4559, 0.0), (4560, 0.0), (4561, 0.0), (4562, 0.0), (4564, 0.0), (4565, 0.0), (4570, 0.0), (4577, 0.0), (4578, 0.0), (4580, 0.0), (4581, 0.0), (4582, 0.0), (4583, 0.0), (4585, 0.0), (4586, 0.0), (4587, 0.0), (4588, 0.0), (4592, 0.0), (4595, 0.0), (4599, 0.0), (4609, 0.0), (4613, 0.0), (4615, 0.0), (4618, 0.0), (4622, 0.0), (4628, 0.0), (4630, 0.0), (4631, 0.0), (4635, 0.0), (4639, 0.0), (4642, 0.0), (4644, 0.0), (4645, 0.0), (4646, 0.0), (4648, 0.0), (4651, 0.0), (4653, 0.0), (4654, 0.0), (4655, 0.0), (4659, 0.0), (4663, 0.0), (4664, 0.0), (4666, 0.0), (4671, 0.0), (4672, 0.0), (4675, 0.0), (4676, 0.0), (4678, 0.0), (4681, 0.0), (4683, 0.0), (4684, 0.0), (4688, 0.0), (4689, 0.0), (4690, 0.0), (4691, 0.0), (4695, 0.0), (4697, 0.0), (4698, 0.0), (4700, 0.0), (4702, 0.0), (4708, 0.0), (4709, 0.0), (4711, 0.0), (4714, 0.0), (4716, 0.0), (4720, 0.0), (4721, 0.0), (4725, 0.0), (4726, 0.0), (4727, 0.0), (4728, 0.0), (4730, 0.0), (4736, 0.0), (4737, 0.0), (4738, 0.0), (4741, 0.0), (4742, 0.0), (4745, 0.0), (4746, 0.0), (4747, 0.0), (4750, 0.0), (4751, 0.0), (4754, 0.0), (4755, 0.0), (4758, 0.0), (4759, 0.0)]\n"
          ]
        }
      ]
    },
    {
      "cell_type": "code",
      "source": [
        "print('Top 10 Movies Suggested for you : \\n')\n",
        "\n",
        "i = 1\n",
        "\n",
        "for movie in Sorted_Similar_Movies:\n",
        "  index = movie[0]\n",
        "  title_from_index = df[df.index==index]['Movie_Title'].values[0]\n",
        "  if (i<11):\n",
        "    print(i, '.',title_from_index)\n",
        "    i+=1"
      ],
      "metadata": {
        "colab": {
          "base_uri": "https://localhost:8080/"
        },
        "id": "3VGuLH9AWJlV",
        "outputId": "74478935-b230-4a2f-acbf-8432eeaa26c1"
      },
      "execution_count": null,
      "outputs": [
        {
          "output_type": "stream",
          "name": "stdout",
          "text": [
            "Top 10 Movies Suggested for you : \n",
            "\n",
            "1 . American Beauty\n",
            "2 . The Rage: Carrie 2\n",
            "3 . Losin' It\n",
            "4 . Jason Goes to Hell: The Final Friday\n",
            "5 . The Boy Next Door\n",
            "6 . Factory Girl\n",
            "7 . Love Actually\n",
            "8 . Brooklyn's Finest\n",
            "9 . The Wraith\n",
            "10 . Porky's\n"
          ]
        }
      ]
    }
  ]
}